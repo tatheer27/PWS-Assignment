{
  "nbformat": 4,
  "nbformat_minor": 0,
  "metadata": {
    "colab": {
      "provenance": []
    },
    "kernelspec": {
      "name": "python3",
      "display_name": "Python 3"
    },
    "language_info": {
      "name": "python"
    }
  },
  "cells": [
    {
      "cell_type": "markdown",
      "source": [
        "#**RESTFUL API AND FLASK**"
      ],
      "metadata": {
        "id": "-1WdBK9iyKnq"
      }
    },
    {
      "cell_type": "markdown",
      "source": [
        "#**THEORY QUESTIONS**"
      ],
      "metadata": {
        "id": "ooM510efATM8"
      }
    },
    {
      "cell_type": "markdown",
      "source": [
        "**1. What is a RESTful API?**\n",
        "-  A RESTful API (Representational State Transfer) is an architectural style for designing networked applications. It uses standard HTTP methods (GET, POST, PUT, DELETE) to perform CRUD operations on resources, typically represented in JSON format.\n",
        "\n"
      ],
      "metadata": {
        "id": "xwYeQprvAlhY"
      }
    },
    {
      "cell_type": "markdown",
      "source": [
        "**2. Explain the concept of API specification.**\n",
        "- An API specification is a detailed document that describes the endpoints, request/response formats, authentication methods, and error handling of an API. It serves as a blueprint for developers to understand how to interact with the API."
      ],
      "metadata": {
        "id": "tgX3OtVBBHqP"
      }
    },
    {
      "cell_type": "markdown",
      "source": [
        "**3. What is Flask, and why is it popular for building APIs?**\n",
        "- Flask is a lightweight web framework for Python that is easy to set up and use. It is popular for building APIs due to its simplicity, flexibility, and the ability to easily integrate with other libraries like SQLAlchemy and Marshmallow."
      ],
      "metadata": {
        "id": "M3csntLXBORW"
      }
    },
    {
      "cell_type": "markdown",
      "source": [
        "**4. What is routing in Flask?**\n",
        "- Routing in Flask refers to the mapping of URL paths to Python functions (view functions). It allows developers to define how the application responds to different HTTP requests."
      ],
      "metadata": {
        "id": "jx4hWAG-BUWd"
      }
    },
    {
      "cell_type": "markdown",
      "source": [
        "**5. How do you create a simple Flask application?**\n",
        "\n",
        "\n",
        "```\n",
        " from flask import Flask\n",
        "\n",
        "app = Flask(__name__)\n",
        "\n",
        "@app.route('/')\n",
        "def hello_world():\n",
        "    return 'Hello, World!'\n",
        "\n",
        "if __name__ == '__main__':\n",
        "    app.run(debug=True)\n",
        "\n",
        "```\n",
        "\n",
        "\n",
        "\n",
        "\n",
        "\n"
      ],
      "metadata": {
        "id": "FiAJOeAlBZ8X"
      }
    },
    {
      "cell_type": "markdown",
      "source": [
        "**6. What are HTTP methods used in RESTful APIs?**\n",
        "- Common HTTP methods used in RESTful APIs include:\n",
        "\n",
        "  - GET: Retrieve data.\n",
        "  - POST: Create new resources.\n",
        "  - PUT: Update existing resources.\n",
        "  - DELETE: Remove resources."
      ],
      "metadata": {
        "id": "WhXE_FvRCOcb"
      }
    },
    {
      "cell_type": "markdown",
      "source": [
        "**7. What is the purpose of the @app.route() decorator in Flask?**\n",
        "- The @app.route() decorator is used to define the URL path for a specific function in Flask. It associates a URL with a view function that will be executed when that URL is accessed."
      ],
      "metadata": {
        "id": "jwT9gLwgCaeM"
      }
    },
    {
      "cell_type": "markdown",
      "source": [
        "**8. What is the difference between GET and POST HTTP methods?**\n",
        "- GET: Used to retrieve data from the server. It is idempotent and can be cached.\n",
        "POST: Used to send data to the server to create or update a resource. It is not idempotent and cannot be cached."
      ],
      "metadata": {
        "id": "E_C5EoQXCoXJ"
      }
    },
    {
      "cell_type": "markdown",
      "source": [
        "**9. How do you handle errors in Flask APIs?**\n",
        "\n",
        "```\n",
        "@app.errorhandler(404)\n",
        "def not_found(error):\n",
        "    return jsonify({\"error\": \"Not found\"}), 404\n",
        "```\n",
        "\n"
      ],
      "metadata": {
        "id": "dIRgigmdCsBR"
      }
    },
    {
      "cell_type": "markdown",
      "source": [
        "**10.  How do you connect Flask to a SQL database?**\n",
        "\n",
        "```\n",
        "from flask_sqlalchemy import SQLAlchemy\n",
        "\n",
        "app.config['SQLALCHEMY_DATABASE_URI'] = 'sqlite:///example.db'\n",
        "db = SQLAlchemy(app)\n",
        "```\n",
        "\n"
      ],
      "metadata": {
        "id": "wIKGjFO_C0w3"
      }
    },
    {
      "cell_type": "markdown",
      "source": [
        "**11. What is the role of Flask-SQLAlchemy?**\n",
        "- Flask-SQLAlchemy is an extension that simplifies the integration of SQLAlchemy with Flask. It provides a higher-level API for database operations and helps manage database sessions."
      ],
      "metadata": {
        "id": "ofhhTEpSDA5W"
      }
    },
    {
      "cell_type": "markdown",
      "source": [
        "**12. What are Flask blueprints, and how are they useful?**\n",
        "- Flask blueprints are a way to organize Flask applications into modules. They allow you to define routes, templates, and static files in a modular way, making it easier to manage larger applications."
      ],
      "metadata": {
        "id": "F9FUUKEvDEdo"
      }
    },
    {
      "cell_type": "markdown",
      "source": [
        "**13. What is the purpose of Flask's request object?**\n",
        "- The request object in Flask contains data about the incoming HTTP request, including form data, query parameters, and headers. It allows you to access the data sent by the client.\n",
        "\n"
      ],
      "metadata": {
        "id": "7UrB4RL-DITZ"
      }
    },
    {
      "cell_type": "markdown",
      "source": [
        "** 14.How do you create a RESTful API endpoint using Flask?**\n",
        "- @app.route('/api/resource', methods=['GET'])\n",
        "def get_resource():\n",
        "    return jsonify({\"data\": \"Resource data\"})"
      ],
      "metadata": {
        "id": "7I5tyeBcZ-cv"
      }
    },
    {
      "cell_type": "markdown",
      "source": [
        "**15. What is the purpose of Flask's jsonify() function?**\n",
        "- The jsonify() function in Flask converts Python dictionaries or lists into JSON responses. It sets the appropriate content type and handles serialization.\n",
        "\n"
      ],
      "metadata": {
        "id": "u9FqLrO3aGxm"
      }
    },
    {
      "cell_type": "markdown",
      "source": [
        "**16. Explain Flask’s url_for() function.**\n",
        "- The url_for() function generates a URL to a specific function based on its name. It is useful for creating links to routes dynamically, ensuring that URLs are generated correctly.\n",
        "\n",
        "```\n",
        "url_for('hello')  # Generates the URL for the 'hello' function\n",
        "```\n",
        "\n"
      ],
      "metadata": {
        "id": "n4f_HjkRaKcj"
      }
    },
    {
      "cell_type": "markdown",
      "source": [
        "**17. How does Flask handle static files (CSS, JavaScript, etc.)?**\n",
        "- Flask serves static files from the static directory by default. You can access them using the /static/ URL prefix. For example, a file located at static/style.css can be accessed via /static/style.css.\n",
        "\n"
      ],
      "metadata": {
        "id": "_hii4tzbaSb_"
      }
    },
    {
      "cell_type": "markdown",
      "source": [
        "**18. What is an API specification, and how does it help in building a Flask API?**\n",
        "- An API specification outlines the structure and behavior of the API, including endpoints, request/response formats, and authentication. It helps developers understand how to interact with the API and ensures consistency in implementation."
      ],
      "metadata": {
        "id": "lyyizxsQabcd"
      }
    },
    {
      "cell_type": "markdown",
      "source": [
        "**19. What are HTTP status codes, and why are they important in a Flask API?**\n",
        "-  HTTP status codes indicate the result of an HTTP request. They are important in a Flask API to communicate the outcome of requests (e.g., 200 for success, 404 for not found, 500 for server error)."
      ],
      "metadata": {
        "id": "jV2fuGZPacTR"
      }
    },
    {
      "cell_type": "markdown",
      "source": [
        "**20. How do you handle POST requests in Flask?**\n",
        "-  POST requests can be handled using the @app.route() decorator with the methods argument:\n",
        "\n",
        "```\n",
        "@app.route('/api/resource', methods=['POST'])\n",
        "def create_resource():\n",
        "    data = request.json  # Access JSON data from the request\n",
        "    return jsonify({\"message\": \"Resource created\"}), 201\n",
        "```\n",
        "\n"
      ],
      "metadata": {
        "id": "Ic5J6nElafj2"
      }
    },
    {
      "cell_type": "markdown",
      "source": [
        "**21. How would you secure a Flask API?**\n",
        "-  secure a Flask API using:\n",
        "\n",
        "  - Authentication: Implement token-based authentication (e.g., JWT).\n",
        "  - Authorization: Control access to resources based on user roles.\n",
        "HTTPS: Use HTTPS to encrypt data in transit.\n"
      ],
      "metadata": {
        "id": "HhlskiT1amIl"
      }
    },
    {
      "cell_type": "markdown",
      "source": [
        "**22. What is the significance of the Flask-RESTful extension?**\n",
        "-  Flask-RESTful is an extension that simplifies the creation of RESTful APIs in Flask. It provides tools for building APIs, including resource classes, request parsing, and automatic response formatting.\n",
        "\n"
      ],
      "metadata": {
        "id": "Fg5ZctSwavE3"
      }
    },
    {
      "cell_type": "markdown",
      "source": [
        "**23.What is the role of Flask’s session object?**\n",
        " - The session object in Flask is used to store user-specific data across requests. It allows you to persist information like login status or user preferences during a user's session. The data is stored client-side in a secure cookie and behaves like a dictionary."
      ],
      "metadata": {
        "id": "T-9-dSRiav0X"
      }
    },
    {
      "cell_type": "markdown",
      "source": [
        "#**PRACTICAL QUESTIONS**"
      ],
      "metadata": {
        "id": "OlP4jbFkbA-k"
      }
    },
    {
      "cell_type": "markdown",
      "source": [
        "**1. How do you create a basic Flask application?**\n",
        "\n",
        "```\n",
        "from flask import Flask\n",
        "\n",
        "# Create an instance of the Flask class\n",
        "app = Flask(__name__)\n",
        "\n",
        "# Define a route for the root URL\n",
        "@app.route('/')\n",
        "def home():\n",
        "    return 'Hello, World!'\n",
        "\n",
        "# Run the app if the script is executed directly\n",
        "if __name__ == '__main__':\n",
        "    app.run(debug=True)\n",
        "\n",
        "```\n",
        "**OUTPUT:**\n",
        "When you visit http://127.0.0.1:5000/,\n",
        "\n",
        "```\n",
        "Hello, World!\n",
        "\n",
        "```\n",
        "\n",
        "\n"
      ],
      "metadata": {
        "id": "1dGWSPr2bFzM"
      }
    },
    {
      "cell_type": "markdown",
      "source": [
        "**2.How do you serve static files like images or CSS in Flask?**\n",
        "- Flask automatically looks for static files in a static folder in your project directory. To serve static files (like images, CSS, or JS), just place them inside the static folder.\n",
        "Example directory structure:\n",
        "\n",
        "```\n",
        "/myapp\n",
        "    /static\n",
        "        /images\n",
        "            logo.png\n",
        "        /css\n",
        "            styles.css\n",
        "    app.py\n",
        "\n",
        "```\n",
        "Then, you can link to static files in your HTML templates\n",
        "\n",
        "```\n",
        "<img src=\"{{ url_for('static', filename='images/logo.png') }}\" alt=\"Logo\">\n",
        "<link rel=\"stylesheet\" href=\"{{ url_for('static', filename='css/styles.css') }}\">\n",
        "\n",
        "```\n",
        "**OUTPUT:**\n",
        "If logo.png is in static/images/, the browser will show the image and apply the styles from styles.css.\n"
      ],
      "metadata": {
        "id": "9qWFEjlCjEfD"
      }
    },
    {
      "cell_type": "markdown",
      "source": [
        "**3. How do you define different routes with different HTTP methods in Flask?**\n",
        "- You can specify which HTTP methods a route should respond to using the methods argument in the @app.route() decorator.\n",
        "\n",
        "Example:\n",
        "\n",
        "```\n",
        "from flask import Flask, request\n",
        "\n",
        "app = Flask(__name__)\n",
        "\n",
        "@app.route('/submit', methods=['POST'])\n",
        "def submit():\n",
        "    data = request.form['data']\n",
        "    return f\"Received {data}\"\n",
        "\n",
        "@app.route('/submit', methods=['GET'])\n",
        "def get_form():\n",
        "    return '<form action=\"/submit\" method=\"post\"><input name=\"data\"><button>Submit</button></form>'\n",
        "\n",
        "```\n",
        "**OUTPUT:**\n",
        "GET request to /submit: Displays a form.\n",
        "\n",
        "```\n",
        "[Input field and submit button]\n",
        "\n",
        "```\n",
        "POST request to /submit (with form data): The response will be something like:\n",
        "\n",
        "```\n",
        "Received example_data\n",
        "\n",
        "```\n",
        "\n",
        "\n",
        "\n"
      ],
      "metadata": {
        "id": "4A3d4ggbj5nd"
      }
    },
    {
      "cell_type": "markdown",
      "source": [
        "**4. How do you render HTML templates in Flask?**\n",
        "- Flask uses the Jinja2 templating engine to render HTML templates. You use render_template to render an HTML file located in the templates directory.\n",
        "\n",
        "Example:\n",
        "\n",
        "1) Create a templates folder with an index.html file:\n",
        "\n",
        "\n",
        "```\n",
        "<!DOCTYPE html>\n",
        "<html lang=\"en\">\n",
        "<head>\n",
        "    <meta charset=\"UTF-8\">\n",
        "    <title>Flask App</title>\n",
        "</head>\n",
        "<body>\n",
        "    <h1>{{ message }}</h1>\n",
        "</body>\n",
        "</html>\n",
        "\n",
        "```\n",
        "2) In the app.py, render the template:\n",
        "\n",
        "```\n",
        "from flask import Flask, render_template\n",
        "\n",
        "app = Flask(__name__)\n",
        "\n",
        "@app.route('/')\n",
        "def home():\n",
        "    return render_template('index.html', message=\"Hello from Flask!\")\n",
        "\n",
        "if __name__ == '__main__':\n",
        "    app.run(debug=True)\n",
        "\n",
        "```\n",
        "\n",
        "**OUTPUT:**\n",
        "If you create a template index.html with content:\n",
        "\n",
        "```\n",
        "<h1>{{ message }}</h1>\n",
        "\n",
        "```\n",
        "\n",
        "When visiting /,\n",
        "\n",
        "```\n",
        "Hello from Flask!\n",
        "\n",
        "```\n",
        "\n",
        "\n",
        "\n",
        "\n",
        "\n"
      ],
      "metadata": {
        "id": "OPVBmMYGkSAl"
      }
    },
    {
      "cell_type": "markdown",
      "source": [
        "**5. How can you generate URLs for routes in Flask using url_for?**\n",
        "- Use url_for() to dynamically generate URLs for your routes. It’s useful when you want to avoid hardcoding URLs.\n",
        "\n",
        "Example:\n",
        "\n",
        "```\n",
        "from flask import Flask, url_for\n",
        "\n",
        "app = Flask(__name__)\n",
        "\n",
        "@app.route('/')\n",
        "def home():\n",
        "    return f'Welcome to the homepage! <a href=\"{url_for(\"about\")}\" >Go to About</a>'\n",
        "\n",
        "@app.route('/about')\n",
        "def about():\n",
        "    return 'This is the About page!'\n",
        "\n",
        "if __name__ == '__main__':\n",
        "    app.run(debug=True)\n",
        "\n",
        "```\n",
        "**OUTPUT:**\n",
        "When visiting / ,\n",
        "\n",
        "\n",
        "```\n",
        "Welcome to the homepage! [Go to About]\n",
        "\n",
        "```\n",
        "Clicking \"Go to About\" will redirect you to /about and show:\n",
        "\n",
        "```\n",
        "This is the About page!\n",
        "\n",
        "```\n",
        "\n",
        "\n",
        "\n"
      ],
      "metadata": {
        "id": "zOdEwNLMkrfD"
      }
    },
    {
      "cell_type": "markdown",
      "source": [
        "**6. How do you handle forms in Flask?**\n",
        "- Forms in Flask are handled using the request object to get form data.\n",
        "\n",
        "Example\n",
        "\n",
        "```\n",
        "<form action=\"/submit\" method=\"POST\">\n",
        "    <input type=\"text\" name=\"username\">\n",
        "    <button type=\"submit\">Submit</button>\n",
        "</form>\n",
        "\n",
        "```\n",
        "then, in the Flask app, access the form data:\n",
        "\n",
        "```\n",
        "from flask import Flask, request\n",
        "\n",
        "app = Flask(__name__)\n",
        "\n",
        "@app.route('/submit', methods=['POST'])\n",
        "def submit():\n",
        "    username = request.form['username']\n",
        "    return f'Hello, {username}!'\n",
        "\n",
        "if __name__ == '__main__':\n",
        "    app.run(debug=True)\n",
        "\n",
        "```\n",
        "\n",
        "**OUTPUT:**\n",
        "GET request to /submit: Displays a form for entering the username.\n",
        "\n",
        "```\n",
        "[Input field and submit button]\n",
        "\n",
        "```\n",
        "\n",
        "POST request to /submit with form data:\n",
        "\n",
        "\n",
        "```\n",
        "Hello, username_value!\n",
        "\n",
        "```\n",
        "\n",
        "\n",
        "\n"
      ],
      "metadata": {
        "id": "pV23es_2kxK5"
      }
    },
    {
      "cell_type": "markdown",
      "source": [
        "**7. How can you validate form data in Flask?**\n",
        "- You can use Python’s built-in methods or a library like WTForms to validate form data.\n",
        "\n",
        "Example\n",
        "\n",
        "```\n",
        "from flask import Flask, request, render_template_string\n",
        "\n",
        "app = Flask(__name__)\n",
        "\n",
        "@app.route('/submit', methods=['POST'])\n",
        "def submit():\n",
        "    username = request.form['username']\n",
        "    if len(username) < 3:\n",
        "        return \"Username must be at least 3 characters long.\"\n",
        "    return f'Hello, {username}!'\n",
        "\n",
        "if __name__ == '__main__':\n",
        "    app.run(debug=True)\n",
        "\n",
        "```\n",
        "**OUTPUT:**\n",
        "If the username is shorter than 3 characters:\n",
        "\n",
        "\n",
        "```\n",
        "Username must be at least 3 characters long.\n",
        "\n",
        "```\n",
        "If the username is valid (3 or more characters):\n",
        "\n",
        "\n",
        "\n",
        "```\n",
        "Hello, username_value!\n",
        "\n",
        "```\n",
        "\n",
        "\n"
      ],
      "metadata": {
        "id": "ehWf7RsElKYa"
      }
    },
    {
      "cell_type": "markdown",
      "source": [
        "**8. How do you manage sessions in Flask?**\n",
        "- Flask provides a built-in session object to manage user sessions\n",
        "\n",
        "```\n",
        "from flask import Flask, session, redirect, url_for\n",
        "\n",
        "app = Flask(__name__)\n",
        "app.secret_key = 'your_secret_key'  # Required for session to work\n",
        "\n",
        "@app.route('/login', methods=['POST'])\n",
        "def login():\n",
        "    session['username'] = request.form['username']\n",
        "    return redirect(url_for('profile'))\n",
        "\n",
        "@app.route('/profile')\n",
        "def profile():\n",
        "    username = session.get('username')\n",
        "    if username is None:\n",
        "        return redirect(url_for('login'))\n",
        "    return f'Welcome {username}!'\n",
        "\n",
        "if __name__ == '__main__':\n",
        "    app.run(debug=True)\n",
        "\n",
        "```\n",
        "**OUTPUT:**\n",
        "If you post a username to /login, it will save it in the session and redirect to /profile:\n",
        "\n",
        "```\n",
        "Welcome username_value!\n",
        "```\n",
        "\n",
        "If no session exists and /profile is visited directly, it will redirect to /login\n",
        "\n"
      ],
      "metadata": {
        "id": "cgT1wAV2lQ7K"
      }
    },
    {
      "cell_type": "markdown",
      "source": [
        "**9.How do you redirect to a different route in Flask?**\n",
        "\n",
        "```\n",
        "@app.route('/')\n",
        "def home():\n",
        "    return redirect(url_for('profile'))\n",
        "\n",
        "@app.route('/profile')\n",
        "def profile():\n",
        "    return 'This is the profile page!'\n",
        "\n",
        "```\n",
        "**OUTPUT:**\n",
        "When visiting /, it will redirect you to /profile and show:\n",
        "\n",
        "\n",
        "\n",
        "```\n",
        "This is the profile page!\n",
        "\n",
        "```\n",
        "\n"
      ],
      "metadata": {
        "id": "TpcYQsp4lgGA"
      }
    },
    {
      "cell_type": "markdown",
      "source": [
        "**10. How do you handle errors in Flask (e.g., 404)?**\n",
        "\n",
        "\n",
        "```\n",
        "@app.errorhandler(404)\n",
        "def page_not_found(e):\n",
        "    return \"Sorry, this page does not exist.\", 404\n",
        "\n",
        "```\n",
        "**OUTPUT:**\n",
        "visiting a non-existent route,\n",
        "\n",
        "```\n",
        "Sorry, this page does not exist.\n",
        "\n",
        "\n",
        "```\n",
        "\n",
        "\n",
        "\n",
        "\n"
      ],
      "metadata": {
        "id": "JC_F0aeTmjUn"
      }
    },
    {
      "cell_type": "markdown",
      "source": [
        "**11. How do you structure a Flask app using Blueprints?**\n",
        "\n",
        "```\n",
        "# views.py\n",
        "from flask import Blueprint\n",
        "bp = Blueprint('main', __name__)\n",
        "\n",
        "@bp.route('/')\n",
        "def home():\n",
        "    return 'Home Page'\n",
        "\n",
        "# __init__.py\n",
        "from flask import Flask\n",
        "from .views import bp\n",
        "\n",
        "def create_app():\n",
        "    app = Flask(__name__)\n",
        "    app.register_blueprint(bp)\n",
        "    return app\n",
        "\n",
        "```\n",
        "**OUTPUT:**\n",
        "When visiting /\n",
        "\n",
        "```\n",
        "Home Page\n",
        "\n",
        "```\n",
        "\n",
        "\n"
      ],
      "metadata": {
        "id": "OXafTDzbmpMm"
      }
    },
    {
      "cell_type": "markdown",
      "source": [
        "**12. How do you define a custom Jinja filter in Flask?**\n",
        "\n",
        "\n",
        "```\n",
        "@app.template_filter('reverse')\n",
        "def reverse_filter(s):\n",
        "    return s[::-1]\n",
        "\n",
        "@app.route('/')\n",
        "def home():\n",
        "    return render_template('index.html', message=\"Hello World\")\n",
        "\n",
        "```\n",
        "**OUTPUT:**\n",
        "In the template:\n",
        "```\n",
        "<p>{{ message | reverse }}</p>\n",
        "\n",
        "```\n",
        "The output on the page will be:\n",
        "\n",
        "```\n",
        "dlroW olleH\n",
        "\n",
        "```\n",
        "\n",
        "\n",
        "\n",
        "\n",
        "\n",
        "\n"
      ],
      "metadata": {
        "id": "eKtu8Emlmzlr"
      }
    },
    {
      "cell_type": "markdown",
      "source": [
        "**13. How can you redirect with query parameters in Flask?**\n",
        "\n",
        "```\n",
        "@app.route('/search')\n",
        "def search():\n",
        "    query = request.args.get('query')\n",
        "    return f'Searching for {query}'\n",
        "\n",
        "@app.route('/')\n",
        "def home():\n",
        "    return redirect(url_for('search', query='flask'))\n",
        "\n",
        "```\n",
        "**OUTPUT:**Visiting / will redirect to /search?query=flask\n",
        "\n",
        "\n",
        "```\n",
        "Searching for flask\n",
        "\n",
        "```\n",
        "\n",
        "\n",
        "\n"
      ],
      "metadata": {
        "id": "zHRk1sw_k9JM"
      }
    },
    {
      "cell_type": "markdown",
      "source": [
        "**14.How do you return JSON responses in Flask?**\n",
        "\n",
        "```\n",
        "@app.route('/api')\n",
        "def api():\n",
        "    return jsonify(message=\"Hello, World!\")\n",
        "\n",
        "```\n",
        "**OUTPUT**:Visiting /api will return a JSON response:\n",
        "\n",
        "```\n",
        "{\"message\": \"Hello, World!\"}\n",
        "\n",
        "```\n",
        "\n",
        "\n",
        "\n",
        "\n",
        "\n",
        "\n"
      ],
      "metadata": {
        "id": "J90_ub9nnKcl"
      }
    },
    {
      "cell_type": "markdown",
      "source": [
        "**15.How do you capture URL parameters in Flask?**\n",
        "\n",
        "```\n",
        "@app.route('/user/<username>')\n",
        "def show_user_profile(username):\n",
        "    return f'User {username}'\n",
        "\n",
        "```\n",
        "**OUTPUT:**\n",
        "Visiting /user/johndoe will show:\n",
        "\n",
        "\n",
        "\n",
        "\n",
        "\n",
        "```\n",
        "User johndoe\n",
        "\n",
        "```\n",
        "\n",
        "\n",
        "\n"
      ],
      "metadata": {
        "id": "lM0pEshwnS5b"
      }
    },
    {
      "cell_type": "code",
      "source": [],
      "metadata": {
        "id": "AwNhN_EMnnLY"
      },
      "execution_count": null,
      "outputs": []
    }
  ]
}