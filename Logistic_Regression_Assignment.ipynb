{
  "nbformat": 4,
  "nbformat_minor": 0,
  "metadata": {
    "colab": {
      "provenance": []
    },
    "kernelspec": {
      "name": "python3",
      "display_name": "Python 3"
    },
    "language_info": {
      "name": "python"
    }
  },
  "cells": [
    {
      "cell_type": "markdown",
      "source": [
        "#Logistic Regression Assignment Theory⭐"
      ],
      "metadata": {
        "id": "R_9s_TWu_Ehx"
      }
    },
    {
      "cell_type": "markdown",
      "source": [
        "### 1.What is Logistic Regression, and how does it differ from Linear Regression?\n",
        ">Logistic Regression and Linear Regression are both supervised learning algorithms used in machine learning and statistics, but they are used for different types of problems and have different underlying models. Here's a breakdown:\n",
        "Used for predicting continuous outcomes.\n",
        "\n",
        ">Example: Predicting house prices, temperature, or stock prices.\n",
        "\n",
        ">Logistic Regression:\n",
        "\n",
        ">Used for predicting categorical outcomes, typically binary classification (e.>g., 0 or 1, yes or no, spam or not spam).\n",
        "\n",
        ">Can be extended to multiclass classification with techniques like One-vs-Rest.\n",
        "\n",
        ">Output Linear Regression:\n",
        ">Predicts a real-valued number.\n",
        "\n",
        ">Output is unbounded (can be any value from − ∞ −∞ to + ∞ +∞).\n",
        "\n",
        ">Logistic Regression:\n",
        "\n",
        ">Predicts a probability that the input belongs to a certain class.\n",
        "\n",
        ">Output is bounded between 0 and 1 (via the sigmoid function).\n",
        "\n",
        ">Mathematical Form Linear Regression:\n",
        ">𝑦 = 𝛽 0 + 𝛽 1 𝑥 1 + 𝛽 2 𝑥 2 + ⋯ + 𝛽 𝑛 𝑥 𝑛 y=β 0​+β 1​x 1​+β 2​x 2​+⋯>+β n​x n​\n",
        "\n",
        ">Logistic Regression:\n",
        "\n",
        ">𝑝 = 1 1 + 𝑒 − ( 𝛽 0 + 𝛽 1 𝑥 1 + 𝛽 2 𝑥 2 + ⋯ + 𝛽 𝑛 𝑥 𝑛 ) p= 1+e −(β >0​+β 1​x 1​+β 2​x 2​+⋯+β n​x n​)\n",
        "\n",
        ">1​\n",
        "\n",
        ">Where 𝑝 p is the probability that the output is class 1.\n",
        "\n",
        ">Loss Function Linear Regression: Uses Mean Squared Error (MSE).\n",
        ">Logistic Regression: Uses Log Loss (Cross-Entropy Loss).\n",
        "\n",
        ">Interpretation of Coefficients Linear Regression: Coefficients represent the change in the output for a one-unit change in the input.\n",
        "Logistic Regression: Coefficients represent the log-odds of the outcome for a one-unit change in the input.\n",
        "\n",
        ">Application Examples Linear Regression:\n",
        "Predicting salary based on years of experience.\n",
        "\n",
        ">Estimating sales based on advertising budget.\n",
        "\n",
        ">Logistic Regression:\n",
        "\n",
        "###2.What is the mathematical equation of Logistic Regression?\n",
        ">The mathematical equation of Logistic Regression is based on the logistic (sigmoid) function, which models the probability that a given input belongs to a certain class (usually binary classification: 0 or 1).\n",
        "\n",
        ">Logistic (Sigmoid) Function The core of logistic regression is the sigmoid function:\n",
        "𝜎 ( 𝑧 ) = 1 1 + 𝑒 − 𝑧 σ(z)= 1+e −z\n",
        "\n",
        ">This function maps any real-valued number to the range ( 0 , 1 ) (0,1), which can be interpreted as a probability.\n",
        "\n",
        "###3.Why do we use the Sigmoid function in Logistic Regression?\n",
        ">We use the sigmoid function in logistic regression because it transforms the linear output of a model into a probability, which is essential for binary classification tasks.\n",
        "\n",
        ">Here's a breakdown of why it's used:\n",
        "\n",
        ">Converts Any Real Value to a Probability The sigmoid function is defined as:\n",
        "𝜎 ( 𝑧 ) = 1 1 + 𝑒 − 𝑧 σ(z)= 1+e −z\n",
        "\n",
        ">Where:\n",
        "\n",
        ">𝑧 z is the linear combination of input features and weights (i.e., 𝑧 = 𝑤 𝑇 𝑥 + 𝑏 z=w T x+b).\n",
        "\n",
        ">This function maps any real number to a value between 0 and 1, which can be interpreted as the probability of the positive class (e.g., probability of \"yes\", or \"class 1\").\n",
        "\n",
        "###4.What is the cost function of Logistic Regression?\n",
        ">The cost function of Logistic Regression is based on the log loss, also known as the binary cross-entropy loss. It measures how well the predicted probabilities match the actual class labels (0 or 1).\n",
        "\n",
        ">Logistic Regression Cost Function Given:\n",
        "\n",
        ">𝑚 m: number of training examples\n",
        "\n",
        ">𝑦 ( 𝑖 ) y (i) : actual label (0 or 1) for the 𝑖 i-th example\n",
        "\n",
        ">𝑦 ^ ( 𝑖 ) = ℎ 𝜃 ( 𝑥 ( 𝑖 ) ) = 1 1 + 𝑒 − 𝜃 𝑇 𝑥 ( 𝑖 ) y ^​\n",
        "\n",
        ">(i) =h θ​(x (i) )= 1+e −θ T x (i)\n",
        "\n",
        ">1​: predicted probability (sigmoid output)\n",
        "\n",
        ">The cost function 𝐽 ( 𝜃 ) J(θ) is:\n",
        "\n",
        ">𝐽 ( 𝜃 ) = − 1 𝑚 ∑ 𝑖 = 1 𝑚 [ 𝑦 ( 𝑖 ) log ⁡ ( 𝑦 ^ ( 𝑖 ) ) + ( 1 − 𝑦 ( >𝑖 ) ) log ⁡ ( 1 − 𝑦 ^ ( 𝑖 ) ) ] J(θ)=− m 1​\n",
        "\n",
        ">i=1 ∑ m​[y (i) log( y ^​\n",
        "\n",
        ">(i) )+(1−y (i) )log(1− y ^​\n",
        "\n",
        ">(i) )\n",
        "\n",
        "###5.What is Regularization in Logistic Regression? Why is it needed?\n",
        ">Regularization in logistic regression is a technique used to prevent overfitting by penalizing large coefficients in the model. It modifies the cost function to include an additional term that discourages the model from fitting the training data too closely, which can hurt its performance on unseen dat\n",
        "\n",
        ">Why Is it need:In logistic regression (or any model), overfitting happens when:\n",
        "\n",
        ">The model becomes too complex (e.g., too many features or too large coefficients).\n",
        "\n",
        ">It captures noise instead of the underlying pattern.\n",
        "\n",
        ">It performs well on training data but poorly on new/unseen data.\n",
        "\n",
        ">Regularization helps by constraining the optimization process:\n",
        "\n",
        ">It keeps the learned weights (coefficients) small.\n",
        "\n",
        ">This encourages the model to focus on the most important patterns.\n",
        "\n",
        "###6.C Explain the difference between Lasso, Ridge, and Elastic Net regression?\n",
        ">Lasso, Ridge, and Elastic Net are regularized regression techniques used to prevent overfitting and improve model generalization, especially when dealing with high-dimensional data (many features). Here's how they differ:\n",
        "Ridge Regression (L2 Regularization)\n",
        "Penalty Term: Adds the sum of squared coefficients (L2 norm) to the loss function.\n",
        ">Loss = RSS + 𝜆 ∑ 𝑗 = 1 𝑝 𝛽 𝑗 2 Loss=RSS+λ j=1 ∑ p​β j 2​\n",
        "\n",
        ">Effect: Shrinks coefficients towards zero but does not set them exactly to zero.\n",
        "\n",
        ">Use Case: Best when all features are relevant and multicollinearity exists.\n",
        "\n",
        "Pros:\n",
        "\n",
        ">Works well when many small/medium-sized effects are present.\n",
        "\n",
        ">Stabilizes coefficients in the presence of multicollinearity.\n",
        "\n",
        ">Lasso Regression (L1 Regularization) Penalty Term: Adds the sum of the absolute values of the coefficients (L1 norm).\n",
        "Loss = RSS + 𝜆 ∑ 𝑗 = 1 𝑝 ∣ 𝛽 𝑗 ∣ Loss=RSS+λ j=1 ∑ p​∣β j​∣ Effect: Can shrink some coefficients exactly to zero, thus performing feature selection.\n",
        "\n",
        ">Use Case: Best when you expect only a few features to be important.\n",
        "\n",
        "\n",
        ">Performs variable selection.\n",
        "\n",
        ">Produces sparse models, which are easier to interpret.\n",
        "\n",
        ">Elastic Net Regression Penalty Term: A combination of L1 and L2 regularization.\n",
        ">Loss = RSS + 𝜆 1 ∑ 𝑗 = 1 𝑝 ∣ 𝛽 𝑗 ∣ + 𝜆 2 ∑ 𝑗 = 1 𝑝 𝛽 𝑗 2 Loss=RSS+λ 1​\n",
        "\n",
        ">j=1 ∑ p​∣β j​∣+λ 2​\n",
        "\n",
        ">j=1 ∑ p​β j 2​\n",
        "\n",
        ">Often expressed as:\n",
        "\n",
        ">Loss = RSS + 𝜆 [ 𝛼 ∑ ∣ 𝛽 𝑗 ∣ + ( 1 − 𝛼 ) ∑ 𝛽 𝑗 2 ] Loss=RSS+λ[α∑∣β j​∣+(1−α)∑β j 2​] where 𝛼 ∈ [ 0 , 1 ] α∈[0,1] balances L1 and L2.\n",
        "\n",
        ">Effect: Combines the sparsity of Lasso with the stability of Ridge.\n",
        "\n",
        ">Use Case: Best when there are correlated features or when the number of predictors exceeds the number of observations.\n",
        "\n",
        "\n",
        ">Handles multicollinearity.\n",
        "\n",
        ">Can select groups of correlated variables.\n",
        "\n",
        "\n",
        "###7.When should we use Elastic Net instead of Lasso or Ridge?\n",
        ">Elastic Net is a regularization technique that combines both Lasso (L1) and Ridge (L2) penalties. You should consider using Elastic Net instead of Lasso or Ridge alone in the following situations:\n",
        "\n",
        ">✅ When to Use Elastic Net\n",
        ">High-dimensional data (p > n)\n",
        "\n",
        ">If the number of features p is greater than the number of observations n, Elastic Net often performs better than either Ridge or Lasso alone.\n",
        "\n",
        ">Lasso may randomly select one feature from a group of correlated features and ignore the rest, which can be unstable. Elastic Net tends to select groups of correlated variables together.\n",
        "\n",
        ">Correlated predictors (multicollinearity)\n",
        "\n",
        ">Lasso struggles when predictors are highly correlated—it tends to arbitrarily select one and drop the others.\n",
        "\n",
        ">Ridge shrinks coefficients but does not perform variable selection.\n",
        "\n",
        ">Elastic Net does both: it shrinks like Ridge and performs selection like Lasso, but more robustly handles correlated features.\n",
        "\n",
        ">You want a compromise between sparsity and shrinkage\n",
        "\n",
        ">Lasso gives you sparse solutions (i.e., it sets many coefficients to zero), while Ridge gives small, non-zero coefficients.\n",
        "\n",
        ">Elastic Net allows you to tune the balance between the two with the mixing parameter α:\n",
        "\n",
        ">α = 1: Lasso\n",
        "\n",
        ">α = 0: Ridge\n",
        "\n",
        ">0 < α < 1: Elastic Net (compromise)\n",
        "\n",
        "###8.What is the impact of the regularization parameter (λ) in Logistic Regression?\n",
        ">The regularization parameter 𝜆 λ (often denoted as C in scikit-learn, where 𝐶 = 1 𝜆 C= λ 1​) in Logistic Regression controls the amount of regularization applied to the model. Regularization is a technique used to prevent overfitting by penalizing large coefficients in the model.\n",
        "\n",
        ">🔍 Impact of 𝜆 λ in Logistic Regression:\n",
        "\n",
        ">When 𝜆 λ is Small (close to 0): Weak regularization (or none at all).\n",
        "The model can fit the training data very closely.\n",
        "\n",
        ">Risk of overfitting increases.\n",
        "\n",
        ">Coefficients can become large in magnitude.\n",
        "\n",
        ">When 𝜆 λ is Large: Strong regularization is applied.\n",
        "The model is constrained, and coefficients are pushed towards zero.\n",
        "\n",
        ">Helps prevent overfitting by simplifying the model.\n",
        "\n",
        ">May lead to underfitting if too strong, reducing model performance on both training and test data.\n",
        "\n",
        "###9.What are the key assumptions of Logistic Regression?\n",
        ">Logistic Regression is a widely used classification algorithm that models the probability of a binary outcome. While it is less restrictive than linear regression in some ways, it still relies on several important assumptions for valid inference and good performance:\n",
        "\n",
        ">Key Assumptions of Logistic Regression Binary or Categorical Dependent Variable\n",
        "\n",
        ">The dependent variable should be binary (0 or 1) for binary logistic regression. For multinomial or ordinal outcomes, extensions like multinomial or ordinal logistic regression are used.\n",
        "\n",
        ">Linearity of Logits\n",
        "\n",
        ">Logistic regression assumes a linear relationship between the logit (log-odds) of the outcome and the independent variables:\n",
        "\n",
        ">log ⁡ ( 𝑝 1 − 𝑝 ) = 𝛽 0 + 𝛽 1 𝑋 1 + ⋯ + 𝛽 𝑘 𝑋 𝑘 log( 1−p p​)=β 0​+β 1​X 1​+⋯+β k​X k​\n",
        "\n",
        ">Note: This is not a linear relationship between the predictors and the outcome itself, but between predictors and the log-odds of the outcome.\n",
        "\n",
        ">Independence of Observations\n",
        "\n",
        ">Each observation should be independent of the others. This means no repeated measurements or time-series dependencies unless appropriately modeled.\n",
        "\n",
        ">No or Little Multicollinearity\n",
        "\n",
        ">Independent variables should not be highly correlated with each other. High multicollinearity can inflate the variance of coefficient estimates.\n",
        "\n",
        ">Large Sample Size\n",
        "\n",
        ">Logistic regression relies on maximum likelihood estimation (MLE), which performs better with larger sample sizes, especially when the outcome is rare.\n",
        "\n",
        ">No Extreme Outliers in Predictors\n",
        "\n",
        ">Although logistic regression is less sensitive to outliers in the response, outliers in the independent variables can still affect the model.\n",
        "\n",
        ">Predictor Variables Can Be Continuous or Categorical\n",
        "\n",
        ">Logistic regression handles both types of predictors, but categorical variables should be properly encoded (e.g., one-hot or dummy encoding).\n",
        "\n",
        "###10.What are some alternatives to Logistic Regression for classification tasks?\n",
        ">There are many alternatives to Logistic Regression for classification tasks, each with its strengths depending on the dataset characteristics (size, linearity, noise, etc.). Here are some widely used alternatives:\n",
        "\n",
        "1. Support Vector Machines (SVM)\n",
        "Strengths: Works well for both linear and non-linear data (using kernels), effective in high-dimensional spaces.\n",
        "\n",
        "Weaknesses: Computationally intensive for large datasets, harder to interpret.\n",
        "\n",
        "2. Decision Trees\n",
        "Strengths: Simple to interpret, handles both numerical and categorical data, captures non-linear relationships.\n",
        "\n",
        "Weaknesses: Prone to overfitting without pruning or constraints.\n",
        "\n",
        "3. Random Forest\n",
        "Strengths: Ensemble of decision trees, reduces overfitting, handles missing values and unbalanced data well.\n",
        "\n",
        "Weaknesses: Less interpretable than a single decision tree.\n",
        "\n",
        "4. Gradient Boosting Machines (e.g., XGBoost, LightGBM, CatBoost)\n",
        "Strengths: High accuracy, handles complex patterns and non-linearity, often the go-to for structured data.\n",
        "\n",
        "Weaknesses: Requires careful tuning, slower training time.\n",
        "\n",
        "5. k-Nearest Neighbors (k-NN)\n",
        "Strengths: Simple and intuitive, no training phase.\n",
        "\n",
        "Weaknesses: Computationally expensive at prediction time, sensitive to irrelevant features and scaling.\n",
        "\n",
        "6. Naive Bayes\n",
        "Strengths: Fast, works well with text data and high-dimensional features.\n",
        "\n",
        "Weaknesses: Assumes feature independence, which often doesn't hold.\n",
        "\n",
        "7. Neural Networks\n",
        "Strengths: Highly flexible, can model very complex relationships.\n",
        "\n",
        "Weaknesses: Requires more data, prone to overfitting, less interpretable, computationally intensive.\n",
        "\n",
        "8. Linear Discriminant Analysis (LDA)\n",
        "Strengths: Good for linearly separable data, interpretable, works well with small sample sizes.\n",
        "\n",
        "Weaknesses: Assumes normality and equal covariance among classes.\n",
        "\n",
        "9. Quadratic Discriminant Analysis (QDA)\n",
        "Similar to LDA but allows for class-specific covariance matrices, making it more flexible but also more data-hungry.\n",
        "\n",
        "10. Rule-based Classifiers (e.g., RIPPER, PART)\n",
        "Strengths: Easy to interpret and explain.\n",
        "\n",
        "Weaknesses: Less powerful for complex patterns.\n",
        "\n",
        "\n",
        "###11.What are Classification Evaluation Metrics?\n",
        "Classification evaluation metrics are methods used to measure how well a classification model performs. They help you understand how accurately the model predicts the correct class labels. Since classification problems involve assigning inputs into categories, these metrics evaluate the quality of those predictions compared to the actual labels.\n",
        "\n",
        "Here are some of the key classification evaluation metrics:\n",
        "\n",
        "Accuracy Definition: The ratio of correctly predicted instances to the total instances.\n",
        "Formula:\n",
        "\n",
        "Accuracy = Number of correct predictions Total number of predictions Accuracy= Total number of predictions Number of correct predictions​\n",
        "\n",
        "When to use: Good when classes are balanced.\n",
        "\n",
        "Precision Definition: The ratio of correctly predicted positive observations to the total predicted positives.\n",
        "Formula:\n",
        "\n",
        "Precision = 𝑇 𝑃 𝑇 𝑃 + 𝐹 𝑃 Precision= TP+FP TP​\n",
        "\n",
        "Meaning: How many selected items are relevant.\n",
        "\n",
        "Use case: Important when the cost of false positives is high.\n",
        "\n",
        "Recall (Sensitivity or True Positive Rate) Definition: The ratio of correctly predicted positive observations to all actual positives.\n",
        "Formula:\n",
        "\n",
        "Recall = 𝑇 𝑃 𝑇 𝑃 + 𝐹 𝑁 Recall= TP+FN TP​\n",
        "\n",
        "Meaning: How many relevant items are selected.\n",
        "\n",
        "Use case: Important when the cost of false negatives is high.\n",
        "\n",
        "F1 Score Definition: The harmonic mean of Precision and Recall.\n",
        "Formula:\n",
        "\n",
        "𝐹 1 = 2 × Precision × Recall Precision + Recall F1=2× Precision+Recall Precision×Recall​\n",
        "\n",
        "Meaning: Balance between Precision and Recall.\n",
        "\n",
        "Use case: Useful when you want to balance false positives and false negatives.\n",
        "\n",
        "Confusion Matrix A table showing the counts of true positives (TP), true negatives (TN), false positives (FP), and false negatives (FN).\n",
        "Predicted Positive Predicted Negative Actual Positive TP FN Actual Negative FP TN\n",
        "\n",
        "Specificity (True Negative Rate) Definition: The ratio of correctly predicted negatives to all actual negatives.\n",
        "Formula:\n",
        "\n",
        "Specificity = 𝑇 𝑁 𝑇 𝑁 + 𝐹 𝑃 Specificity= TN+FP TN​\n",
        "\n",
        "ROC Curve and AUC (Area Under the Curve) ROC Curve: Plots True Positive Rate (Recall) vs. False Positive Rate.\n",
        "AUC: Measures the entire two-dimensional area underneath the ROC curve. A higher AUC indicates better performance.\n",
        "\n",
        "###12.How does class imbalance affect Logistic Regression?\n",
        "Class imbalance can significantly affect the performance of Logistic Regression and other classification models. Here's how:\n",
        "\n",
        "🔍 What is Class Imbalance?\n",
        "Class imbalance occurs when the number of instances in one class far exceeds those in another. For example, in a binary classification problem:\n",
        "\n",
        "Class 0: 95%\n",
        "\n",
        "Class 1: 5%\n",
        "\n",
        "###13.What is Hyperparameter Tuning in Logistic Regression?\n",
        "Hyperparameter tuning in logistic regression refers to the process of selecting the best set of hyperparameters that optimize the model's performance.\n",
        "\n",
        "🔍 What are Hyperparameters?\n",
        "Hyperparameters are settings that are not learned from the data but are set before training the model. In logistic regression, common hyperparameters include:\n",
        "\n",
        "Regularization type (penalty)\n",
        "\n",
        "Options: 'l1', 'l2', 'elasticnet', 'none'\n",
        "\n",
        "Purpose: Prevent overfitting by adding a penalty for large coefficients.\n",
        "\n",
        "Regularization strength (C)\n",
        "\n",
        "Inverse of regularization strength.\n",
        "\n",
        "Lower C → stronger regularization.\n",
        "\n",
        "Default: C=1.0\n",
        "\n",
        "Solver\n",
        "\n",
        "Algorithms used to optimize the cost function.\n",
        "\n",
        "Options: 'liblinear', 'saga', 'lbfgs', 'newton-cg'\n",
        "\n",
        "Some solvers support specific penalties only.\n",
        "\n",
        "Maximum number of iterations (max_iter)\n",
        "\n",
        "Sets how long the solver should keep optimizing.\n",
        "\n",
        "###14.What are different solvers in Logistic Regression? Which one should be used?\n",
        "In logistic regression, solvers are algorithms used to optimize the cost function — that is, to find the best model parameters (weights). Different solvers have different strengths depending on the dataset size, sparsity, and presence of regularization.\n",
        "Which Solver Should You Use?\n",
        "General Guidelines:\n",
        "Small datasets:\n",
        "\n",
        "Use liblinear — fast and reliable for small-scale problems.\n",
        "\n",
        "Large datasets:\n",
        "\n",
        "Use lbfgs, sag, or saga.\n",
        "\n",
        "sag and saga are optimized for large datasets with many samples.\n",
        "\n",
        "L1 regularization (sparse models):\n",
        "\n",
        "Use liblinear or saga.\n",
        "\n",
        "Multinomial classification (not just OvR):\n",
        "\n",
        "Use lbfgs, newton-cg, or saga with multi_class='multinomial'.\n",
        "\n",
        "Sparse data (like text data with TF-IDF):\n",
        "\n",
        "Prefer saga or sag.\n",
        "\n",
        "Recommendation:\n",
        "If unsure and you're not using L1 regularization:\n",
        "Start with lbfgs, as it's robust and works well in most situations.\n",
        "\n",
        "If you need L1 regularization, prefer saga for larger datasets, or liblinear for smaller ones.\n",
        "\n",
        "###15.How is Logistic Regression extended for multiclass classification?\n",
        "Logistic regression is inherently a binary classifier, but it can be extended to handle multiclass classification through several strategies. The most common extensions are:\n",
        "\n",
        "1. One-vs-Rest (OvR) / One-vs-All (OvA)\n",
        "Concept: Train one binary classifier per class.\n",
        "\n",
        "Each classifier predicts whether a sample belongs to its class or not (i.e., \"class k vs. all others\").\n",
        "\n",
        "For K classes, K separate logistic regression models are trained.\n",
        "\n",
        "At prediction time:\n",
        "\n",
        "Each model outputs a probability.\n",
        "\n",
        "The class with the highest probability is selected.\n",
        "\n",
        "✅ Pros: Simple and works well in practice.\n",
        "⚠️ Cons: Can be inefficient with many classes; classifiers may be imbalanced.\n",
        "\n",
        "###16.What are the advantages and disadvantages of Logistic Regression?\n",
        "Logistic Regression is a widely used statistical method for binary classification problems (predicting one of two possible outcomes). Here’s a breakdown of its advantages and disadvantages:\n",
        "\n",
        "✅ Advantages of Logistic Regression\n",
        "Simplicity and Interpretability\n",
        "\n",
        "Easy to implement and interpret.\n",
        "\n",
        "Coefficients provide insight into the relationship between independent variables and the outcome.\n",
        "\n",
        "Computational Efficiency\n",
        "\n",
        "Requires less computational resources compared to more complex models like Random Forests or Neural Networks.\n",
        "\n",
        "Probabilistic Output\n",
        "\n",
        "Produces probabilities for class membership, not just classifications, which is useful for ranking or thresholding.\n",
        "\n",
        "Good Baseline\n",
        "\n",
        "Often used as a baseline model because of its simplicity and robustness.\n",
        "\n",
        "Works Well with Linearly Separable Data\n",
        "\n",
        "Performs well when the data is linearly separable or nearly so.\n",
        "\n",
        "No Need for Feature Scaling (in many cases)\n",
        "\n",
        "Unlike models like SVM or KNN, it doesn’t always require feature scaling (although scaling can still improve performance).\n",
        "\n",
        "Regularization\n",
        "\n",
        "Can be easily extended with L1 (Lasso) or L2 (Ridge) regularization to avoid overfitting.\n",
        "\n",
        "###17.What are some use cases of Logistic Regression?\n",
        "Logistic Regression is a widely used statistical method for binary classification problems, but it also extends to multi-class classification. Here are some key use cases across different domains:\n",
        "\n",
        "🔍 1. Binary Classification Tasks\n",
        "These are the most common applications of logistic regression:\n",
        "\n",
        "Spam Detection\n",
        "Predict whether an email is spam (1) or not (0).\n",
        "\n",
        "Disease Diagnosis\n",
        "Predict if a patient has a disease (e.g., diabetes, cancer) based on medical indicators.\n",
        "\n",
        "Customer Churn Prediction\n",
        "Determine whether a customer will leave a service or stay.\n",
        "\n",
        "Loan Default Prediction\n",
        "Predict if a borrower will default on a loan.\n",
        "\n",
        "Click-Through Rate Prediction\n",
        "Estimate the probability of a user clicking on an advertisement.\n",
        "\n",
        "###18.What is the difference between Softmax Regression and Logistic Regression?\n",
        "Softmax Regression and Logistic Regression are both classification algorithms, but they are used in different scenarios and have key conceptual differences:\n",
        "\n",
        "🔹 Logistic Regression Type: Binary classification\n",
        "\n",
        "Use case: When there are only two classes (e.g., spam vs. not spam).\n",
        "\n",
        "Output: A single probability that the input belongs to the \"positive\" class (usually class 1). The probability of the other class (class 0) is simply 1 − 𝑝 1−p.\n",
        "\n",
        "Activation function: Sigmoid\n",
        "\n",
        "𝜎 ( 𝑧 ) = 1 1 + 𝑒 − 𝑧 σ(z)= 1+e −z\n",
        "\n",
        "1​\n",
        "\n",
        "Decision rule: Classify as 1 if 𝜎 ( 𝑧 )\n",
        "\n",
        "0.5 σ(z)>0.5, else 0.\n",
        "\n",
        "🔹 Softmax Regression (also called Multinomial Logistic Regression) Type: Multiclass classification\n",
        "\n",
        "Use case: When there are three or more classes (e.g., classifying types of animals: cat, dog, bird).\n",
        "\n",
        "Output: A vector of probabilities, one for each class. All probabilities sum to1.\n",
        "\n",
        "###19. How do we choose between One-vs-Rest (OvR) and Softmax for multiclass classification?\n",
        "Choosing between One-vs-Rest (OvR) and Softmax for multiclass classification depends on several factors, including the nature of your data, model complexity, training time, and interpretability. Here's a breakdown to help you decide:\n",
        "\n",
        "2. When to Choose OvR\n",
        "✅ Simple or Imbalanced Datasets: OvR can be more stable when classes are imbalanced.\n",
        "\n",
        "✅ Modular Design: If you want independent models per class (e.g., easier to debug or deploy separately).\n",
        "\n",
        "✅ Binary-focused Algorithms: When using models that only support binary classification natively (e.g., SVMs, Logistic Regression without softmax).\n",
        "\n",
        "🧪 Pros:\n",
        "Easier to implement with binary classifiers.\n",
        "\n",
        "More flexible if you want to focus on a subset of classes.\n",
        "\n",
        "⚠️ Cons:\n",
        "Doesn’t model inter-class relationships directly.\n",
        "\n",
        "Can be inconsistent if multiple classifiers give high scores.\n",
        "\n",
        "🔹 3. When to Choose Softmax\n",
        "✅ Mutually Exclusive Classes: When exactly one class should be predicted (e.g., classification tasks like digit recognition).\n",
        "\n",
        "✅ Probabilistic Interpretation: Softmax gives proper probability distribution over all classes.\n",
        "\n",
        "✅ Deep Learning Models: Standard choice in neural networks (e.g., image classification with CNNs).\n",
        "\n",
        "🧪 Pros:\n",
        "Jointly models all classes → often better accuracy.\n",
        "\n",
        "Single cohesive model.\n",
        "\n",
        "Probabilities sum to 1 — intuitive interpretation.\n",
        "\n",
        "⚠️ Cons:\n",
        "Might struggle with class imbalance unless handled properly.\n",
        "\n",
        "Less interpretable if you want per-class model insights.\n",
        "\n",
        "🔹 4. Performance and Scalability\n",
        "OvR: Scales linearly with the number of classes (more models to train).\n",
        "\n",
        "Softmax: Single model, but can be more computationally intensive per iteration.\n",
        "\n",
        "###20. How do we interpret coefficients in Logistic Regression?\n",
        "In Logistic Regression, the coefficients represent the log-odds of the outcome variable, not direct changes in probabilities. Here's how to interpret them:\n",
        "\n",
        "🔢 1. Log-Odds Interpretation Each coefficient 𝛽 𝑗 β j​represents the change in the log-odds of the outcome for a one-unit increase in the predictor 𝑥 𝑗 x j​, holding all other variables constant.\n",
        "\n",
        "logit ( 𝑃 ) = log ⁡ ( 𝑃 1 − 𝑃 ) = 𝛽 0 + 𝛽 1 𝑥 1 + ⋯ + 𝛽 𝑗 𝑥 𝑗 logit(P)=log( 1−P P​)=β 0​+β 1​x 1​+⋯+β j​x j​\n",
        "\n",
        "So, if 𝛽 𝑗 = 0.5 β j​=0.5, it means that a 1-unit increase in 𝑥 𝑗 x j​increases the log-odds of the outcome by 0.5.\n",
        "\n",
        "🔁 2. Odds Ratio Interpretation Exponentiate the coefficient to interpret it in terms of odds ratios:\n",
        "\n",
        "Odds Ratio = 𝑒 𝛽 𝑗 Odds Ratio=e β j​\n",
        "\n",
        "If 𝛽 𝑗 = 0.5 β j​=0.5, then 𝑒 0.5 ≈ 1.65 e 0.5 ≈1.65: the odds of the event happening are 1.65 times higher for a one-unit increase in 𝑥 𝑗 x j​.\n",
        "\n",
        "If 𝛽 𝑗 = − 0.7 β j​=−0.7, then 𝑒 − 0.7 ≈ 0.50 e −0.7 ≈0.50: the odds are halved for each unit increase in 𝑥 𝑗 x j​.\n",
        "\n",
        "🔢 3. Probability Interpretation (More Complex) The effect on probability depends on the values of all predictors, since the logistic function is nonlinear:\n",
        "\n",
        "𝑃 = 1 1 + 𝑒 − ( 𝛽 0 + 𝛽 1 𝑥 1 + ⋯ + 𝛽 𝑗 𝑥 𝑗 ) P= 1+e −(β 0​+β 1​x 1​+⋯+β j​x j​)\n",
        "\n",
        "1​\n",
        "\n",
        "So, while the log-odds and odds ratio interpretations are fixed per unit change, the actual change in probability varies depending on where you are on the curve.\n",
        "\n",
        "\n",
        "\n",
        "\n",
        "\n"
      ],
      "metadata": {
        "id": "68Z8Aw9r_R5W"
      }
    },
    {
      "cell_type": "markdown",
      "source": [
        "#*Pratical Answer⭐"
      ],
      "metadata": {
        "id": "OoZApldmjOCW"
      }
    },
    {
      "cell_type": "markdown",
      "source": [
        "###1.Write a Python program that loads a dataset, splits it into training and testing sets, applies Logistic Regression, and prints the model accuracy?"
      ],
      "metadata": {
        "id": "I06ttXd-jV4R"
      }
    },
    {
      "cell_type": "code",
      "source": [
        "from sklearn.datasets import load_iris\n",
        "from sklearn.model_selection import train_test_split\n",
        "from sklearn.linear_model import LogisticRegression\n",
        "from sklearn.metrics import accuracy_score\n",
        "\n",
        "# Step 1: Load dataset\n",
        "iris = load_iris()\n",
        "X = iris.data\n",
        "y = iris.target\n",
        "\n",
        "# Step 2: Split into training and testing sets\n",
        "X_train, X_test, y_train, y_test = train_test_split(X, y, test_size=0.3, random_state=42)\n",
        "\n",
        "# Step 3: Apply Logistic Regression\n",
        "model = LogisticRegression(max_iter=200)\n",
        "model.fit(X_train, y_train)\n",
        "\n",
        "# Step 4: Predict and evaluate accuracy\n",
        "y_pred = model.predict(X_test)\n",
        "accuracy = accuracy_score(y_test, y_pred)\n",
        "\n",
        "print(f\"Model Accuracy: {accuracy:.2f}\")"
      ],
      "metadata": {
        "colab": {
          "base_uri": "https://localhost:8080/"
        },
        "id": "Otu7nF6ckH8X",
        "outputId": "b2123b7f-cd75-43ff-f805-b3605aa53db8"
      },
      "execution_count": null,
      "outputs": [
        {
          "output_type": "stream",
          "name": "stdout",
          "text": [
            "Model Accuracy: 1.00\n"
          ]
        }
      ]
    },
    {
      "cell_type": "markdown",
      "source": [
        "###2.Write a Python program to apply L1 regularization (Lasso) on a dataset using LogisticRegression(penalty='l1')and print the model accuracy?\n"
      ],
      "metadata": {
        "id": "Enpbx3Q8kaDG"
      }
    },
    {
      "cell_type": "code",
      "source": [
        "from sklearn.datasets import load_breast_cancer\n",
        "from sklearn.linear_model import LogisticRegression\n",
        "from sklearn.model_selection import train_test_split\n",
        "from sklearn.preprocessing import StandardScaler\n",
        "from sklearn.metrics import accuracy_score\n",
        "\n",
        "# Load sample dataset\n",
        "data = load_breast_cancer()\n",
        "X, y = data.data, data.target\n",
        "\n",
        "# Standardize features\n",
        "scaler = StandardScaler()\n",
        "X_scaled = scaler.fit_transform(X)\n",
        "\n",
        "# Split into training and test sets\n",
        "X_train, X_test, y_train, y_test = train_test_split(X_scaled, y, test_size=0.3, random_state=42)\n",
        "\n",
        "# Initialize Logistic Regression with L1 regularization\n",
        "model = LogisticRegression(penalty='l1', solver='liblinear', C=1.0, random_state=42)\n",
        "\n",
        "# Fit model\n",
        "model.fit(X_train, y_train)\n",
        "\n",
        "# Predict on test data\n",
        "y_pred = model.predict(X_test)\n",
        "\n",
        "# Calculate and print accuracy\n",
        "accuracy = accuracy_score(y_test, y_pred)\n",
        "print(f\"Model Accuracy with L1 regularization: {accuracy:.4f}\")"
      ],
      "metadata": {
        "colab": {
          "base_uri": "https://localhost:8080/"
        },
        "id": "qkitappQkjQj",
        "outputId": "4ffa7bdc-61a5-4acc-f6e0-ca54cea0a650"
      },
      "execution_count": null,
      "outputs": [
        {
          "output_type": "stream",
          "name": "stdout",
          "text": [
            "Model Accuracy with L1 regularization: 0.9825\n"
          ]
        }
      ]
    },
    {
      "cell_type": "markdown",
      "source": [
        "###3.Write a Python program to train Logistic Regression with L2 regularization (Ridge) using LogisticRegression(penalty='l2'). Print model accuracy and coefficients?\n"
      ],
      "metadata": {
        "id": "BxewXvlmkyIW"
      }
    },
    {
      "cell_type": "code",
      "source": [
        "from sklearn.datasets import load_iris\n",
        "from sklearn.linear_model import LogisticRegression\n",
        "from sklearn.model_selection import train_test_split\n",
        "from sklearn.preprocessing import StandardScaler\n",
        "from sklearn.metrics import accuracy_score\n",
        "\n",
        "# Load dataset (Iris dataset for example)\n",
        "data = load_iris()\n",
        "X = data.data\n",
        "y = data.target\n",
        "\n",
        "# For binary classification, let's use only two classes (0 and 1)\n",
        "X = X[y != 2]\n",
        "y = y[y != 2]\n",
        "\n",
        "# Split the dataset into training and testing sets\n",
        "X_train, X_test, y_train, y_test = train_test_split(X, y, test_size=0.2, random_state=42)\n",
        "\n",
        "# Standardize features\n",
        "scaler = StandardScaler()\n",
        "X_train = scaler.fit_transform(X_train)\n",
        "X_test = scaler.transform(X_test)\n",
        "\n",
        "# Train Logistic Regression with L2 regularization\n",
        "model = LogisticRegression(penalty='l2', solver='liblinear')  # 'liblinear' supports binary classification\n",
        "model.fit(X_train, y_train)\n",
        "\n",
        "# Predict and evaluate\n",
        "y_pred = model.predict(X_test)\n",
        "accuracy = accuracy_score(y_test, y_pred)\n",
        "\n",
        "# Print results\n",
        "print(\"Model Accuracy:\", accuracy)\n",
        "print(\"Model Coefficients:\", model.coef_)\n",
        "print(\"Model Intercept:\", model.intercept_)"
      ],
      "metadata": {
        "colab": {
          "base_uri": "https://localhost:8080/"
        },
        "id": "bRiv_9Nwk5qz",
        "outputId": "3d2f341e-74a8-4750-80a9-4b65340308c3"
      },
      "execution_count": null,
      "outputs": [
        {
          "output_type": "stream",
          "name": "stdout",
          "text": [
            "Model Accuracy: 1.0\n",
            "Model Coefficients: [[ 0.76824459 -1.09795391  1.45561898  1.47453658]]\n",
            "Model Intercept: [0.24425449]\n"
          ]
        }
      ]
    },
    {
      "cell_type": "markdown",
      "source": [
        "###4.Write a Python program to train Logistic Regression with Elastic Net Regularization (penalty='elasticnet')?"
      ],
      "metadata": {
        "id": "QvavlpcOlGwe"
      }
    },
    {
      "cell_type": "code",
      "source": [
        "import numpy as np\n",
        "from sklearn.datasets import load_breast_cancer\n",
        "from sklearn.linear_model import LogisticRegression\n",
        "from sklearn.model_selection import train_test_split\n",
        "from sklearn.preprocessing import StandardScaler\n",
        "from sklearn.metrics import classification_report, accuracy_score\n",
        "\n",
        "# Load dataset\n",
        "data = load_breast_cancer()\n",
        "X, y = data.data, data.target\n",
        "\n",
        "# Split into training and testing data\n",
        "X_train, X_test, y_train, y_test = train_test_split(X, y, test_size=0.2, random_state=42)\n",
        "\n",
        "# Standardize features\n",
        "scaler = StandardScaler()\n",
        "X_train_scaled = scaler.fit_transform(X_train)\n",
        "X_test_scaled = scaler.transform(X_test)\n",
        "\n",
        "# Define and train the logistic regression model with Elastic Net regularization\n",
        "model = LogisticRegression(\n",
        "    penalty='elasticnet',     # Elastic net penalty\n",
        "    solver='saga',            # Required solver for elasticnet\n",
        "    l1_ratio=0.5,             # Mix between L1 and L2 (0 = L2, 1 = L1)\n",
        "    C=1.0,                    # Regularization strength (inverse of lambda)\n",
        "    max_iter=10000,\n",
        "    random_state=42\n",
        ")\n",
        "\n",
        "model.fit(X_train_scaled, y_train)\n",
        "\n",
        "# Make predictions\n",
        "y_pred = model.predict(X_test_scaled)\n",
        "\n",
        "# Evaluate the model\n",
        "print(\"Accuracy:\", accuracy_score(y_test, y_pred))\n",
        "print(\"\\nClassification Report:\")\n",
        "print(classification_report(y_test, y_pred))"
      ],
      "metadata": {
        "colab": {
          "base_uri": "https://localhost:8080/"
        },
        "id": "-tluJ6qqlRz-",
        "outputId": "3bf86fd0-b2c6-4302-80fd-c8b15d26a39a"
      },
      "execution_count": null,
      "outputs": [
        {
          "output_type": "stream",
          "name": "stdout",
          "text": [
            "Accuracy: 0.9736842105263158\n",
            "\n",
            "Classification Report:\n",
            "              precision    recall  f1-score   support\n",
            "\n",
            "           0       0.98      0.95      0.96        43\n",
            "           1       0.97      0.99      0.98        71\n",
            "\n",
            "    accuracy                           0.97       114\n",
            "   macro avg       0.97      0.97      0.97       114\n",
            "weighted avg       0.97      0.97      0.97       114\n",
            "\n"
          ]
        }
      ]
    },
    {
      "cell_type": "markdown",
      "source": [
        "###5.Write a Python program to train a Logistic Regression model for multiclass classification using multi_class='ovr'C?\n"
      ],
      "metadata": {
        "id": "RUxCJPDilWy1"
      }
    },
    {
      "cell_type": "code",
      "source": [
        "import numpy as np\n",
        "from sklearn.datasets import load_iris\n",
        "from sklearn.linear_model import LogisticRegression\n",
        "from sklearn.model_selection import train_test_split\n",
        "from sklearn.metrics import accuracy_score, classification_report\n",
        "\n",
        "# Load dataset (Iris dataset is a common multiclass dataset)\n",
        "iris = load_iris()\n",
        "X = iris.data\n",
        "y = iris.target\n",
        "\n",
        "# Split into training and testing sets\n",
        "X_train, X_test, y_train, y_test = train_test_split(X, y, test_size=0.3, random_state=42)\n",
        "\n",
        "# Create logistic regression model with One-vs-Rest strategy\n",
        "model = LogisticRegression(multi_class='ovr', solver='liblinear', max_iter=200)\n",
        "\n",
        "# Train the model\n",
        "model.fit(X_train, y_train)\n",
        "\n",
        "# Make predictions\n",
        "y_pred = model.predict(X_test)\n",
        "\n",
        "# Evaluate the model\n",
        "print(\"Accuracy:\", accuracy_score(y_test, y_pred))\n",
        "print(\"\\nClassification Report:\\n\", classification_report(y_test, y_pred, target_names=iris.target_names))"
      ],
      "metadata": {
        "colab": {
          "base_uri": "https://localhost:8080/"
        },
        "id": "-wmuwD7xlfcZ",
        "outputId": "b962a62f-c8c1-4a0d-c3c3-2a22c05fa3ed"
      },
      "execution_count": null,
      "outputs": [
        {
          "output_type": "stream",
          "name": "stdout",
          "text": [
            "Accuracy: 0.9777777777777777\n",
            "\n",
            "Classification Report:\n",
            "               precision    recall  f1-score   support\n",
            "\n",
            "      setosa       1.00      1.00      1.00        19\n",
            "  versicolor       1.00      0.92      0.96        13\n",
            "   virginica       0.93      1.00      0.96        13\n",
            "\n",
            "    accuracy                           0.98        45\n",
            "   macro avg       0.98      0.97      0.97        45\n",
            "weighted avg       0.98      0.98      0.98        45\n",
            "\n"
          ]
        },
        {
          "output_type": "stream",
          "name": "stderr",
          "text": [
            "/usr/local/lib/python3.11/dist-packages/sklearn/linear_model/_logistic.py:1256: FutureWarning: 'multi_class' was deprecated in version 1.5 and will be removed in 1.7. Use OneVsRestClassifier(LogisticRegression(..)) instead. Leave it to its default value to avoid this warning.\n",
            "  warnings.warn(\n"
          ]
        }
      ]
    },
    {
      "cell_type": "markdown",
      "source": [
        "###6.Write a Python program to apply GridSearchCV to tune the hyperparameters (C and penalty) of Logistic Regression. Print the best parameters and accuracy?\n"
      ],
      "metadata": {
        "id": "6ZF_xDtal1JL"
      }
    },
    {
      "cell_type": "code",
      "source": [
        "from sklearn.datasets import load_iris\n",
        "from sklearn.linear_model import LogisticRegression\n",
        "from sklearn.model_selection import GridSearchCV, train_test_split\n",
        "from sklearn.metrics import accuracy_score\n",
        "\n",
        "# Load dataset\n",
        "data = load_iris()\n",
        "X = data.data\n",
        "y = data.target\n",
        "\n",
        "# Split dataset into train and test sets\n",
        "X_train, X_test, y_train, y_test = train_test_split(X, y, test_size=0.2, random_state=42)\n",
        "\n",
        "# Define the model\n",
        "model = LogisticRegression(solver='liblinear', multi_class='auto')\n",
        "\n",
        "# Define hyperparameters grid\n",
        "param_grid = {\n",
        "    'C': [0.01, 0.1, 1, 10, 100],\n",
        "    'penalty': ['l1', 'l2']\n",
        "}\n",
        "\n",
        "# Create GridSearchCV object\n",
        "grid = GridSearchCV(model, param_grid, cv=5, scoring='accuracy')\n",
        "\n",
        "# Fit the model\n",
        "grid.fit(X_train, y_train)\n",
        "\n",
        "# Get the best parameters and accuracy\n",
        "best_params = grid.best_params_\n",
        "best_model = grid.best_estimator_\n",
        "\n",
        "# Predict on the test set\n",
        "y_pred = best_model.predict(X_test)\n",
        "accuracy = accuracy_score(y_test, y_pred)\n",
        "\n",
        "# Output the results\n",
        "print(\"Best Parameters:\", best_params)\n",
        "print(\"Test Set Accuracy:\", accuracy)"
      ],
      "metadata": {
        "colab": {
          "base_uri": "https://localhost:8080/"
        },
        "id": "bqfo1BiKmBSx",
        "outputId": "12bacbff-f12e-4a7e-a568-ce52102e89de"
      },
      "execution_count": null,
      "outputs": [
        {
          "output_type": "stream",
          "name": "stderr",
          "text": [
            "/usr/local/lib/python3.11/dist-packages/sklearn/linear_model/_logistic.py:1247: FutureWarning: 'multi_class' was deprecated in version 1.5 and will be removed in 1.7. From then on, it will always use 'multinomial'. Leave it to its default value to avoid this warning.\n",
            "  warnings.warn(\n",
            "/usr/local/lib/python3.11/dist-packages/sklearn/linear_model/_logistic.py:1247: FutureWarning: 'multi_class' was deprecated in version 1.5 and will be removed in 1.7. From then on, it will always use 'multinomial'. Leave it to its default value to avoid this warning.\n",
            "  warnings.warn(\n",
            "/usr/local/lib/python3.11/dist-packages/sklearn/linear_model/_logistic.py:1247: FutureWarning: 'multi_class' was deprecated in version 1.5 and will be removed in 1.7. From then on, it will always use 'multinomial'. Leave it to its default value to avoid this warning.\n",
            "  warnings.warn(\n",
            "/usr/local/lib/python3.11/dist-packages/sklearn/linear_model/_logistic.py:1247: FutureWarning: 'multi_class' was deprecated in version 1.5 and will be removed in 1.7. From then on, it will always use 'multinomial'. Leave it to its default value to avoid this warning.\n",
            "  warnings.warn(\n",
            "/usr/local/lib/python3.11/dist-packages/sklearn/linear_model/_logistic.py:1247: FutureWarning: 'multi_class' was deprecated in version 1.5 and will be removed in 1.7. From then on, it will always use 'multinomial'. Leave it to its default value to avoid this warning.\n",
            "  warnings.warn(\n",
            "/usr/local/lib/python3.11/dist-packages/sklearn/linear_model/_logistic.py:1247: FutureWarning: 'multi_class' was deprecated in version 1.5 and will be removed in 1.7. From then on, it will always use 'multinomial'. Leave it to its default value to avoid this warning.\n",
            "  warnings.warn(\n",
            "/usr/local/lib/python3.11/dist-packages/sklearn/linear_model/_logistic.py:1247: FutureWarning: 'multi_class' was deprecated in version 1.5 and will be removed in 1.7. From then on, it will always use 'multinomial'. Leave it to its default value to avoid this warning.\n",
            "  warnings.warn(\n",
            "/usr/local/lib/python3.11/dist-packages/sklearn/linear_model/_logistic.py:1247: FutureWarning: 'multi_class' was deprecated in version 1.5 and will be removed in 1.7. From then on, it will always use 'multinomial'. Leave it to its default value to avoid this warning.\n",
            "  warnings.warn(\n",
            "/usr/local/lib/python3.11/dist-packages/sklearn/linear_model/_logistic.py:1247: FutureWarning: 'multi_class' was deprecated in version 1.5 and will be removed in 1.7. From then on, it will always use 'multinomial'. Leave it to its default value to avoid this warning.\n",
            "  warnings.warn(\n",
            "/usr/local/lib/python3.11/dist-packages/sklearn/linear_model/_logistic.py:1247: FutureWarning: 'multi_class' was deprecated in version 1.5 and will be removed in 1.7. From then on, it will always use 'multinomial'. Leave it to its default value to avoid this warning.\n",
            "  warnings.warn(\n",
            "/usr/local/lib/python3.11/dist-packages/sklearn/linear_model/_logistic.py:1247: FutureWarning: 'multi_class' was deprecated in version 1.5 and will be removed in 1.7. From then on, it will always use 'multinomial'. Leave it to its default value to avoid this warning.\n",
            "  warnings.warn(\n",
            "/usr/local/lib/python3.11/dist-packages/sklearn/linear_model/_logistic.py:1247: FutureWarning: 'multi_class' was deprecated in version 1.5 and will be removed in 1.7. From then on, it will always use 'multinomial'. Leave it to its default value to avoid this warning.\n",
            "  warnings.warn(\n",
            "/usr/local/lib/python3.11/dist-packages/sklearn/linear_model/_logistic.py:1247: FutureWarning: 'multi_class' was deprecated in version 1.5 and will be removed in 1.7. From then on, it will always use 'multinomial'. Leave it to its default value to avoid this warning.\n",
            "  warnings.warn(\n",
            "/usr/local/lib/python3.11/dist-packages/sklearn/linear_model/_logistic.py:1247: FutureWarning: 'multi_class' was deprecated in version 1.5 and will be removed in 1.7. From then on, it will always use 'multinomial'. Leave it to its default value to avoid this warning.\n",
            "  warnings.warn(\n",
            "/usr/local/lib/python3.11/dist-packages/sklearn/linear_model/_logistic.py:1247: FutureWarning: 'multi_class' was deprecated in version 1.5 and will be removed in 1.7. From then on, it will always use 'multinomial'. Leave it to its default value to avoid this warning.\n",
            "  warnings.warn(\n",
            "/usr/local/lib/python3.11/dist-packages/sklearn/linear_model/_logistic.py:1247: FutureWarning: 'multi_class' was deprecated in version 1.5 and will be removed in 1.7. From then on, it will always use 'multinomial'. Leave it to its default value to avoid this warning.\n",
            "  warnings.warn(\n",
            "/usr/local/lib/python3.11/dist-packages/sklearn/linear_model/_logistic.py:1247: FutureWarning: 'multi_class' was deprecated in version 1.5 and will be removed in 1.7. From then on, it will always use 'multinomial'. Leave it to its default value to avoid this warning.\n",
            "  warnings.warn(\n",
            "/usr/local/lib/python3.11/dist-packages/sklearn/linear_model/_logistic.py:1247: FutureWarning: 'multi_class' was deprecated in version 1.5 and will be removed in 1.7. From then on, it will always use 'multinomial'. Leave it to its default value to avoid this warning.\n",
            "  warnings.warn(\n",
            "/usr/local/lib/python3.11/dist-packages/sklearn/linear_model/_logistic.py:1247: FutureWarning: 'multi_class' was deprecated in version 1.5 and will be removed in 1.7. From then on, it will always use 'multinomial'. Leave it to its default value to avoid this warning.\n",
            "  warnings.warn(\n",
            "/usr/local/lib/python3.11/dist-packages/sklearn/linear_model/_logistic.py:1247: FutureWarning: 'multi_class' was deprecated in version 1.5 and will be removed in 1.7. From then on, it will always use 'multinomial'. Leave it to its default value to avoid this warning.\n",
            "  warnings.warn(\n",
            "/usr/local/lib/python3.11/dist-packages/sklearn/linear_model/_logistic.py:1247: FutureWarning: 'multi_class' was deprecated in version 1.5 and will be removed in 1.7. From then on, it will always use 'multinomial'. Leave it to its default value to avoid this warning.\n",
            "  warnings.warn(\n",
            "/usr/local/lib/python3.11/dist-packages/sklearn/linear_model/_logistic.py:1247: FutureWarning: 'multi_class' was deprecated in version 1.5 and will be removed in 1.7. From then on, it will always use 'multinomial'. Leave it to its default value to avoid this warning.\n",
            "  warnings.warn(\n",
            "/usr/local/lib/python3.11/dist-packages/sklearn/linear_model/_logistic.py:1247: FutureWarning: 'multi_class' was deprecated in version 1.5 and will be removed in 1.7. From then on, it will always use 'multinomial'. Leave it to its default value to avoid this warning.\n",
            "  warnings.warn(\n",
            "/usr/local/lib/python3.11/dist-packages/sklearn/linear_model/_logistic.py:1247: FutureWarning: 'multi_class' was deprecated in version 1.5 and will be removed in 1.7. From then on, it will always use 'multinomial'. Leave it to its default value to avoid this warning.\n",
            "  warnings.warn(\n",
            "/usr/local/lib/python3.11/dist-packages/sklearn/linear_model/_logistic.py:1247: FutureWarning: 'multi_class' was deprecated in version 1.5 and will be removed in 1.7. From then on, it will always use 'multinomial'. Leave it to its default value to avoid this warning.\n",
            "  warnings.warn(\n",
            "/usr/local/lib/python3.11/dist-packages/sklearn/linear_model/_logistic.py:1247: FutureWarning: 'multi_class' was deprecated in version 1.5 and will be removed in 1.7. From then on, it will always use 'multinomial'. Leave it to its default value to avoid this warning.\n",
            "  warnings.warn(\n",
            "/usr/local/lib/python3.11/dist-packages/sklearn/linear_model/_logistic.py:1247: FutureWarning: 'multi_class' was deprecated in version 1.5 and will be removed in 1.7. From then on, it will always use 'multinomial'. Leave it to its default value to avoid this warning.\n",
            "  warnings.warn(\n",
            "/usr/local/lib/python3.11/dist-packages/sklearn/linear_model/_logistic.py:1247: FutureWarning: 'multi_class' was deprecated in version 1.5 and will be removed in 1.7. From then on, it will always use 'multinomial'. Leave it to its default value to avoid this warning.\n",
            "  warnings.warn(\n",
            "/usr/local/lib/python3.11/dist-packages/sklearn/linear_model/_logistic.py:1247: FutureWarning: 'multi_class' was deprecated in version 1.5 and will be removed in 1.7. From then on, it will always use 'multinomial'. Leave it to its default value to avoid this warning.\n",
            "  warnings.warn(\n",
            "/usr/local/lib/python3.11/dist-packages/sklearn/linear_model/_logistic.py:1247: FutureWarning: 'multi_class' was deprecated in version 1.5 and will be removed in 1.7. From then on, it will always use 'multinomial'. Leave it to its default value to avoid this warning.\n",
            "  warnings.warn(\n",
            "/usr/local/lib/python3.11/dist-packages/sklearn/linear_model/_logistic.py:1247: FutureWarning: 'multi_class' was deprecated in version 1.5 and will be removed in 1.7. From then on, it will always use 'multinomial'. Leave it to its default value to avoid this warning.\n",
            "  warnings.warn(\n",
            "/usr/local/lib/python3.11/dist-packages/sklearn/linear_model/_logistic.py:1247: FutureWarning: 'multi_class' was deprecated in version 1.5 and will be removed in 1.7. From then on, it will always use 'multinomial'. Leave it to its default value to avoid this warning.\n",
            "  warnings.warn(\n",
            "/usr/local/lib/python3.11/dist-packages/sklearn/linear_model/_logistic.py:1247: FutureWarning: 'multi_class' was deprecated in version 1.5 and will be removed in 1.7. From then on, it will always use 'multinomial'. Leave it to its default value to avoid this warning.\n",
            "  warnings.warn(\n",
            "/usr/local/lib/python3.11/dist-packages/sklearn/linear_model/_logistic.py:1247: FutureWarning: 'multi_class' was deprecated in version 1.5 and will be removed in 1.7. From then on, it will always use 'multinomial'. Leave it to its default value to avoid this warning.\n",
            "  warnings.warn(\n",
            "/usr/local/lib/python3.11/dist-packages/sklearn/linear_model/_logistic.py:1247: FutureWarning: 'multi_class' was deprecated in version 1.5 and will be removed in 1.7. From then on, it will always use 'multinomial'. Leave it to its default value to avoid this warning.\n",
            "  warnings.warn(\n",
            "/usr/local/lib/python3.11/dist-packages/sklearn/linear_model/_logistic.py:1247: FutureWarning: 'multi_class' was deprecated in version 1.5 and will be removed in 1.7. From then on, it will always use 'multinomial'. Leave it to its default value to avoid this warning.\n",
            "  warnings.warn(\n"
          ]
        },
        {
          "output_type": "stream",
          "name": "stdout",
          "text": [
            "Best Parameters: {'C': 10, 'penalty': 'l1'}\n",
            "Test Set Accuracy: 1.0\n"
          ]
        },
        {
          "output_type": "stream",
          "name": "stderr",
          "text": [
            "/usr/local/lib/python3.11/dist-packages/sklearn/linear_model/_logistic.py:1247: FutureWarning: 'multi_class' was deprecated in version 1.5 and will be removed in 1.7. From then on, it will always use 'multinomial'. Leave it to its default value to avoid this warning.\n",
            "  warnings.warn(\n",
            "/usr/local/lib/python3.11/dist-packages/sklearn/linear_model/_logistic.py:1247: FutureWarning: 'multi_class' was deprecated in version 1.5 and will be removed in 1.7. From then on, it will always use 'multinomial'. Leave it to its default value to avoid this warning.\n",
            "  warnings.warn(\n",
            "/usr/local/lib/python3.11/dist-packages/sklearn/linear_model/_logistic.py:1247: FutureWarning: 'multi_class' was deprecated in version 1.5 and will be removed in 1.7. From then on, it will always use 'multinomial'. Leave it to its default value to avoid this warning.\n",
            "  warnings.warn(\n",
            "/usr/local/lib/python3.11/dist-packages/sklearn/linear_model/_logistic.py:1247: FutureWarning: 'multi_class' was deprecated in version 1.5 and will be removed in 1.7. From then on, it will always use 'multinomial'. Leave it to its default value to avoid this warning.\n",
            "  warnings.warn(\n",
            "/usr/local/lib/python3.11/dist-packages/sklearn/linear_model/_logistic.py:1247: FutureWarning: 'multi_class' was deprecated in version 1.5 and will be removed in 1.7. From then on, it will always use 'multinomial'. Leave it to its default value to avoid this warning.\n",
            "  warnings.warn(\n",
            "/usr/local/lib/python3.11/dist-packages/sklearn/svm/_base.py:1249: ConvergenceWarning: Liblinear failed to converge, increase the number of iterations.\n",
            "  warnings.warn(\n",
            "/usr/local/lib/python3.11/dist-packages/sklearn/linear_model/_logistic.py:1247: FutureWarning: 'multi_class' was deprecated in version 1.5 and will be removed in 1.7. From then on, it will always use 'multinomial'. Leave it to its default value to avoid this warning.\n",
            "  warnings.warn(\n",
            "/usr/local/lib/python3.11/dist-packages/sklearn/linear_model/_logistic.py:1247: FutureWarning: 'multi_class' was deprecated in version 1.5 and will be removed in 1.7. From then on, it will always use 'multinomial'. Leave it to its default value to avoid this warning.\n",
            "  warnings.warn(\n",
            "/usr/local/lib/python3.11/dist-packages/sklearn/linear_model/_logistic.py:1247: FutureWarning: 'multi_class' was deprecated in version 1.5 and will be removed in 1.7. From then on, it will always use 'multinomial'. Leave it to its default value to avoid this warning.\n",
            "  warnings.warn(\n",
            "/usr/local/lib/python3.11/dist-packages/sklearn/linear_model/_logistic.py:1247: FutureWarning: 'multi_class' was deprecated in version 1.5 and will be removed in 1.7. From then on, it will always use 'multinomial'. Leave it to its default value to avoid this warning.\n",
            "  warnings.warn(\n",
            "/usr/local/lib/python3.11/dist-packages/sklearn/linear_model/_logistic.py:1247: FutureWarning: 'multi_class' was deprecated in version 1.5 and will be removed in 1.7. From then on, it will always use 'multinomial'. Leave it to its default value to avoid this warning.\n",
            "  warnings.warn(\n",
            "/usr/local/lib/python3.11/dist-packages/sklearn/linear_model/_logistic.py:1247: FutureWarning: 'multi_class' was deprecated in version 1.5 and will be removed in 1.7. From then on, it will always use 'multinomial'. Leave it to its default value to avoid this warning.\n",
            "  warnings.warn(\n",
            "/usr/local/lib/python3.11/dist-packages/sklearn/linear_model/_logistic.py:1247: FutureWarning: 'multi_class' was deprecated in version 1.5 and will be removed in 1.7. From then on, it will always use 'multinomial'. Leave it to its default value to avoid this warning.\n",
            "  warnings.warn(\n",
            "/usr/local/lib/python3.11/dist-packages/sklearn/linear_model/_logistic.py:1247: FutureWarning: 'multi_class' was deprecated in version 1.5 and will be removed in 1.7. From then on, it will always use 'multinomial'. Leave it to its default value to avoid this warning.\n",
            "  warnings.warn(\n",
            "/usr/local/lib/python3.11/dist-packages/sklearn/linear_model/_logistic.py:1247: FutureWarning: 'multi_class' was deprecated in version 1.5 and will be removed in 1.7. From then on, it will always use 'multinomial'. Leave it to its default value to avoid this warning.\n",
            "  warnings.warn(\n",
            "/usr/local/lib/python3.11/dist-packages/sklearn/linear_model/_logistic.py:1247: FutureWarning: 'multi_class' was deprecated in version 1.5 and will be removed in 1.7. From then on, it will always use 'multinomial'. Leave it to its default value to avoid this warning.\n",
            "  warnings.warn(\n"
          ]
        }
      ]
    },
    {
      "cell_type": "markdown",
      "source": [
        "###7.Write a Python program to evaluate Logistic Regression using Stratified K-Fold Cross-Validation. Print the average accuracy?\n"
      ],
      "metadata": {
        "id": "BQwTS39TmRAn"
      }
    },
    {
      "cell_type": "code",
      "source": [
        "import numpy as np\n",
        "from sklearn.datasets import load_breast_cancer\n",
        "from sklearn.linear_model import LogisticRegression\n",
        "from sklearn.model_selection import StratifiedKFold\n",
        "from sklearn.metrics import accuracy_score\n",
        "\n",
        "# Load dataset\n",
        "data = load_breast_cancer()\n",
        "X = data.data\n",
        "y = data.target\n",
        "\n",
        "# Define Stratified K-Fold cross-validator\n",
        "skf = StratifiedKFold(n_splits=5, shuffle=True, random_state=42)\n",
        "\n",
        "# Initialize logistic regression model\n",
        "model = LogisticRegression(max_iter=10000)\n",
        "\n",
        "# Store accuracies\n",
        "accuracies = []\n",
        "\n",
        "# Perform Stratified K-Fold Cross-Validation\n",
        "for train_index, test_index in skf.split(X, y):\n",
        "    X_train, X_test = X[train_index], X[test_index]\n",
        "    y_train, y_test = y[train_index], y[test_index]\n",
        "\n",
        "    model.fit(X_train, y_train)\n",
        "    y_pred = model.predict(X_test)\n",
        "    acc = accuracy_score(y_test, y_pred)\n",
        "    accuracies.append(acc)\n",
        "    print(f\"Fold accuracy: {acc:.4f}\")\n",
        "\n",
        "# Print average accuracy\n",
        "average_accuracy = np.mean(accuracies)\n",
        "print(f\"\\nAverage accuracy: {average_accuracy:.4f}\")"
      ],
      "metadata": {
        "colab": {
          "base_uri": "https://localhost:8080/"
        },
        "id": "XR2Y6YBUmaj-",
        "outputId": "4941777f-df18-43c4-e427-14edc246730f"
      },
      "execution_count": null,
      "outputs": [
        {
          "output_type": "stream",
          "name": "stdout",
          "text": [
            "Fold accuracy: 0.9649\n",
            "Fold accuracy: 0.9211\n",
            "Fold accuracy: 0.9649\n",
            "Fold accuracy: 0.9474\n",
            "Fold accuracy: 0.9735\n",
            "\n",
            "Average accuracy: 0.9543\n"
          ]
        }
      ]
    },
    {
      "cell_type": "markdown",
      "source": [
        "###8.Write a Python program to load a dataset from a CSV file, apply Logistic Regression, and evaluate its accuracy?\n"
      ],
      "metadata": {
        "id": "bE6u5Gs_mquS"
      }
    },
    {
      "cell_type": "code",
      "source": [
        "import pandas as pd\n",
        "from sklearn.model_selection import train_test_split\n",
        "from sklearn.linear_model import LogisticRegression\n",
        "from sklearn.metrics import accuracy_score\n",
        "\n",
        "# Load dataset from CSV\n",
        "file_path = 'your_dataset.csv'  # Replace with your actual CSV file path\n",
        "data = pd.read_csv(file_path)\n",
        "\n",
        "# Preview the data\n",
        "print(\"First 5 rows of the dataset:\")\n",
        "print(data.head())\n",
        "\n",
        "# Separate features and target\n",
        "# Replace 'target_column' with the actual column name of your labels\n",
        "X = data.drop('target_column', axis=1)\n",
        "y = data['target_column']\n",
        "\n",
        "# Split into train and test sets\n",
        "X_train, X_test, y_train, y_test = train_test_split(X, y, test_size=0.2, random_state=42)\n",
        "\n",
        "# Initialize and train Logistic Regression model\n",
        "model = LogisticRegression(max_iter=1000)\n",
        "model.fit(X_train, y_train)\n",
        "\n",
        "# Make predictions\n",
        "y_pred = model.predict(X_test)\n",
        "\n",
        "# Evaluate accuracy\n",
        "accuracy = accuracy_score(y_test, y_pred)\n",
        "print(f'Accuracy of Logistic Regression: {accuracy:.2f}')"
      ],
      "metadata": {
        "colab": {
          "base_uri": "https://localhost:8080/",
          "height": 356
        },
        "id": "jlCljEJym7dv",
        "outputId": "6c72b86b-6f27-4347-bbe5-b7f5d54252f7"
      },
      "execution_count": null,
      "outputs": [
        {
          "output_type": "error",
          "ename": "FileNotFoundError",
          "evalue": "[Errno 2] No such file or directory: 'your_dataset.csv'",
          "traceback": [
            "\u001b[0;31m---------------------------------------------------------------------------\u001b[0m",
            "\u001b[0;31mFileNotFoundError\u001b[0m                         Traceback (most recent call last)",
            "\u001b[0;32m<ipython-input-8-affcad5aa837>\u001b[0m in \u001b[0;36m<cell line: 0>\u001b[0;34m()\u001b[0m\n\u001b[1;32m      6\u001b[0m \u001b[0;31m# Load dataset from CSV\u001b[0m\u001b[0;34m\u001b[0m\u001b[0;34m\u001b[0m\u001b[0m\n\u001b[1;32m      7\u001b[0m \u001b[0mfile_path\u001b[0m \u001b[0;34m=\u001b[0m \u001b[0;34m'your_dataset.csv'\u001b[0m  \u001b[0;31m# Replace with your actual CSV file path\u001b[0m\u001b[0;34m\u001b[0m\u001b[0;34m\u001b[0m\u001b[0m\n\u001b[0;32m----> 8\u001b[0;31m \u001b[0mdata\u001b[0m \u001b[0;34m=\u001b[0m \u001b[0mpd\u001b[0m\u001b[0;34m.\u001b[0m\u001b[0mread_csv\u001b[0m\u001b[0;34m(\u001b[0m\u001b[0mfile_path\u001b[0m\u001b[0;34m)\u001b[0m\u001b[0;34m\u001b[0m\u001b[0;34m\u001b[0m\u001b[0m\n\u001b[0m\u001b[1;32m      9\u001b[0m \u001b[0;34m\u001b[0m\u001b[0m\n\u001b[1;32m     10\u001b[0m \u001b[0;31m# Preview the data\u001b[0m\u001b[0;34m\u001b[0m\u001b[0;34m\u001b[0m\u001b[0m\n",
            "\u001b[0;32m/usr/local/lib/python3.11/dist-packages/pandas/io/parsers/readers.py\u001b[0m in \u001b[0;36mread_csv\u001b[0;34m(filepath_or_buffer, sep, delimiter, header, names, index_col, usecols, dtype, engine, converters, true_values, false_values, skipinitialspace, skiprows, skipfooter, nrows, na_values, keep_default_na, na_filter, verbose, skip_blank_lines, parse_dates, infer_datetime_format, keep_date_col, date_parser, date_format, dayfirst, cache_dates, iterator, chunksize, compression, thousands, decimal, lineterminator, quotechar, quoting, doublequote, escapechar, comment, encoding, encoding_errors, dialect, on_bad_lines, delim_whitespace, low_memory, memory_map, float_precision, storage_options, dtype_backend)\u001b[0m\n\u001b[1;32m   1024\u001b[0m     \u001b[0mkwds\u001b[0m\u001b[0;34m.\u001b[0m\u001b[0mupdate\u001b[0m\u001b[0;34m(\u001b[0m\u001b[0mkwds_defaults\u001b[0m\u001b[0;34m)\u001b[0m\u001b[0;34m\u001b[0m\u001b[0;34m\u001b[0m\u001b[0m\n\u001b[1;32m   1025\u001b[0m \u001b[0;34m\u001b[0m\u001b[0m\n\u001b[0;32m-> 1026\u001b[0;31m     \u001b[0;32mreturn\u001b[0m \u001b[0m_read\u001b[0m\u001b[0;34m(\u001b[0m\u001b[0mfilepath_or_buffer\u001b[0m\u001b[0;34m,\u001b[0m \u001b[0mkwds\u001b[0m\u001b[0;34m)\u001b[0m\u001b[0;34m\u001b[0m\u001b[0;34m\u001b[0m\u001b[0m\n\u001b[0m\u001b[1;32m   1027\u001b[0m \u001b[0;34m\u001b[0m\u001b[0m\n\u001b[1;32m   1028\u001b[0m \u001b[0;34m\u001b[0m\u001b[0m\n",
            "\u001b[0;32m/usr/local/lib/python3.11/dist-packages/pandas/io/parsers/readers.py\u001b[0m in \u001b[0;36m_read\u001b[0;34m(filepath_or_buffer, kwds)\u001b[0m\n\u001b[1;32m    618\u001b[0m \u001b[0;34m\u001b[0m\u001b[0m\n\u001b[1;32m    619\u001b[0m     \u001b[0;31m# Create the parser.\u001b[0m\u001b[0;34m\u001b[0m\u001b[0;34m\u001b[0m\u001b[0m\n\u001b[0;32m--> 620\u001b[0;31m     \u001b[0mparser\u001b[0m \u001b[0;34m=\u001b[0m \u001b[0mTextFileReader\u001b[0m\u001b[0;34m(\u001b[0m\u001b[0mfilepath_or_buffer\u001b[0m\u001b[0;34m,\u001b[0m \u001b[0;34m**\u001b[0m\u001b[0mkwds\u001b[0m\u001b[0;34m)\u001b[0m\u001b[0;34m\u001b[0m\u001b[0;34m\u001b[0m\u001b[0m\n\u001b[0m\u001b[1;32m    621\u001b[0m \u001b[0;34m\u001b[0m\u001b[0m\n\u001b[1;32m    622\u001b[0m     \u001b[0;32mif\u001b[0m \u001b[0mchunksize\u001b[0m \u001b[0;32mor\u001b[0m \u001b[0miterator\u001b[0m\u001b[0;34m:\u001b[0m\u001b[0;34m\u001b[0m\u001b[0;34m\u001b[0m\u001b[0m\n",
            "\u001b[0;32m/usr/local/lib/python3.11/dist-packages/pandas/io/parsers/readers.py\u001b[0m in \u001b[0;36m__init__\u001b[0;34m(self, f, engine, **kwds)\u001b[0m\n\u001b[1;32m   1618\u001b[0m \u001b[0;34m\u001b[0m\u001b[0m\n\u001b[1;32m   1619\u001b[0m         \u001b[0mself\u001b[0m\u001b[0;34m.\u001b[0m\u001b[0mhandles\u001b[0m\u001b[0;34m:\u001b[0m \u001b[0mIOHandles\u001b[0m \u001b[0;34m|\u001b[0m \u001b[0;32mNone\u001b[0m \u001b[0;34m=\u001b[0m \u001b[0;32mNone\u001b[0m\u001b[0;34m\u001b[0m\u001b[0;34m\u001b[0m\u001b[0m\n\u001b[0;32m-> 1620\u001b[0;31m         \u001b[0mself\u001b[0m\u001b[0;34m.\u001b[0m\u001b[0m_engine\u001b[0m \u001b[0;34m=\u001b[0m \u001b[0mself\u001b[0m\u001b[0;34m.\u001b[0m\u001b[0m_make_engine\u001b[0m\u001b[0;34m(\u001b[0m\u001b[0mf\u001b[0m\u001b[0;34m,\u001b[0m \u001b[0mself\u001b[0m\u001b[0;34m.\u001b[0m\u001b[0mengine\u001b[0m\u001b[0;34m)\u001b[0m\u001b[0;34m\u001b[0m\u001b[0;34m\u001b[0m\u001b[0m\n\u001b[0m\u001b[1;32m   1621\u001b[0m \u001b[0;34m\u001b[0m\u001b[0m\n\u001b[1;32m   1622\u001b[0m     \u001b[0;32mdef\u001b[0m \u001b[0mclose\u001b[0m\u001b[0;34m(\u001b[0m\u001b[0mself\u001b[0m\u001b[0;34m)\u001b[0m \u001b[0;34m->\u001b[0m \u001b[0;32mNone\u001b[0m\u001b[0;34m:\u001b[0m\u001b[0;34m\u001b[0m\u001b[0;34m\u001b[0m\u001b[0m\n",
            "\u001b[0;32m/usr/local/lib/python3.11/dist-packages/pandas/io/parsers/readers.py\u001b[0m in \u001b[0;36m_make_engine\u001b[0;34m(self, f, engine)\u001b[0m\n\u001b[1;32m   1878\u001b[0m                 \u001b[0;32mif\u001b[0m \u001b[0;34m\"b\"\u001b[0m \u001b[0;32mnot\u001b[0m \u001b[0;32min\u001b[0m \u001b[0mmode\u001b[0m\u001b[0;34m:\u001b[0m\u001b[0;34m\u001b[0m\u001b[0;34m\u001b[0m\u001b[0m\n\u001b[1;32m   1879\u001b[0m                     \u001b[0mmode\u001b[0m \u001b[0;34m+=\u001b[0m \u001b[0;34m\"b\"\u001b[0m\u001b[0;34m\u001b[0m\u001b[0;34m\u001b[0m\u001b[0m\n\u001b[0;32m-> 1880\u001b[0;31m             self.handles = get_handle(\n\u001b[0m\u001b[1;32m   1881\u001b[0m                 \u001b[0mf\u001b[0m\u001b[0;34m,\u001b[0m\u001b[0;34m\u001b[0m\u001b[0;34m\u001b[0m\u001b[0m\n\u001b[1;32m   1882\u001b[0m                 \u001b[0mmode\u001b[0m\u001b[0;34m,\u001b[0m\u001b[0;34m\u001b[0m\u001b[0;34m\u001b[0m\u001b[0m\n",
            "\u001b[0;32m/usr/local/lib/python3.11/dist-packages/pandas/io/common.py\u001b[0m in \u001b[0;36mget_handle\u001b[0;34m(path_or_buf, mode, encoding, compression, memory_map, is_text, errors, storage_options)\u001b[0m\n\u001b[1;32m    871\u001b[0m         \u001b[0;32mif\u001b[0m \u001b[0mioargs\u001b[0m\u001b[0;34m.\u001b[0m\u001b[0mencoding\u001b[0m \u001b[0;32mand\u001b[0m \u001b[0;34m\"b\"\u001b[0m \u001b[0;32mnot\u001b[0m \u001b[0;32min\u001b[0m \u001b[0mioargs\u001b[0m\u001b[0;34m.\u001b[0m\u001b[0mmode\u001b[0m\u001b[0;34m:\u001b[0m\u001b[0;34m\u001b[0m\u001b[0;34m\u001b[0m\u001b[0m\n\u001b[1;32m    872\u001b[0m             \u001b[0;31m# Encoding\u001b[0m\u001b[0;34m\u001b[0m\u001b[0;34m\u001b[0m\u001b[0m\n\u001b[0;32m--> 873\u001b[0;31m             handle = open(\n\u001b[0m\u001b[1;32m    874\u001b[0m                 \u001b[0mhandle\u001b[0m\u001b[0;34m,\u001b[0m\u001b[0;34m\u001b[0m\u001b[0;34m\u001b[0m\u001b[0m\n\u001b[1;32m    875\u001b[0m                 \u001b[0mioargs\u001b[0m\u001b[0;34m.\u001b[0m\u001b[0mmode\u001b[0m\u001b[0;34m,\u001b[0m\u001b[0;34m\u001b[0m\u001b[0;34m\u001b[0m\u001b[0m\n",
            "\u001b[0;31mFileNotFoundError\u001b[0m: [Errno 2] No such file or directory: 'your_dataset.csv'"
          ]
        }
      ]
    },
    {
      "cell_type": "markdown",
      "source": [
        "###9.Write a Python program to apply RandomizedSearchCV for tuning hyperparameters (C, penalty, solver) in Logistic Regression. Print the best parameters and accuracy?\n"
      ],
      "metadata": {
        "id": "Qv7RudSsnGOi"
      }
    },
    {
      "cell_type": "code",
      "source": [
        "import numpy as np\n",
        "from sklearn.datasets import load_breast_cancer\n",
        "from sklearn.linear_model import LogisticRegression\n",
        "from sklearn.model_selection import RandomizedSearchCV, train_test_split\n",
        "from sklearn.metrics import accuracy_score\n",
        "\n",
        "# Load dataset\n",
        "data = load_breast_cancer()\n",
        "X = data.data\n",
        "y = data.target\n",
        "\n",
        "# Split data\n",
        "X_train, X_test, y_train, y_test = train_test_split(X, y, test_size=0.2, random_state=42)\n",
        "\n",
        "# Define logistic regression model\n",
        "log_reg = LogisticRegression(max_iter=10000)\n",
        "\n",
        "# Define hyperparameter space\n",
        "param_dist = {\n",
        "    'C': np.logspace(-4, 4, 20),\n",
        "    'penalty': ['l1', 'l2', 'elasticnet', 'none'],\n",
        "    'solver': ['liblinear', 'saga', 'lbfgs', 'newton-cg', 'sag']\n",
        "}\n",
        "\n",
        "# Randomized search with cross-validation\n",
        "random_search = RandomizedSearchCV(\n",
        "    log_reg,\n",
        "    param_distributions=param_dist,\n",
        "    n_iter=50,\n",
        "    cv=5,\n",
        "    scoring='accuracy',\n",
        "    random_state=42,\n",
        "    n_jobs=-1,\n",
        "    error_score='raise'\n",
        ")\n",
        "\n",
        "# Fit model\n",
        "try:\n",
        "    random_search.fit(X_train, y_train)\n",
        "    best_model = random_search.best_estimator_\n",
        "\n",
        "    # Predict and evaluate\n",
        "    y_pred = best_model.predict(X_test)\n",
        "    accuracy = accuracy_score(y_test, y_pred)\n",
        "\n",
        "    print(\"Best Parameters:\", random_search.best_params_)\n",
        "    print(\"Accuracy on test data:\", accuracy)\n",
        "\n",
        "except ValueError as e:\n",
        "    print(\"Error during fitting:\", e)"
      ],
      "metadata": {
        "colab": {
          "base_uri": "https://localhost:8080/"
        },
        "id": "KHNTskAInRXr",
        "outputId": "f0e3cb9a-53e4-438b-b241-4160e65a5297"
      },
      "execution_count": null,
      "outputs": [
        {
          "output_type": "stream",
          "name": "stdout",
          "text": [
            "Error during fitting: Solver newton-cg supports only 'l2' or None penalties, got elasticnet penalty.\n"
          ]
        }
      ]
    },
    {
      "cell_type": "markdown",
      "source": [
        "###10.Write a Python program to implement One-vs-One (OvO) Multiclass Logistic Regression and print accuracy?\n"
      ],
      "metadata": {
        "id": "e-8UQ3MDnzQW"
      }
    },
    {
      "cell_type": "code",
      "source": [
        "import numpy as np\n",
        "from sklearn.datasets import load_iris\n",
        "from sklearn.linear_model import LogisticRegression\n",
        "from sklearn.model_selection import train_test_split\n",
        "from sklearn.metrics import accuracy_score\n",
        "from itertools import combinations\n",
        "from collections import Counter\n",
        "\n",
        "# Load Iris dataset\n",
        "data = load_iris()\n",
        "X = data.data\n",
        "y = data.target\n",
        "class_labels = np.unique(y)\n",
        "\n",
        "# Train-test split\n",
        "X_train, X_test, y_train, y_test = train_test_split(X, y, test_size=0.3, random_state=42)\n",
        "\n",
        "# One-vs-One Classifier Training\n",
        "pairwise_classifiers = {}\n",
        "pairs = list(combinations(class_labels, 2))\n",
        "\n",
        "for (class1, class2) in pairs:\n",
        "    # Extract binary classification data for the current class pair\n",
        "    idx = np.where((y_train == class1) | (y_train == class2))\n",
        "    X_pair = X_train[idx]\n",
        "    y_pair = y_train[idx]\n",
        "\n",
        "    # Relabel to 0 and 1 for logistic regression\n",
        "    y_binary = (y_pair == class2).astype(int)\n",
        "\n",
        "    clf = LogisticRegression()\n",
        "    clf.fit(X_pair, y_binary)\n",
        "    pairwise_classifiers[(class1, class2)] = clf\n",
        "\n",
        "# Prediction via majority voting\n",
        "def ovo_predict(X):\n",
        "    votes = []\n",
        "    for (class1, class2), clf in pairwise_classifiers.items():\n",
        "        pred = clf.predict(X)\n",
        "        # Convert back to original class labels\n",
        "        pred_labels = np.where(pred == 0, class1, class2)\n",
        "        votes.append(pred_labels)\n",
        "\n",
        "    # Transpose and perform majority voting\n",
        "    votes = np.array(votes).T\n",
        "    final_predictions = [Counter(row).most_common(1)[0][0] for row in votes]\n",
        "    return np.array(final_predictions)\n",
        "\n",
        "# Make predictions and evaluate accuracy\n",
        "y_pred = ovo_predict(X_test)\n",
        "accuracy = accuracy_score(y_test, y_pred)\n",
        "print(f\"One-vs-One Logistic Regression Accuracy: {accuracy:.2f}\")"
      ],
      "metadata": {
        "colab": {
          "base_uri": "https://localhost:8080/"
        },
        "id": "P7onqaF8oI6D",
        "outputId": "c99d2351-5f67-4e06-f919-9793bfaa0e7f"
      },
      "execution_count": null,
      "outputs": [
        {
          "output_type": "stream",
          "name": "stdout",
          "text": [
            "One-vs-One Logistic Regression Accuracy: 1.00\n"
          ]
        }
      ]
    },
    {
      "cell_type": "markdown",
      "source": [
        "###11.Write a Python program to train a Logistic Regression model and visualize the confusion matrix for binary classification?\n"
      ],
      "metadata": {
        "id": "p9fMAq0GoXe0"
      }
    },
    {
      "cell_type": "code",
      "source": [
        "import numpy as np\n",
        "import matplotlib.pyplot as plt\n",
        "import seaborn as sns\n",
        "from sklearn.datasets import make_classification\n",
        "from sklearn.linear_model import LogisticRegression\n",
        "from sklearn.model_selection import train_test_split\n",
        "from sklearn.metrics import confusion_matrix, ConfusionMatrixDisplay\n",
        "\n",
        "# Step 1: Generate a binary classification dataset\n",
        "X, y = make_classification(\n",
        "    n_samples=1000,    # number of samples\n",
        "    n_features=10,     # number of features\n",
        "    n_informative=5,   # informative features\n",
        "    n_redundant=0,\n",
        "    n_classes=2,       # binary classification\n",
        "    random_state=42\n",
        ")\n",
        "\n",
        "# Step 2: Split data into training and testing sets\n",
        "X_train, X_test, y_train, y_test = train_test_split(\n",
        "    X, y, test_size=0.25, random_state=42\n",
        ")\n",
        "\n",
        "# Step 3: Create and train the Logistic Regression model\n",
        "model = LogisticRegression(max_iter=1000)\n",
        "model.fit(X_train, y_train)\n",
        "\n",
        "# Step 4: Predict on the test set\n",
        "y_pred = model.predict(X_test)\n",
        "\n",
        "# Step 5: Compute confusion matrix\n",
        "cm = confusion_matrix(y_test, y_pred)\n",
        "\n",
        "# Step 6: Visualize confusion matrix\n",
        "plt.figure(figsize=(6,5))\n",
        "sns.heatmap(cm, annot=True, fmt='d', cmap='Blues', cbar=False)\n",
        "plt.xlabel('Predicted label')\n",
        "plt.ylabel('True label')\n",
        "plt.title('Confusion Matrix for Logistic Regression')\n",
        "plt.show()"
      ],
      "metadata": {
        "colab": {
          "base_uri": "https://localhost:8080/",
          "height": 487
        },
        "id": "fwM6p_sCogPl",
        "outputId": "991b9c37-a199-4ab1-b43e-3950951466a3"
      },
      "execution_count": null,
      "outputs": [
        {
          "output_type": "display_data",
          "data": {
            "text/plain": [
              "<Figure size 600x500 with 1 Axes>"
            ],
            "image/png": "[encoded data removed]"
          },
          "metadata": {}
        }
      ]
    },
    {
      "cell_type": "markdown",
      "source": [
        "###12.Write a Python program to train a Logistic Regression model and evaluate its performance using Precision,Recall, and F1-ScoreM?\n"
      ],
      "metadata": {
        "id": "cDw15w4TpDQs"
      }
    },
    {
      "cell_type": "code",
      "source": [
        "from sklearn.datasets import make_classification\n",
        "from sklearn.linear_model import LogisticRegression\n",
        "from sklearn.model_selection import train_test_split\n",
        "from sklearn.metrics import precision_score, recall_score, f1_score\n",
        "\n",
        "# Generate a sample binary classification dataset\n",
        "X, y = make_classification(n_samples=1000, n_features=20, random_state=42)\n",
        "\n",
        "# Split into training and testing sets\n",
        "X_train, X_test, y_train, y_test = train_test_split(X, y, test_size=0.2, random_state=42)\n",
        "\n",
        "# Initialize Logistic Regression model\n",
        "model = LogisticRegression(max_iter=1000)\n",
        "\n",
        "# Train the model\n",
        "model.fit(X_train, y_train)\n",
        "\n",
        "# Predict on the test set\n",
        "y_pred = model.predict(X_test)\n",
        "\n",
        "# Evaluate the model\n",
        "precision = precision_score(y_test, y_pred)\n",
        "recall = recall_score(y_test, y_pred)\n",
        "f1 = f1_score(y_test, y_pred)\n",
        "\n",
        "print(f\"Precision: {precision:.4f}\")\n",
        "print(f\"Recall:    {recall:.4f}\")\n",
        "print(f\"F1-Score:  {f1:.4f}\")"
      ],
      "metadata": {
        "colab": {
          "base_uri": "https://localhost:8080/"
        },
        "id": "NpmTzGkNpLTr",
        "outputId": "ffa41632-8859-4e5d-8fbc-a61796cac8bc"
      },
      "execution_count": null,
      "outputs": [
        {
          "output_type": "stream",
          "name": "stdout",
          "text": [
            "Precision: 0.9149\n",
            "Recall:    0.8037\n",
            "F1-Score:  0.8557\n"
          ]
        }
      ]
    },
    {
      "cell_type": "markdown",
      "source": [
        "### 13.Write a Python program to train a Logistic Regression model on imbalanced data and apply class weights to improve model performance?\n"
      ],
      "metadata": {
        "id": "6Au-jZCgplsm"
      }
    },
    {
      "cell_type": "code",
      "source": [
        "from sklearn.datasets import make_classification\n",
        "from sklearn.linear_model import LogisticRegression\n",
        "from sklearn.model_selection import train_test_split\n",
        "from sklearn.metrics import classification_report, confusion_matrix\n",
        "from collections import Counter\n",
        "import numpy as np\n",
        "\n",
        "# Create imbalanced dataset\n",
        "X, y = make_classification(\n",
        "    n_samples=1000,\n",
        "    n_features=20,\n",
        "    n_informative=2,\n",
        "    n_redundant=10,\n",
        "    n_clusters_per_class=1,\n",
        "    weights=[0.9, 0.1],  # 90% of class 0, 10% of class 1\n",
        "    flip_y=0,\n",
        "    random_state=42,\n",
        ")\n",
        "\n",
        "print(f\"Original class distribution: {Counter(y)}\")\n",
        "\n",
        "# Split dataset\n",
        "X_train, X_test, y_train, y_test = train_test_split(X, y, test_size=0.3, random_state=42)\n",
        "\n",
        "# Train logistic regression without class weights\n",
        "model_no_weights = LogisticRegression(max_iter=1000, random_state=42)\n",
        "model_no_weights.fit(X_train, y_train)\n",
        "y_pred_no_weights = model_no_weights.predict(X_test)\n",
        "\n",
        "print(\"Classification report without class weights:\")\n",
        "print(classification_report(y_test, y_pred_no_weights))\n",
        "\n",
        "# Train logistic regression with class weights\n",
        "class_weights = {0: 1, 1: 9}  # Manually set higher weight for minority class\n",
        "model_weights = LogisticRegression(class_weight=class_weights, max_iter=1000, random_state=42)\n",
        "model_weights.fit(X_train, y_train)\n",
        "y_pred_weights = model_weights.predict(X_test)\n",
        "\n",
        "print(\"Classification report with class weights:\")\n",
        "print(classification_report(y_test, y_pred_weights))"
      ],
      "metadata": {
        "colab": {
          "base_uri": "https://localhost:8080/"
        },
        "id": "l-q8nzyHp1a0",
        "outputId": "9c9f0e9f-43b8-4b97-96a6-c61b3b0e60e5"
      },
      "execution_count": null,
      "outputs": [
        {
          "output_type": "stream",
          "name": "stdout",
          "text": [
            "Original class distribution: Counter({np.int64(0): 900, np.int64(1): 100})\n",
            "Classification report without class weights:\n",
            "              precision    recall  f1-score   support\n",
            "\n",
            "           0       0.99      1.00      0.99       276\n",
            "           1       0.95      0.83      0.89        24\n",
            "\n",
            "    accuracy                           0.98       300\n",
            "   macro avg       0.97      0.91      0.94       300\n",
            "weighted avg       0.98      0.98      0.98       300\n",
            "\n",
            "Classification report with class weights:\n",
            "              precision    recall  f1-score   support\n",
            "\n",
            "           0       0.99      0.97      0.98       276\n",
            "           1       0.72      0.88      0.79        24\n",
            "\n",
            "    accuracy                           0.96       300\n",
            "   macro avg       0.86      0.92      0.89       300\n",
            "weighted avg       0.97      0.96      0.96       300\n",
            "\n"
          ]
        }
      ]
    },
    {
      "cell_type": "markdown",
      "source": [
        "###14.Write a Python program to train Logistic Regression on the Titanic dataset, handle missing values, and evaluate performance?\n"
      ],
      "metadata": {
        "id": "YUcUohhIp9zI"
      }
    },
    {
      "cell_type": "code",
      "source": [
        "import pandas as pd\n",
        "import numpy as np\n",
        "from sklearn.model_selection import train_test_split\n",
        "from sklearn.linear_model import LogisticRegression\n",
        "from sklearn.metrics import accuracy_score, classification_report\n",
        "from sklearn.preprocessing import LabelEncoder\n",
        "\n",
        "# Load Titanic dataset from seaborn\n",
        "import seaborn as sns\n",
        "titanic = sns.load_dataset('titanic')\n",
        "\n",
        "# Inspect the first few rows\n",
        "print(titanic.head())\n",
        "\n",
        "# Select features and target variable\n",
        "# We'll predict 'survived' using some features\n",
        "features = ['pclass', 'sex', 'age', 'sibsp', 'parch', 'fare', 'embarked']\n",
        "target = 'survived'\n",
        "\n",
        "# Handle missing values\n",
        "# 'age' and 'embarked' have missing values\n",
        "titanic['age'].fillna(titanic['age'].median(), inplace=True)\n",
        "titanic['embarked'].fillna(titanic['embarked'].mode()[0], inplace=True)\n",
        "\n",
        "# Encode categorical variables\n",
        "# 'sex' and 'embarked' are categorical\n",
        "titanic['sex'] = LabelEncoder().fit_transform(titanic['sex'])\n",
        "titanic['embarked'] = LabelEncoder().fit_transform(titanic['embarked'])\n",
        "\n",
        "# Prepare feature matrix X and target vector y\n",
        "X = titanic[features]\n",
        "y = titanic[target]\n",
        "\n",
        "# Split dataset into train and test sets\n",
        "X_train, X_test, y_train, y_test = train_test_split(\n",
        "    X, y, test_size=0.2, random_state=42, stratify=y\n",
        ")\n",
        "\n",
        "# Initialize and train logistic regression model\n",
        "model = LogisticRegression(max_iter=1000)\n",
        "model.fit(X_train, y_train)\n",
        "\n",
        "# Make predictions\n",
        "y_pred = model.predict(X_test)\n",
        "\n",
        "# Evaluate performance\n",
        "print(\"Accuracy:\", accuracy_score(y_test, y_pred))\n",
        "print(\"Classification Report:\\n\", classification_report(y_test, y_pred))"
      ],
      "metadata": {
        "colab": {
          "base_uri": "https://localhost:8080/"
        },
        "id": "n3_YFcxYqJ-B",
        "outputId": "519c5943-5c1d-44f0-f884-c0cafda100a7"
      },
      "execution_count": null,
      "outputs": [
        {
          "output_type": "stream",
          "name": "stdout",
          "text": [
            "   survived  pclass     sex   age  sibsp  parch     fare embarked  class  \\\n",
            "0         0       3    male  22.0      1      0   7.2500        S  Third   \n",
            "1         1       1  female  38.0      1      0  71.2833        C  First   \n",
            "2         1       3  female  26.0      0      0   7.9250        S  Third   \n",
            "3         1       1  female  35.0      1      0  53.1000        S  First   \n",
            "4         0       3    male  35.0      0      0   8.0500        S  Third   \n",
            "\n",
            "     who  adult_male deck  embark_town alive  alone  \n",
            "0    man        True  NaN  Southampton    no  False  \n",
            "1  woman       False    C    Cherbourg   yes  False  \n",
            "2  woman       False  NaN  Southampton   yes   True  \n",
            "3  woman       False    C  Southampton   yes  False  \n",
            "4    man        True  NaN  Southampton    no   True  \n",
            "Accuracy: 0.8044692737430168\n"
          ]
        },
        {
          "output_type": "stream",
          "name": "stderr",
          "text": [
            "<ipython-input-14-2067a69add35>:22: FutureWarning: A value is trying to be set on a copy of a DataFrame or Series through chained assignment using an inplace method.\n",
            "The behavior will change in pandas 3.0. This inplace method will never work because the intermediate object on which we are setting values always behaves as a copy.\n",
            "\n",
            "For example, when doing 'df[col].method(value, inplace=True)', try using 'df.method({col: value}, inplace=True)' or df[col] = df[col].method(value) instead, to perform the operation inplace on the original object.\n",
            "\n",
            "\n",
            "  titanic['age'].fillna(titanic['age'].median(), inplace=True)\n",
            "<ipython-input-14-2067a69add35>:23: FutureWarning: A value is trying to be set on a copy of a DataFrame or Series through chained assignment using an inplace method.\n",
            "The behavior will change in pandas 3.0. This inplace method will never work because the intermediate object on which we are setting values always behaves as a copy.\n",
            "\n",
            "For example, when doing 'df[col].method(value, inplace=True)', try using 'df.method({col: value}, inplace=True)' or df[col] = df[col].method(value) instead, to perform the operation inplace on the original object.\n",
            "\n",
            "\n",
            "  titanic['embarked'].fillna(titanic['embarked'].mode()[0], inplace=True)\n"
          ]
        },
        {
          "output_type": "stream",
          "name": "stdout",
          "text": [
            "Classification Report:\n",
            "               precision    recall  f1-score   support\n",
            "\n",
            "           0       0.81      0.89      0.85       110\n",
            "           1       0.79      0.67      0.72        69\n",
            "\n",
            "    accuracy                           0.80       179\n",
            "   macro avg       0.80      0.78      0.79       179\n",
            "weighted avg       0.80      0.80      0.80       179\n",
            "\n"
          ]
        }
      ]
    },
    {
      "cell_type": "markdown",
      "source": [
        "###15.Write a Python program to apply feature scaling (Standardization) before training a Logistic Regression model. Evaluate its accuracy and compare results with and without scaling?\n"
      ],
      "metadata": {
        "id": "_ECd8RY9q9Fz"
      }
    },
    {
      "cell_type": "code",
      "source": [
        "from sklearn.datasets import load_iris\n",
        "from sklearn.linear_model import LogisticRegression\n",
        "from sklearn.model_selection import train_test_split\n",
        "from sklearn.preprocessing import StandardScaler\n",
        "from sklearn.metrics import accuracy_score\n",
        "\n",
        "# Load example dataset (Iris)\n",
        "data = load_iris()\n",
        "X = data.data\n",
        "y = data.target\n",
        "\n",
        "# Split into train and test sets\n",
        "X_train, X_test, y_train, y_test = train_test_split(X, y, test_size=0.3, random_state=42)\n",
        "\n",
        "# --------- Without scaling ---------\n",
        "model_no_scaling = LogisticRegression(max_iter=1000, random_state=42)\n",
        "model_no_scaling.fit(X_train, y_train)\n",
        "y_pred_no_scaling = model_no_scaling.predict(X_test)\n",
        "acc_no_scaling = accuracy_score(y_test, y_pred_no_scaling)\n",
        "\n",
        "# --------- With Standardization scaling ---------\n",
        "scaler = StandardScaler()\n",
        "X_train_scaled = scaler.fit_transform(X_train)\n",
        "X_test_scaled = scaler.transform(X_test)\n",
        "\n",
        "model_scaled = LogisticRegression(max_iter=1000, random_state=42)\n",
        "model_scaled.fit(X_train_scaled, y_train)\n",
        "y_pred_scaled = model_scaled.predict(X_test_scaled)\n",
        "acc_scaled = accuracy_score(y_test, y_pred_scaled)\n",
        "\n",
        "print(f\"Accuracy without scaling: {acc_no_scaling:.4f}\")\n",
        "print(f\"Accuracy with standardization: {acc_scaled:.4f}\")"
      ],
      "metadata": {
        "colab": {
          "base_uri": "https://localhost:8080/"
        },
        "id": "a14cWZC_rOgB",
        "outputId": "a88fe94d-1c1e-4572-e5f0-cf05100b1dc2"
      },
      "execution_count": null,
      "outputs": [
        {
          "output_type": "stream",
          "name": "stdout",
          "text": [
            "Accuracy without scaling: 1.0000\n",
            "Accuracy with standardization: 1.0000\n"
          ]
        }
      ]
    },
    {
      "cell_type": "markdown",
      "source": [
        "###16.Write a Python program to train Logistic Regression and evaluate its performance using ROC-AUC score?"
      ],
      "metadata": {
        "id": "9KmMv1QvrYBg"
      }
    },
    {
      "cell_type": "code",
      "source": [
        "from sklearn.datasets import make_classification\n",
        "from sklearn.linear_model import LogisticRegression\n",
        "from sklearn.model_selection import train_test_split\n",
        "from sklearn.metrics import roc_auc_score\n",
        "\n",
        "# Generate a binary classification dataset\n",
        "X, y = make_classification(n_samples=1000, n_features=20,\n",
        "                           n_informative=2, n_redundant=10,\n",
        "                           random_state=42)\n",
        "\n",
        "# Split dataset into train and test sets\n",
        "X_train, X_test, y_train, y_test = train_test_split(X, y,\n",
        "                                                    test_size=0.3,\n",
        "                                                    random_state=42)\n",
        "\n",
        "# Initialize Logistic Regression model\n",
        "model = LogisticRegression()\n",
        "\n",
        "# Train the model\n",
        "model.fit(X_train, y_train)\n",
        "\n",
        "# Predict probabilities for the positive class\n",
        "y_probs = model.predict_proba(X_test)[:, 1]\n",
        "\n",
        "# Calculate ROC-AUC score\n",
        "roc_auc = roc_auc_score(y_test, y_probs)\n",
        "\n",
        "print(f'ROC-AUC Score: {roc_auc:.4f}')"
      ],
      "metadata": {
        "colab": {
          "base_uri": "https://localhost:8080/"
        },
        "id": "GYTgfrtcrjY1",
        "outputId": "82bd95c0-71e6-407e-98a8-548b979079a0"
      },
      "execution_count": null,
      "outputs": [
        {
          "output_type": "stream",
          "name": "stdout",
          "text": [
            "ROC-AUC Score: 0.9044\n"
          ]
        }
      ]
    },
    {
      "cell_type": "markdown",
      "source": [
        "###17.Write a Python program to train Logistic Regression using a custom learning rate (C=0.5) and evaluate accuracy?\n"
      ],
      "metadata": {
        "id": "SbhzvOaZrmIP"
      }
    },
    {
      "cell_type": "code",
      "source": [
        "from sklearn.datasets import load_iris\n",
        "from sklearn.linear_model import LogisticRegression\n",
        "from sklearn.model_selection import train_test_split\n",
        "from sklearn.metrics import accuracy_score\n",
        "\n",
        "# Load dataset\n",
        "data = load_iris()\n",
        "X, y = data.data, data.target\n",
        "\n",
        "# Split into train and test sets\n",
        "X_train, X_test, y_train, y_test = train_test_split(X, y, test_size=0.2, random_state=42)\n",
        "\n",
        "# Create Logistic Regression model with custom C value\n",
        "model = LogisticRegression(C=0.5, max_iter=1000, solver='lbfgs', multi_class='auto')\n",
        "\n",
        "# Train the model\n",
        "model.fit(X_train, y_train)\n",
        "\n",
        "# Predict on test set\n",
        "y_pred = model.predict(X_test)\n",
        "\n",
        "# Calculate accuracy\n",
        "accuracy = accuracy_score(y_test, y_pred)\n",
        "print(f\"Accuracy: {accuracy:.4f}\")"
      ],
      "metadata": {
        "colab": {
          "base_uri": "https://localhost:8080/"
        },
        "id": "x8HkbrbBrw4q",
        "outputId": "d852274f-4b6f-4cca-da92-bb59a363ffa9"
      },
      "execution_count": null,
      "outputs": [
        {
          "output_type": "stream",
          "name": "stdout",
          "text": [
            "Accuracy: 1.0000\n"
          ]
        },
        {
          "output_type": "stream",
          "name": "stderr",
          "text": [
            "/usr/local/lib/python3.11/dist-packages/sklearn/linear_model/_logistic.py:1247: FutureWarning: 'multi_class' was deprecated in version 1.5 and will be removed in 1.7. From then on, it will always use 'multinomial'. Leave it to its default value to avoid this warning.\n",
            "  warnings.warn(\n"
          ]
        }
      ]
    },
    {
      "cell_type": "markdown",
      "source": [
        "###18.Write a Python program to train Logistic Regression and identify important features based on model coefficients?\n",
        "\n",
        "\n"
      ],
      "metadata": {
        "id": "Ejgpg60rr_er"
      }
    },
    {
      "cell_type": "code",
      "source": [
        "import numpy as np\n",
        "import pandas as pd\n",
        "from sklearn.datasets import load_breast_cancer\n",
        "from sklearn.linear_model import LogisticRegression\n",
        "from sklearn.model_selection import train_test_split\n",
        "from sklearn.preprocessing import StandardScaler\n",
        "\n",
        "# Load sample dataset\n",
        "data = load_breast_cancer()\n",
        "X = pd.DataFrame(data.data, columns=data.feature_names)\n",
        "y = data.target\n",
        "\n",
        "# Split into train and test sets\n",
        "X_train, X_test, y_train, y_test = train_test_split(X, y, test_size=0.2, random_state=42)\n",
        "\n",
        "# Feature scaling (important for Logistic Regression)\n",
        "scaler = StandardScaler()\n",
        "X_train_scaled = scaler.fit_transform(X_train)\n",
        "X_test_scaled = scaler.transform(X_test)\n",
        "\n",
        "# Train Logistic Regression model\n",
        "model = LogisticRegression(max_iter=1000, random_state=42)\n",
        "model.fit(X_train_scaled, y_train)\n",
        "\n",
        "# Get feature coefficients\n",
        "coefficients = model.coef_[0]\n",
        "\n",
        "# Create a DataFrame for features and their coefficients\n",
        "feature_importance = pd.DataFrame({\n",
        "    'Feature': data.feature_names,\n",
        "    'Coefficient': coefficients\n",
        "})\n",
        "\n",
        "# Sort by absolute coefficient value to get importance\n",
        "feature_importance['AbsCoefficient'] = feature_importance['Coefficient'].abs()\n",
        "feature_importance = feature_importance.sort_values(by='AbsCoefficient', ascending=False)\n",
        "\n",
        "# Print important features\n",
        "print(\"Important features based on Logistic Regression coefficients:\")\n",
        "print(feature_importance[['Feature', 'Coefficient']])\n",
        "\n",
        "# Optional: Evaluate model accuracy\n",
        "accuracy = model.score(X_test_scaled, y_test)\n",
        "print(f\"\\nModel accuracy on test set: {accuracy:.4f}\")"
      ],
      "metadata": {
        "colab": {
          "base_uri": "https://localhost:8080/"
        },
        "id": "6kqmd7NCsHGG",
        "outputId": "dc00e405-4e0f-4439-d7e0-8e0de01f1e74"
      },
      "execution_count": null,
      "outputs": [
        {
          "output_type": "stream",
          "name": "stdout",
          "text": [
            "Important features based on Logistic Regression coefficients:\n",
            "                    Feature  Coefficient\n",
            "21            worst texture    -1.350606\n",
            "10             radius error    -1.268178\n",
            "28           worst symmetry    -1.208200\n",
            "7       mean concave points    -1.119804\n",
            "26          worst concavity    -0.943053\n",
            "13               area error    -0.907186\n",
            "20             worst radius    -0.879840\n",
            "23               worst area    -0.841846\n",
            "6            mean concavity    -0.801458\n",
            "27     worst concave points    -0.778217\n",
            "15        compactness error     0.682491\n",
            "19  fractal dimension error     0.616230\n",
            "12          perimeter error    -0.610583\n",
            "22          worst perimeter    -0.589453\n",
            "24         worst smoothness    -0.544170\n",
            "5          mean compactness     0.540164\n",
            "18           symmetry error     0.500425\n",
            "3                 mean area    -0.465210\n",
            "0               mean radius    -0.431904\n",
            "2            mean perimeter    -0.393432\n",
            "1              mean texture    -0.387326\n",
            "14         smoothness error    -0.313307\n",
            "17     concave points error    -0.311300\n",
            "8             mean symmetry     0.236119\n",
            "11            texture error     0.188877\n",
            "16          concavity error     0.175275\n",
            "29  worst fractal dimension    -0.157414\n",
            "9    mean fractal dimension     0.075921\n",
            "4           mean smoothness    -0.071667\n",
            "25        worst compactness     0.016110\n",
            "\n",
            "Model accuracy on test set: 0.9737\n"
          ]
        }
      ]
    },
    {
      "cell_type": "markdown",
      "source": [
        "###19.Write a Python program to train Logistic Regression and evaluate its performance using Cohen’s Kappa Score?\n"
      ],
      "metadata": {
        "id": "gX9erFGJsUv1"
      }
    },
    {
      "cell_type": "code",
      "source": [
        "from sklearn.datasets import load_iris\n",
        "from sklearn.linear_model import LogisticRegression\n",
        "from sklearn.metrics import cohen_kappa_score\n",
        "from sklearn.model_selection import train_test_split\n",
        "\n",
        "# Load sample data (Iris dataset)\n",
        "data = load_iris()\n",
        "X = data.data\n",
        "y = data.target\n",
        "\n",
        "# For simplicity, convert to binary classification (class 0 vs rest)\n",
        "y_binary = (y == 0).astype(int)\n",
        "\n",
        "# Split dataset into train and test sets\n",
        "X_train, X_test, y_train, y_test = train_test_split(X, y_binary, test_size=0.3, random_state=42)\n",
        "\n",
        "# Initialize and train Logistic Regression model\n",
        "model = LogisticRegression()\n",
        "model.fit(X_train, y_train)\n",
        "\n",
        "# Predict on test data\n",
        "y_pred = model.predict(X_test)\n",
        "\n",
        "# Calculate Cohen's Kappa Score\n",
        "kappa = cohen_kappa_score(y_test, y_pred)\n",
        "print(f\"Cohen's Kappa Score: {kappa:.4f}\")"
      ],
      "metadata": {
        "colab": {
          "base_uri": "https://localhost:8080/"
        },
        "id": "ijh4a6LssbvW",
        "outputId": "00906865-a95b-4f16-82a1-1ce971da466e"
      },
      "execution_count": null,
      "outputs": [
        {
          "output_type": "stream",
          "name": "stdout",
          "text": [
            "Cohen's Kappa Score: 1.0000\n"
          ]
        }
      ]
    },
    {
      "cell_type": "markdown",
      "source": [
        "###20.Write a Python program to train Logistic Regression and visualize the Precision-Recall Curve for binary classification?\n"
      ],
      "metadata": {
        "id": "Fcsfe7yysmlc"
      }
    },
    {
      "cell_type": "code",
      "source": [
        "import numpy as np\n",
        "import matplotlib.pyplot as plt\n",
        "from sklearn.datasets import make_classification\n",
        "from sklearn.linear_model import LogisticRegression\n",
        "from sklearn.model_selection import train_test_split\n",
        "from sklearn.metrics import precision_recall_curve, average_precision_score\n",
        "\n",
        "# Generate a synthetic binary classification dataset\n",
        "X, y = make_classification(n_samples=1000, n_features=20,\n",
        "                           n_informative=2, n_redundant=10,\n",
        "                           n_classes=2, random_state=42)\n",
        "\n",
        "# Split into training and test sets\n",
        "X_train, X_test, y_train, y_test = train_test_split(X, y,\n",
        "                                                    test_size=0.3,\n",
        "                                                    random_state=42)\n",
        "\n",
        "# Initialize and train Logistic Regression\n",
        "model = LogisticRegression(solver='liblinear')  # liblinear good for small datasets\n",
        "model.fit(X_train, y_train)\n",
        "\n",
        "# Predict probabilities for the positive class\n",
        "y_scores = model.predict_proba(X_test)[:, 1]\n",
        "\n",
        "# Compute precision-recall curve\n",
        "precision, recall, thresholds = precision_recall_curve(y_test, y_scores)\n",
        "\n",
        "# Compute average precision score\n",
        "avg_precision = average_precision_score(y_test, y_scores)\n",
        "\n",
        "# Plot Precision-Recall curve\n",
        "plt.figure(figsize=(8, 6))\n",
        "plt.plot(recall, precision, label=f'Logistic Regression (AP = {avg_precision:.2f})')\n",
        "plt.xlabel('Recall')\n",
        "plt.ylabel('Precision')\n",
        "plt.title('Precision-Recall Curve')\n",
        "plt.legend()\n",
        "plt.grid(True)\n",
        "plt.show()"
      ],
      "metadata": {
        "colab": {
          "base_uri": "https://localhost:8080/",
          "height": 564
        },
        "id": "bE9qTSyPs8XR",
        "outputId": "815081c8-d206-4823-c727-b9107895db5e"
      },
      "execution_count": null,
      "outputs": [
        {
          "output_type": "display_data",
          "data": {
            "text/plain": [
              "<Figure size 800x600 with 1 Axes>"
            ],
            "image/png": "[encoded data removed]"
          },
          "metadata": {}
        }
      ]
    },
    {
      "cell_type": "markdown",
      "source": [
        "###21.Write a Python program to train Logistic Regression with different solvers (liblinear, saga, lbfgs) and compare their accuracy?\n"
      ],
      "metadata": {
        "id": "iP1jz86QtU-2"
      }
    },
    {
      "cell_type": "code",
      "source": [
        "from sklearn.datasets import load_iris\n",
        "from sklearn.linear_model import LogisticRegression\n",
        "from sklearn.model_selection import train_test_split\n",
        "from sklearn.metrics import accuracy_score\n",
        "\n",
        "# Load dataset\n",
        "iris = load_iris()\n",
        "X = iris.data\n",
        "y = iris.target\n",
        "\n",
        "# Split into train and test sets\n",
        "X_train, X_test, y_train, y_test = train_test_split(X, y, test_size=0.3, random_state=42)\n",
        "\n",
        "# Define solvers to test\n",
        "solvers = ['liblinear', 'saga', 'lbfgs']\n",
        "\n",
        "# Dictionary to store accuracy results\n",
        "accuracy_results = {}\n",
        "\n",
        "for solver in solvers:\n",
        "    # Some solvers only support certain multi-class options\n",
        "    # liblinear only supports 'ovr' multi-class, others support 'auto' (which defaults to 'ovr' or 'multinomial')\n",
        "    multi_class = 'ovr' if solver == 'liblinear' else 'auto'\n",
        "\n",
        "    # Create and train Logistic Regression model\n",
        "    model = LogisticRegression(solver=solver, max_iter=5000, multi_class=multi_class, random_state=42)\n",
        "    model.fit(X_train, y_train)\n",
        "\n",
        "    # Predict on test set\n",
        "    y_pred = model.predict(X_test)\n",
        "\n",
        "    # Calculate accuracy\n",
        "    acc = accuracy_score(y_test, y_pred)\n",
        "    accuracy_results[solver] = acc\n",
        "\n",
        "# Print accuracy results\n",
        "for solver, acc in accuracy_results.items():\n",
        "    print(f\"Solver: {solver:8s} --> Accuracy: {acc:.4f}\")"
      ],
      "metadata": {
        "colab": {
          "base_uri": "https://localhost:8080/"
        },
        "id": "TQtAYVz_tdMh",
        "outputId": "093444fe-2a3e-419a-afc6-5291f054df06"
      },
      "execution_count": null,
      "outputs": [
        {
          "output_type": "stream",
          "name": "stderr",
          "text": [
            "/usr/local/lib/python3.11/dist-packages/sklearn/linear_model/_logistic.py:1256: FutureWarning: 'multi_class' was deprecated in version 1.5 and will be removed in 1.7. Use OneVsRestClassifier(LogisticRegression(..)) instead. Leave it to its default value to avoid this warning.\n",
            "  warnings.warn(\n",
            "/usr/local/lib/python3.11/dist-packages/sklearn/linear_model/_logistic.py:1247: FutureWarning: 'multi_class' was deprecated in version 1.5 and will be removed in 1.7. From then on, it will always use 'multinomial'. Leave it to its default value to avoid this warning.\n",
            "  warnings.warn(\n",
            "/usr/local/lib/python3.11/dist-packages/sklearn/linear_model/_logistic.py:1247: FutureWarning: 'multi_class' was deprecated in version 1.5 and will be removed in 1.7. From then on, it will always use 'multinomial'. Leave it to its default value to avoid this warning.\n",
            "  warnings.warn(\n"
          ]
        },
        {
          "output_type": "stream",
          "name": "stdout",
          "text": [
            "Solver: liblinear --> Accuracy: 0.9778\n",
            "Solver: saga     --> Accuracy: 1.0000\n",
            "Solver: lbfgs    --> Accuracy: 1.0000\n"
          ]
        }
      ]
    },
    {
      "cell_type": "markdown",
      "source": [
        "###22.Write a Python program to train Logistic Regression and evaluate its performance using Matthews Correlation Coefficient (MCC)?\n"
      ],
      "metadata": {
        "id": "A4wYnf2Utp6c"
      }
    },
    {
      "cell_type": "code",
      "source": [
        "from sklearn.datasets import make_classification\n",
        "from sklearn.linear_model import LogisticRegression\n",
        "from sklearn.metrics import matthews_corrcoef\n",
        "from sklearn.model_selection import train_test_split\n",
        "\n",
        "# Generate a synthetic binary classification dataset\n",
        "X, y = make_classification(n_samples=1000, n_features=20,\n",
        "                           n_informative=2, n_redundant=10,\n",
        "                           random_state=42)\n",
        "\n",
        "# Split into train and test sets\n",
        "X_train, X_test, y_train, y_test = train_test_split(X, y,\n",
        "                                                    test_size=0.3,\n",
        "                                                    random_state=42)\n",
        "\n",
        "# Initialize Logistic Regression model\n",
        "model = LogisticRegression(max_iter=1000, random_state=42)\n",
        "\n",
        "# Train the model\n",
        "model.fit(X_train, y_train)\n",
        "\n",
        "# Predict on the test set\n",
        "y_pred = model.predict(X_test)\n",
        "\n",
        "# Evaluate using Matthews Correlation Coefficient\n",
        "mcc = matthews_corrcoef(y_test, y_pred)\n",
        "\n",
        "print(f\"Matthews Correlation Coefficient (MCC): {mcc:.4f}\")"
      ],
      "metadata": {
        "colab": {
          "base_uri": "https://localhost:8080/"
        },
        "id": "1nHPoccQtzpe",
        "outputId": "d4b7f98b-1a78-4ba1-ac7f-d4d465e22271"
      },
      "execution_count": null,
      "outputs": [
        {
          "output_type": "stream",
          "name": "stdout",
          "text": [
            "Matthews Correlation Coefficient (MCC): 0.6795\n"
          ]
        }
      ]
    },
    {
      "cell_type": "markdown",
      "source": [
        "###23.Write a Python program to train Logistic Regression on both raw and standardized data. Compare their accuracy to see the impact of feature scaling?\n"
      ],
      "metadata": {
        "id": "2pG3UDJCt-DP"
      }
    },
    {
      "cell_type": "code",
      "source": [
        "from sklearn.datasets import load_iris\n",
        "from sklearn.linear_model import LogisticRegression\n",
        "from sklearn.model_selection import train_test_split\n",
        "from sklearn.preprocessing import StandardScaler\n",
        "from sklearn.metrics import accuracy_score\n",
        "\n",
        "# Load dataset\n",
        "data = load_iris()\n",
        "X, y = data.data, data.target\n",
        "\n",
        "# Split into train and test sets\n",
        "X_train, X_test, y_train, y_test = train_test_split(X, y, test_size=0.3, random_state=42)\n",
        "\n",
        "# 1. Train Logistic Regression on raw data\n",
        "model_raw = LogisticRegression(max_iter=200)\n",
        "model_raw.fit(X_train, y_train)\n",
        "y_pred_raw = model_raw.predict(X_test)\n",
        "accuracy_raw = accuracy_score(y_test, y_pred_raw)\n",
        "\n",
        "# 2. Standardize features\n",
        "scaler = StandardScaler()\n",
        "X_train_scaled = scaler.fit_transform(X_train)\n",
        "X_test_scaled = scaler.transform(X_test)\n",
        "\n",
        "# Train Logistic Regression on standardized data\n",
        "model_scaled = LogisticRegression(max_iter=200)\n",
        "model_scaled.fit(X_train_scaled, y_train)\n",
        "y_pred_scaled = model_scaled.predict(X_test_scaled)\n",
        "accuracy_scaled = accuracy_score(y_test, y_pred_scaled)\n",
        "\n",
        "print(f\"Accuracy on raw data: {accuracy_raw:.4f}\")\n",
        "print(f\"Accuracy on standardized data: {accuracy_scaled:.4f}\")"
      ],
      "metadata": {
        "colab": {
          "base_uri": "https://localhost:8080/"
        },
        "id": "HZE9y98buFsY",
        "outputId": "90158231-7907-4806-e09a-e69825b7f0a3"
      },
      "execution_count": null,
      "outputs": [
        {
          "output_type": "stream",
          "name": "stdout",
          "text": [
            "Accuracy on raw data: 1.0000\n",
            "Accuracy on standardized data: 1.0000\n"
          ]
        }
      ]
    },
    {
      "cell_type": "markdown",
      "source": [
        "###24.Write a Python program to train Logistic Regression and find the optimal C (regularization strength) using cross-validation?\n"
      ],
      "metadata": {
        "id": "KMG5jMphuULD"
      }
    },
    {
      "cell_type": "code",
      "source": [
        "from sklearn.datasets import load_iris\n",
        "from sklearn.linear_model import LogisticRegression\n",
        "from sklearn.model_selection import GridSearchCV, train_test_split\n",
        "from sklearn.metrics import accuracy_score\n",
        "\n",
        "# Load sample data\n",
        "data = load_iris()\n",
        "X, y = data.data, data.target\n",
        "\n",
        "# Split data into train and test sets\n",
        "X_train, X_test, y_train, y_test = train_test_split(X, y, test_size=0.2, random_state=42)\n",
        "\n",
        "# Define the model\n",
        "log_reg = LogisticRegression(max_iter=1000, solver='liblinear')  # 'liblinear' works well for small datasets\n",
        "\n",
        "# Define the grid of C values to search\n",
        "param_grid = {'C': [0.01, 0.1, 1, 10, 100]}\n",
        "\n",
        "# Set up GridSearchCV with 5-fold cross-validation\n",
        "grid_search = GridSearchCV(log_reg, param_grid, cv=5, scoring='accuracy')\n",
        "\n",
        "# Train models with cross-validation to find the best C\n",
        "grid_search.fit(X_train, y_train)\n",
        "\n",
        "# Best regularization parameter\n",
        "print(f\"Best C: {grid_search.best_params_['C']}\")\n",
        "\n",
        "# Evaluate the best model on the test set\n",
        "best_model = grid_search.best_estimator_\n",
        "y_pred = best_model.predict(X_test)\n",
        "print(f\"Test set accuracy: {accuracy_score(y_test, y_pred):.4f}\")"
      ],
      "metadata": {
        "colab": {
          "base_uri": "https://localhost:8080/"
        },
        "id": "j1kvdmcDubdb",
        "outputId": "40b42ff8-82d5-420c-ce5c-64b00e2fe831"
      },
      "execution_count": null,
      "outputs": [
        {
          "output_type": "stream",
          "name": "stdout",
          "text": [
            "Best C: 10\n",
            "Test set accuracy: 1.0000\n"
          ]
        }
      ]
    },
    {
      "cell_type": "markdown",
      "source": [
        "###25.Write a Python program to train Logistic Regression, save the trained model using joblib, and load it again to make predictions.\n"
      ],
      "metadata": {
        "id": "-zP9FzP6ur15"
      }
    },
    {
      "cell_type": "code",
      "source": [
        "from sklearn.datasets import load_iris\n",
        "from sklearn.linear_model import LogisticRegression\n",
        "from sklearn.model_selection import train_test_split\n",
        "import joblib\n",
        "\n",
        "# 1. Load dataset\n",
        "iris = load_iris()\n",
        "X, y = iris.data, iris.target\n",
        "\n",
        "# 2. Split into train and test sets\n",
        "X_train, X_test, y_train, y_test = train_test_split(X, y, test_size=0.2, random_state=42)\n",
        "\n",
        "# 3. Train Logistic Regression model\n",
        "model = LogisticRegression(max_iter=200)\n",
        "model.fit(X_train, y_train)\n",
        "\n",
        "# 4. Save the trained model to a file\n",
        "joblib.dump(model, 'logistic_regression_model.joblib')\n",
        "print(\"Model saved successfully.\")\n",
        "\n",
        "# 5. Load the model from the file\n",
        "loaded_model = joblib.load('logistic_regression_model.joblib')\n",
        "print(\"Model loaded successfully.\")\n",
        "\n",
        "# 6. Make predictions on test data\n",
        "predictions = loaded_model.predict(X_test)\n",
        "print(\"Predictions:\", predictions)\n",
        "\n",
        "# Optional: Evaluate accuracy\n",
        "accuracy = loaded_model.score(X_test, y_test)\n",
        "print(f\"Accuracy: {accuracy:.2f}\")"
      ],
      "metadata": {
        "colab": {
          "base_uri": "https://localhost:8080/"
        },
        "id": "L6WK60tZuye0",
        "outputId": "f74f8ed9-8cb0-405e-8cda-e972adfe62fd"
      },
      "execution_count": null,
      "outputs": [
        {
          "output_type": "stream",
          "name": "stdout",
          "text": [
            "Model saved successfully.\n",
            "Model loaded successfully.\n",
            "Predictions: [1 0 2 1 1 0 1 2 1 1 2 0 0 0 0 1 2 1 1 2 0 2 0 2 2 2 2 2 0 0]\n",
            "Accuracy: 1.00\n"
          ]
        }
      ]
    }
  ]
}