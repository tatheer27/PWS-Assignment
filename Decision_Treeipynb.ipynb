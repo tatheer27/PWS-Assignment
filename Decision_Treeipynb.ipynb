{
  "nbformat": 4,
  "nbformat_minor": 0,
  "metadata": {
    "colab": {
      "provenance": []
    },
    "kernelspec": {
      "name": "python3",
      "display_name": "Python 3"
    },
    "language_info": {
      "name": "python"
    }
  },
  "cells": [
    {
      "cell_type": "markdown",
      "source": [
        "#Assignment Of Decision Tree"
      ],
      "metadata": {
        "id": "lEx2fHzP1Zmg"
      }
    },
    {
      "cell_type": "markdown",
      "source": [
        "#1.What is a Decision Tree, and how does it work?\n",
        ">A Decision Tree is a type of supervised machine learning algorithm used for both classification and regression tasks. It works by splitting data into branches based on feature values, forming a tree-like structure where each internal node represents a decision on a feature, each branch represents an outcome of that decision, and each leaf node represents a final prediction or output.\n",
        ">How It\"s Work:\n",
        "🔍 How a Decision Tree Works:\n",
        "Start at the Root Node:\n",
        "\n",
        "The entire dataset is at the root.\n",
        "\n",
        "The algorithm chooses the best feature and threshold to split the data based on a splitting criterion (like Gini impurity or Information Gain for classification; variance reduction for regression).\n",
        "\n",
        "Split the Data:\n",
        "\n",
        "Based on the chosen feature, the data is divided into subsets.\n",
        "\n",
        "This forms child nodes (branches from the parent).\n",
        "\n",
        "Repeat Recursively:\n",
        "\n",
        "The splitting process is repeated for each child node using only the subset of data assigned to it.\n",
        "\n",
        "This continues until a stopping condition is met (e.g., max depth reached, minimum samples at a node, or pure leaf nodes).\n",
        "\n",
        "Prediction:\n",
        "\n",
        "To predict a new instance, you follow the path from the root to a leaf node based on the feature values of the instance.\n",
        "\n",
        "The label (for classification) or value (for regression) at the leaf is the prediction.\n",
        "\n",
        "#2.What are impurity measures in Decision Tree?\n",
        ">In Decision Trees, impurity measures are metrics used to evaluate how \"pure\" or \"homogeneous\" a node is in terms of the target variable (usually class labels). These measures help the tree decide where to split the data in order to build an effective model.\n",
        "Goal of Impurity Measures:\n",
        "The objective is to split the data in a way that increases the purity of the child nodes — meaning that each node contains data points that mostly belong to the same class.\n",
        "\n",
        "#3.What is the mathematical formula for Gini Impurity?\n",
        ">The Gini Impurity is a measure of how often a randomly chosen element from a set would be incorrectly labeled if it were randomly labeled according to the distribution of labels in the set. It is used primarily in classification tasks in decision trees (like CART).\n",
        ">Formula for Gini Impurity\n",
        "𝐺 = 1 − ∑ 𝑖 = 1 𝐶 𝑝 𝑖 2 G=1− i=1 ∑ C​p i 2​\n",
        "\n",
        ">Where:\n",
        "\n",
        ">𝑝 𝑖 p i​is the probability (or proportion) of class 𝑖 i in the dataset.\n",
        "\n",
        ">𝐶 C is the total number of classes.\n",
        "\n",
        "#4.What is the mathematical formula for Entropy?\n",
        ">In Information Theory (Shannon Entropy): For a discrete random variable 𝑋 X with possible outcomes 𝑥 1 , 𝑥 2 , … , 𝑥 𝑛 x 1​,x 2​,…,x n​and corresponding probabilities 𝑝 1 , 𝑝 2 , … , 𝑝 𝑛 p 1​,p 2​,…,p n​:\n",
        "𝐻 ( 𝑋 ) = − ∑ 𝑖 = 1 𝑛 𝑝 𝑖 log ⁡ 𝑏 𝑝 𝑖 H(X)=− i=1 ∑ n​p i​log b​p i​\n",
        "\n",
        ">𝐻 ( 𝑋 ) H(X) is the entropy (in bits if base 𝑏 = 2 b=2, nats if 𝑏 = 𝑒 b=e, or decimal digits if 𝑏 = 10 b=10).\n",
        "\n",
        ">𝑝 𝑖 p i​is the probability of outcome 𝑥 𝑖 x i​.\n",
        "\n",
        ">The entropy measures the average uncertainty or information content.\n",
        "\n",
        "#5.What is Information Gain, and how is it used in Decision Trees?\n",
        "\n",
        ">Information Gain is a key concept in machine learning, particularly in Decision Trees (like ID3, C4.5, and others). It is used to measure how well a feature (or attribute) separates the training examples according to their target classification.\n",
        "Information Gain (IG) is based on the concept of entropy from information theory.\n",
        ">Entropy measures the impurity or uncertainty in a dataset.\n",
        "\n",
        ">Information Gain measures the reduction in entropy after a dataset is split on an attribute.\n",
        "\n",
        ">Formula for Entropy:\n",
        "\n",
        ">𝐸 𝑛 𝑡 𝑟 𝑜 𝑝 𝑦 ( 𝑆 ) = − ∑ 𝑖 = 1 𝑐 𝑝 𝑖 log ⁡ 2 𝑝 𝑖 Entropy(S)=− i=1 ∑ c​p i​log 2​p i​\n",
        "\n",
        "#6.What is the difference between Gini Impurity and Entropy?\n",
        ">Gini Impurity and Entropy are both metrics used to measure the impurity or disorder in a dataset, typically in the context of decision trees (likalgorithms). They help in selecting the best feature to split the data. Here's a clear comparison:\n",
        "\n",
        ">Gini Impurity\n",
        "Measures the probability of incorrectly classifying a randomly chosen element if it was randomly labeled according to the class distribution.\n",
        "Formula:\n",
        "\n",
        ">𝐺 𝑖 𝑛 𝑖 = 1 − ∑ 𝑖 = 1 𝑛 𝑝 𝑖 2 Gini=1− i=1 ∑ n​p i 2​\n",
        "\n",
        "#7.What is the mathematical explanation behind Decision Trees?\n",
        ">Decision Trees are a type of supervised machine learning algorithm used for classification and regression tasks. They make decisions by splitting the data based on feature values, creating a tree-like model of decisions. Here's a breakdown of the mathematical explanation behind Decision Trees.\n",
        "A decision tree is made up of:\n",
        "\n",
        ">Root node: The starting point, based on the most important feature.\n",
        "\n",
        ">Internal nodes: Represent decisions based on feature values.\n",
        "\n",
        ">Leaf nodes: Represent the final output (class or value).\n",
        "\n",
        ">At each internal node, the algorithm chooses a feature and a threshold to split the data into subsets that are more homogeneous in terms of the target variable.\n",
        "\n",
        "###8.What is Pre-Pruning in Decision Trees?\n",
        ">Pre-pruning (also known as early stopping) in decision trees is a technique used to prevent the tree from growing too large and overfitting the data. It involves halting the tree construction process early—before it perfectly classifies the training data—based on certain conditions or thresholds.\n",
        "\n",
        "Key Ideas Behind Pre-Pruning\n",
        "Instead of allowing the decision tree to grow until each leaf contains only samples from one class (which can lead to overfitting), pre-pruning stops the splitting process early if the next split doesn't meet a specific criterion.\n",
        "\n",
        "###9.What is Post-Pruning in Decision Trees?\n",
        ">Post-pruning (also known as error pruning or backward pruning) is a technique used in decision tree learning to reduce overfitting and improve the tree’s ability to generalize to unseen data.\n",
        "\n",
        "🔍 What Is It?\n",
        "In post-pruning, a decision tree is first fully grown — often until each leaf node is pure (i.e., contains data points from only one class) or until some stopping condition is met. Then, the tree is pruned back by removing branches that do not provide significant improvement in performance on a validation set.\n",
        "\n",
        "###10. What is the difference between Pre-Pruning and Post-Pruning?\n",
        "The main difference between pre-pruning and post-pruning lies in when the decision tree is pruned during the training process:\n",
        "1.Pre-Pruning (Early Stopping)\n",
        "When it happens: During the tree construction (before the tree is fully grown).\n",
        "\n",
        "How it works: The growth of the tree is stopped early based on certain conditions or thresholds, such as:\n",
        "\n",
        "Maximum depth of the tree\n",
        "\n",
        "Minimum number of samples required to split a node\n",
        "\n",
        "Minimum information gain or impurity reduction\n",
        "\n",
        "Goal: Prevent overfitting by not allowing the tree to become too complex.\n",
        "\n",
        "Pros:\n",
        "\n",
        "Faster training\n",
        "\n",
        "Less complex models\n",
        "\n",
        "Cons:\n",
        "\n",
        "Might stop too early and miss important patterns (underfitting risk)\n",
        "\n",
        "2. Post-Pruning (Prune After Growing)\n",
        "When it happens: After the entire tree is grown.\n",
        "\n",
        "How it works: The tree is fully grown first, and then unnecessary branches are pruned back. This is often based on:\n",
        "\n",
        "Performance on a validation set\n",
        "\n",
        "Cost-complexity trade-off (e.g., reduced error pruning, minimal cost-complexity pruning)\n",
        "\n",
        "Goal: Simplify the tree without significantly sacrificing accuracy.\n",
        "\n",
        "Pros:\n",
        "\n",
        "Usually results in better generalization\n",
        "\n",
        "Can preserve more useful patterns\n",
        "\n",
        "Cons:\n",
        "\n",
        "More computationally expensive\n",
        "\n",
        "Requires extra data (validation set) or cross-v\n",
        "\n",
        "###11.What is a Decision Tree Regressor?\n",
        ">A Decision Tree Regressor is a type of machine learning model used for predicting continuous numerical values. It’s based on the decision tree algorithm, which splits data into subsets based on feature values to make predictions.\n",
        "\n",
        "###12.What are the advantages and disadvantages of Decision Trees?\n",
        "Decision Trees are popular machine learning models used for classification and regression tasks. They have several advantages and disadvantages, which make them suitable for some tasks but not all.\n",
        "\n",
        "✅ Advantages of Decision Trees: Easy to Understand and Interpret:\n",
        "\n",
        "The tree structure is intuitive and can be visualized easily.\n",
        "\n",
        "Even non-experts can understand decision-making from the tree.\n",
        "\n",
        "No Need for Data Normalization:\n",
        "\n",
        "Decision Trees do not require scaling or normalization of features.\n",
        "\n",
        "Handles Both Numerical and Categorical Data:\n",
        "\n",
        "Works well with different types of variables without the need for encoding (in some implementations).\n",
        "\n",
        "Requires Little Data Preparation:\n",
        "\n",
        "No need for dummy variables or feature scaling.\n",
        "\n",
        "Non-Linear Relationships:\n",
        "\n",
        "Can model complex, non-linear relationships between features.\n",
        "\n",
        "Feature Importance:\n",
        "\n",
        "Provides a clear measure of feature importance, which can be helpful for feature selection.\n",
        "\n",
        "Works Well with Missing Values:\n",
        "\n",
        "Some implementations (e.g., in CART or C4.5) can handle missing data without needing imputation.\n",
        "\n",
        "❌ Disadvantages of Decision Trees: Overfitting:\n",
        "\n",
        "Decision Trees can easily overfit, especially if they are deep (i.e., have many layers).\n",
        "\n",
        "Pruning or setting a maximum depth is often required to mitigate this.\n",
        "\n",
        "Unstable:\n",
        "\n",
        "Small changes in the data can lead to a completely different tree structure.\n",
        "\n",
        "Biased with Imbalanced Data:\n",
        "\n",
        "If some classes dominate, the tree may become biased toward those classes.\n",
        "\n",
        "Greedy Algorithms:\n",
        "\n",
        "The split decisions are made using greedy algorithms (like ID3, CART), which do not always guarantee the optimal tree.\n",
        "\n",
        "Poor Performance on Some Problems:\n",
        "\n",
        "Compared to more complex models like Random Forests or Gradient Boosting Machines, a single decision tree may perform worse.\n",
        "\n",
        "Can Be Computationally Expensive:\n",
        "\n",
        "For large datasets with many features, training can be time-consuming, especially without feature selection.\n",
        "\n",
        "###13.How does a Decision Tree handle missing values?\n",
        "Decision Trees handle missing values in various ways, depending on the specific implementation (e.g., CART, C4.5, or software library like scikit-learn). Here are the common strategies:\n",
        "\n",
        "1. Ignore the Instance (Preprocessing Step)\n",
        "Approach: Remove rows with missing values before training.\n",
        "\n",
        "Pros: Simple.\n",
        "\n",
        "Cons: Can lead to loss of valuable data.\n",
        "\n",
        "2. Imputation (Preprocessing Step)\n",
        "Approach: Fill in missing values using mean, median, mode, or more sophisticated imputation methods.\n",
        "\n",
        "Pros: Retains data for training.\n",
        "\n",
        "Cons: Imputation introduces assumptions and noise.\n",
        "\n",
        "3. Surrogate Splits (Used in CART)\n",
        "Approach: If a value is missing for the primary splitting feature at a node, the tree uses a surrogate split—another feature that results in a similar data split.\n",
        "\n",
        "Pros: Maintains tree integrity without imputation.\n",
        "\n",
        "Cons: Increases complexity and computation.\n",
        "\n",
        "4. Probabilistic Splits (Used in C4.5)\n",
        "Approach: If a value is missing, the instance is split across branches based on the probability distribution of known values.\n",
        "\n",
        "Pros: Uses all data, captures uncertainty.\n",
        "\n",
        "Cons: Adds probabilistic complexity to tree paths.\n",
        "\n",
        "5. Modified Algorithms (e.g., in XGBoost, LightGBM)\n",
        "Approach: These frameworks learn the best direction (left or right) to send missing values during training.\n",
        "\n",
        "Pros: Efficient and adaptive.\n",
        "\n",
        "Cons: Implementation-specific, less interpretable.\n",
        "\n",
        "6. Split Criteria Modification\n",
        "Approach: During split evaluation, only consider samples with non-missing values for the splitting feature.\n",
        "\n",
        "Pros: Simple and avoids guessing.\n",
        "\n",
        "Cons: Ignores possibly useful partial data.\n",
        "\n",
        "###14.How does a Decision Tree handle categorical features?\n",
        "A Decision Tree can handle categorical features directly by splitting on the distinct categories of that feature. Here's how it works:\n",
        "\n",
        "🔹 1. Splitting on Categorical Features\n",
        "For a categorical feature (e.g., \"Color\" with values Red, Blue, Green), a decision tree evaluates splits by testing each possible way to divide the categories. For example:\n",
        "\n",
        "Split: Is Color == Red?\n",
        "\n",
        "Split: Is Color in {Red, Blue}?\n",
        "\n",
        "Split: Is Color in {Green}?\n",
        "\n",
        "It chooses the split that gives the highest information gain (or lowest Gini impurity, depending on the criterion used).\n",
        "\n",
        "🔹 2. Handling Multiple Categories\n",
        "If a categorical variable has many categories, the tree may consider combinations of categories. This can be computationally expensive because the number of possible splits is exponential in the number of categories.\n",
        "\n",
        "To reduce this, some implementations:\n",
        "\n",
        "Use one-vs-rest strategies.\n",
        "\n",
        "Apply heuristics to reduce the number of category combinations considered.\n",
        "\n",
        "🔹 3. Library Behavior\n",
        "Scikit-learn (pre-1.0): Requires you to one-hot encode or label encode categorical features before feeding them into the tree.\n",
        "\n",
        "Scikit-learn 1.0+: Introduced experimental support for native categorical features via HistGradientBoosting* models.\n",
        "\n",
        "Other libraries like XGBoost, LightGBM, and CatBoost handle categorical features natively.\n",
        "\n",
        "🔹 4. Label Encoding Caveat\n",
        "If using label encoding (mapping Red → 0, Blue → 1, Green → 2), the tree might treat it as an ordinal feature, which can be misleading unless the categories have an inherent order. So, it's safer to use one-hot encoding unless the algorithm is known to handle categorical variables properly.\n",
        "\n",
        "✅ Summary\n",
        "Decision Trees can handle categorical features by splitting on the feature's distinct values.\n",
        "\n",
        "Native handling is more efficient and semantically correct.\n",
        "\n",
        "Be cautious with label encoding unless the model treats the variable as categorical, not numerical.\n",
        "\n",
        "###15.What are some real-world applications of Decision Trees?\n",
        "Decision Trees are widely used in various real-world applications due to their interpretability, simplicity, and effectiveness in both classification and regression tasks. Here are some notable applications:\n",
        "\n",
        "1. Healthcare\n",
        "Diagnosis of diseases: Decision trees can help classify patient symptoms to diagnose diseases like diabetes, cancer, or heart conditions.\n",
        "\n",
        "Treatment recommendation: Trees can be used to decide treatment plans based on patient data and medical history.\n",
        "\n",
        "2. Finance\n",
        "Credit scoring: Banks use decision trees to determine if a borrower is a good credit risk based on financial history.\n",
        "\n",
        "Fraud detection: They help identify suspicious transactions by analyzing patterns in historical data.\n",
        "\n",
        "3. Marketing and Customer Analytics\n",
        "Customer segmentation: Helps in grouping customers based on purchasing behavior or demographics.\n",
        "\n",
        "Churn prediction: Predicts which customers are likely to leave a service.\n",
        "\n",
        "Targeted advertising: Identifies the best audience for marketing campaigns.\n",
        "\n",
        "4. Retail\n",
        "Inventory management: Predicts demand for products to optimize stock levels.\n",
        "\n",
        "Recommendation systems: Suggests products based on past buying behavior using classification.\n",
        "\n",
        "5. Manufacturing\n",
        "Quality control: Identifies defects or production issues based on sensor data.\n",
        "\n",
        "Predictive maintenance: Predicts when equipment is likely to fail based on historical performance data.\n",
        "\n",
        "6. Education\n",
        "Student performance prediction: Helps identify students at risk of failing or dropping out.\n",
        "\n",
        "Curriculum personalization: Recommends learning paths based on student performance.\n",
        "\n",
        "7. Law and Public Policy\n",
        "Recidivism prediction: Estimates the likelihood of a criminal reoffending.\n",
        "\n",
        "Policy impact analysis: Assesses the outcomes of public policies based on historical data.\n",
        "\n",
        "8. Agriculture\n",
        "Crop disease prediction: Helps farmers identify and prevent crop diseases early.\n",
        "\n",
        "Yield prediction: Estimates agricultural yield based on environmental conditions.\n",
        "\n"
      ],
      "metadata": {
        "id": "uEsNUY_71mwR"
      }
    },
    {
      "cell_type": "markdown",
      "source": [
        "#Pratical Answer"
      ],
      "metadata": {
        "id": "UqgJGTaXqd1t"
      }
    },
    {
      "cell_type": "markdown",
      "source": [
        "###16.Write a Python program to train a Decision Tree Classifier on the Iris dataset and print the model accuracy?"
      ],
      "metadata": {
        "id": "yscDiQ57qkQo"
      }
    },
    {
      "cell_type": "code",
      "source": [
        "from sklearn.datasets import load_iris\n",
        "from sklearn.model_selection import train_test_split\n",
        "from sklearn.tree import DecisionTreeClassifier\n",
        "from sklearn.metrics import accuracy_score\n",
        "\n",
        "# Load the Iris dataset\n",
        "iris = load_iris()\n",
        "X = iris.data\n",
        "y = iris.target\n",
        "\n",
        "# Split the dataset into training and testing sets (80% train, 20% test)\n",
        "X_train, X_test, y_train, y_test = train_test_split(X, y, test_size=0.2, random_state=42)\n",
        "\n",
        "# Create and train the Decision Tree Classifier\n",
        "clf = DecisionTreeClassifier(random_state=42)\n",
        "clf.fit(X_train, y_train)\n",
        "\n",
        "# Predict the labels for the test set\n",
        "y_pred = clf.predict(X_test)\n",
        "\n",
        "# Calculate and print the accuracy\n",
        "accuracy = accuracy_score(y_test, y_pred)\n",
        "print(f\"Model Accuracy: {accuracy * 100:.2f}%\")"
      ],
      "metadata": {
        "colab": {
          "base_uri": "https://localhost:8080/"
        },
        "id": "9-WGFRKiqu2j",
        "outputId": "dbf608fa-adc4-4183-b9a3-296903d112b3"
      },
      "execution_count": null,
      "outputs": [
        {
          "output_type": "stream",
          "name": "stdout",
          "text": [
            "Model Accuracy: 100.00%\n"
          ]
        }
      ]
    },
    {
      "cell_type": "markdown",
      "source": [
        "###17. Write a Python program to train a Decision Tree Classifier using Gini Impurity as the criterion and print the feature importances?\n",
        "\n"
      ],
      "metadata": {
        "id": "sWMywaleq0kK"
      }
    },
    {
      "cell_type": "code",
      "source": [
        "from sklearn.datasets import load_iris\n",
        "from sklearn.tree import DecisionTreeClassifier\n",
        "import pandas as pd\n",
        "\n",
        "# Load the Iris dataset\n",
        "iris = load_iris()\n",
        "X = iris.data\n",
        "y = iris.target\n",
        "feature_names = iris.feature_names\n",
        "\n",
        "# Create a Decision Tree Classifier using Gini Impurity\n",
        "clf = DecisionTreeClassifier(criterion='gini', random_state=42)\n",
        "clf.fit(X, y)\n",
        "\n",
        "# Get and display feature importances\n",
        "importances = clf.feature_importances_\n",
        "importance_df = pd.DataFrame({\n",
        "    'Feature': feature_names,\n",
        "    'Importance': importances\n",
        "})\n",
        "\n",
        "# Sort by importance and print\n",
        "importance_df = importance_df.sort_values(by='Importance', ascending=False)\n",
        "print(\"Feature Importances:\")\n",
        "print(importance_df)\n",
        "Output Example:\n",
        "java\n",
        "Copy\n",
        "Edit\n",
        "Feature Importances:\n",
        "             Feature  Importance\n",
        "2  petal length (cm)    0.558\n",
        "3   petal width (cm)    0.401\n",
        "0  sepal length (cm)    0.028\n",
        "1   sepal width (cm)    0.013"
      ],
      "metadata": {
        "colab": {
          "base_uri": "https://localhost:8080/",
          "height": 106
        },
        "id": "rJIL_UQ0rCOY",
        "outputId": "1b9fc239-e028-4063-b49b-e4e4039f7645"
      },
      "execution_count": null,
      "outputs": [
        {
          "output_type": "error",
          "ename": "SyntaxError",
          "evalue": "invalid syntax (<ipython-input-2-29ed3ae503a8>, line 26)",
          "traceback": [
            "\u001b[0;36m  File \u001b[0;32m\"<ipython-input-2-29ed3ae503a8>\"\u001b[0;36m, line \u001b[0;32m26\u001b[0m\n\u001b[0;31m    Output Example:\u001b[0m\n\u001b[0m           ^\u001b[0m\n\u001b[0;31mSyntaxError\u001b[0m\u001b[0;31m:\u001b[0m invalid syntax\n"
          ]
        }
      ]
    },
    {
      "cell_type": "markdown",
      "source": [
        "###18.Write a Python program to train a Decision Tree Classifier using Entropy as the splitting criterion and print the model accuracy?\n"
      ],
      "metadata": {
        "id": "-dXTH5fqrNGF"
      }
    },
    {
      "cell_type": "code",
      "source": [
        "from sklearn.datasets import load_iris\n",
        "from sklearn.model_selection import train_test_split\n",
        "from sklearn.tree import DecisionTreeClassifier\n",
        "from sklearn.metrics import accuracy_score\n",
        "\n",
        "# Load dataset\n",
        "iris = load_iris()\n",
        "X = iris.data\n",
        "y = iris.target\n",
        "\n",
        "# Split dataset into training and testing sets\n",
        "X_train, X_test, y_train, y_test = train_test_split(X, y, test_size=0.3, random_state=42)\n",
        "\n",
        "# Create Decision Tree Classifier with entropy criterion\n",
        "clf = DecisionTreeClassifier(criterion='entropy', random_state=42)\n",
        "\n",
        "# Train the model\n",
        "clf.fit(X_train, y_train)\n",
        "\n",
        "# Predict on test data\n",
        "y_pred = clf.predict(X_test)\n",
        "\n",
        "# Calculate accuracy\n",
        "accuracy = accuracy_score(y_test, y_pred)\n",
        "\n",
        "print(f\"Model accuracy: {accuracy:.2f}\")"
      ],
      "metadata": {
        "colab": {
          "base_uri": "https://localhost:8080/"
        },
        "id": "oLGZt7-orXkb",
        "outputId": "5961415f-d652-4bba-f715-439ac277476b"
      },
      "execution_count": null,
      "outputs": [
        {
          "output_type": "stream",
          "name": "stdout",
          "text": [
            "Model accuracy: 0.98\n"
          ]
        }
      ]
    },
    {
      "cell_type": "markdown",
      "source": [
        "###19.Write a Python program to train a Decision Tree Regressor on a housing dataset and evaluate using Mean Squared Error (MSE)?\n"
      ],
      "metadata": {
        "id": "Ah98XcjDrgPZ"
      }
    },
    {
      "cell_type": "code",
      "source": [
        "from sklearn.datasets import fetch_california_housing\n",
        "from sklearn.model_selection import train_test_split\n",
        "from sklearn.tree import DecisionTreeRegressor\n",
        "from sklearn.metrics import mean_squared_error\n",
        "\n",
        "# Load the California housing dataset\n",
        "data = fetch_california_housing()\n",
        "X = data.data      # features\n",
        "y = data.target    # target values (house prices)\n",
        "\n",
        "# Split dataset into training and testing sets (80% train, 20% test)\n",
        "X_train, X_test, y_train, y_test = train_test_split(X, y, test_size=0.2, random_state=42)\n",
        "\n",
        "# Initialize the Decision Tree Regressor\n",
        "model = DecisionTreeRegressor(random_state=42)\n",
        "\n",
        "# Train the model\n",
        "model.fit(X_train, y_train)\n",
        "\n",
        "# Predict on the test set\n",
        "y_pred = model.predict(X_test)\n",
        "\n",
        "# Calculate Mean Squared Error (MSE)\n",
        "mse = mean_squared_error(y_test, y_pred)\n",
        "print(f\"Mean Squared Error (MSE): {mse:.4f}\")"
      ],
      "metadata": {
        "colab": {
          "base_uri": "https://localhost:8080/"
        },
        "id": "nOa0RXUErnnX",
        "outputId": "63be52d4-53d4-403c-b02b-f27cd24e87db"
      },
      "execution_count": null,
      "outputs": [
        {
          "output_type": "stream",
          "name": "stdout",
          "text": [
            "Mean Squared Error (MSE): 0.4952\n"
          ]
        }
      ]
    },
    {
      "cell_type": "markdown",
      "source": [
        "###20.Write a Python program to train a Decision Tree Classifier and visualize the tree using graphviz?"
      ],
      "metadata": {
        "id": "J2QRVrODryby"
      }
    },
    {
      "cell_type": "code",
      "source": [
        "from sklearn.datasets import load_iris\n",
        "from sklearn.tree import DecisionTreeClassifier, export_graphviz\n",
        "import graphviz\n",
        "\n",
        "# Load Iris dataset\n",
        "iris = load_iris()\n",
        "X, y = iris.data, iris.target\n",
        "\n",
        "# Train Decision Tree Classifier\n",
        "clf = DecisionTreeClassifier(max_depth=3, random_state=42)\n",
        "clf.fit(X, y)\n",
        "\n",
        "# Export the tree in DOT format\n",
        "dot_data = export_graphviz(\n",
        "    clf, out_file=None,\n",
        "    feature_names=iris.feature_names,\n",
        "    class_names=iris.target_names,\n",
        "    filled=True, rounded=True,\n",
        "    special_characters=True\n",
        ")\n",
        "\n",
        "# Visualize the tree using graphviz\n",
        "graph = graphviz.Source(dot_data)\n",
        "graph.render(\"iris_decision_tree\")  # Saves as iris_decision_tree.pdf\n",
        "graph.view()  # Opens the PDF file"
      ],
      "metadata": {
        "colab": {
          "base_uri": "https://localhost:8080/",
          "height": 35
        },
        "id": "VRhn-NkHr4fV",
        "outputId": "954fd0a2-03b6-42aa-b065-d9dbed2b830e"
      },
      "execution_count": null,
      "outputs": [
        {
          "output_type": "execute_result",
          "data": {
            "text/plain": [
              "'iris_decision_tree.pdf'"
            ],
            "application/vnd.google.colaboratory.intrinsic+json": {
              "type": "string"
            }
          },
          "metadata": {},
          "execution_count": 5
        }
      ]
    },
    {
      "cell_type": "markdown",
      "source": [
        "###21.Write a Python program to train a Decision Tree Classifier with a maximum depth of 3 and compare its accuracy with a fully grown tree?\n"
      ],
      "metadata": {
        "id": "drVB78UlsCRA"
      }
    },
    {
      "cell_type": "code",
      "source": [
        "from sklearn.datasets import load_iris\n",
        "from sklearn.model_selection import train_test_split\n",
        "from sklearn.tree import DecisionTreeClassifier\n",
        "from sklearn.metrics import accuracy_score\n",
        "\n",
        "# Load dataset\n",
        "iris = load_iris()\n",
        "X, y = iris.data, iris.target\n",
        "\n",
        "# Split into train/test sets\n",
        "X_train, X_test, y_train, y_test = train_test_split(X, y, test_size=0.3, random_state=42)\n",
        "\n",
        "# Train decision tree with max_depth=3\n",
        "tree_depth3 = DecisionTreeClassifier(max_depth=3, random_state=42)\n",
        "tree_depth3.fit(X_train, y_train)\n",
        "\n",
        "# Train fully grown tree (no max_depth)\n",
        "tree_full = DecisionTreeClassifier(random_state=42)\n",
        "tree_full.fit(X_train, y_train)\n",
        "\n",
        "# Predictions\n",
        "y_pred_depth3 = tree_depth3.predict(X_test)\n",
        "y_pred_full = tree_full.predict(X_test)\n",
        "\n",
        "# Calculate accuracy\n",
        "acc_depth3 = accuracy_score(y_test, y_pred_depth3)\n",
        "acc_full = accuracy_score(y_test, y_pred_full)\n",
        "\n",
        "print(f\"Accuracy with max_depth=3: {acc_depth3:.4f}\")\n",
        "print(f\"Accuracy with fully grown tree: {acc_full:.4f}\")"
      ],
      "metadata": {
        "colab": {
          "base_uri": "https://localhost:8080/"
        },
        "id": "hFFko3jXsKDI",
        "outputId": "d69bd7ab-51a6-471e-8fc8-1a5c08069bb2"
      },
      "execution_count": null,
      "outputs": [
        {
          "output_type": "stream",
          "name": "stdout",
          "text": [
            "Accuracy with max_depth=3: 1.0000\n",
            "Accuracy with fully grown tree: 1.0000\n"
          ]
        }
      ]
    },
    {
      "cell_type": "markdown",
      "source": [
        "###22.Write a Python program to train a Decision Tree Classifier using min_samples_split=5 and compare its accuracy with a default tree?\n"
      ],
      "metadata": {
        "id": "RqfqOS0RsWrZ"
      }
    },
    {
      "cell_type": "code",
      "source": [
        "from sklearn.datasets import load_iris\n",
        "from sklearn.model_selection import train_test_split\n",
        "from sklearn.tree import DecisionTreeClassifier\n",
        "from sklearn.metrics import accuracy_score\n",
        "\n",
        "# Load dataset\n",
        "iris = load_iris()\n",
        "X, y = iris.data, iris.target\n",
        "\n",
        "# Split data into train and test sets\n",
        "X_train, X_test, y_train, y_test = train_test_split(X, y, test_size=0.3, random_state=42)\n",
        "\n",
        "# Train Decision Tree with default parameters\n",
        "clf_default = DecisionTreeClassifier(random_state=42)\n",
        "clf_default.fit(X_train, y_train)\n",
        "y_pred_default = clf_default.predict(X_test)\n",
        "acc_default = accuracy_score(y_test, y_pred_default)\n",
        "\n",
        "# Train Decision Tree with min_samples_split=5\n",
        "clf_custom = DecisionTreeClassifier(min_samples_split=5, random_state=42)\n",
        "clf_custom.fit(X_train, y_train)\n",
        "y_pred_custom = clf_custom.predict(X_test)\n",
        "acc_custom = accuracy_score(y_test, y_pred_custom)\n",
        "\n",
        "print(f\"Accuracy with default Decision Tree: {acc_default:.4f}\")\n",
        "print(f\"Accuracy with min_samples_split=5: {acc_custom:.4f}\")"
      ],
      "metadata": {
        "colab": {
          "base_uri": "https://localhost:8080/"
        },
        "id": "rkqgECBAschS",
        "outputId": "4015d3b5-fa67-4d45-e1b0-3f0ca9941997"
      },
      "execution_count": null,
      "outputs": [
        {
          "output_type": "stream",
          "name": "stdout",
          "text": [
            "Accuracy with default Decision Tree: 1.0000\n",
            "Accuracy with min_samples_split=5: 1.0000\n"
          ]
        }
      ]
    },
    {
      "cell_type": "markdown",
      "source": [
        "###23.Write a Python program to apply feature scaling before training a Decision Tree Classifier and compare its accuracy with unscaled data?\n"
      ],
      "metadata": {
        "id": "0Ix6eFdKskRH"
      }
    },
    {
      "cell_type": "code",
      "source": [
        "from sklearn.datasets import load_iris\n",
        "from sklearn.model_selection import train_test_split\n",
        "from sklearn.tree import DecisionTreeClassifier\n",
        "from sklearn.preprocessing import StandardScaler\n",
        "from sklearn.metrics import accuracy_score\n",
        "\n",
        "# Load dataset\n",
        "data = load_iris()\n",
        "X = data.data\n",
        "y = data.target\n",
        "\n",
        "# Split data into train and test sets\n",
        "X_train, X_test, y_train, y_test = train_test_split(X, y, test_size=0.3, random_state=42)\n",
        "\n",
        "# 1. Train Decision Tree on unscaled data\n",
        "clf_unscaled = DecisionTreeClassifier(random_state=42)\n",
        "clf_unscaled.fit(X_train, y_train)\n",
        "y_pred_unscaled = clf_unscaled.predict(X_test)\n",
        "acc_unscaled = accuracy_score(y_test, y_pred_unscaled)\n",
        "\n",
        "# 2. Apply feature scaling\n",
        "scaler = StandardScaler()\n",
        "X_train_scaled = scaler.fit_transform(X_train)\n",
        "X_test_scaled = scaler.transform(X_test)\n",
        "\n",
        "# Train Decision Tree on scaled data\n",
        "clf_scaled = DecisionTreeClassifier(random_state=42)\n",
        "clf_scaled.fit(X_train_scaled, y_train)\n",
        "y_pred_scaled = clf_scaled.predict(X_test_scaled)\n",
        "acc_scaled = accuracy_score(y_test, y_pred_scaled)\n",
        "\n",
        "print(f\"Accuracy without scaling: {acc_unscaled:.4f}\")\n",
        "print(f\"Accuracy with scaling:    {acc_scaled:.4f}\")"
      ],
      "metadata": {
        "colab": {
          "base_uri": "https://localhost:8080/"
        },
        "id": "B93U590qsqiq",
        "outputId": "a6e097fa-bd6e-4871-a49a-01da06caccea"
      },
      "execution_count": null,
      "outputs": [
        {
          "output_type": "stream",
          "name": "stdout",
          "text": [
            "Accuracy without scaling: 1.0000\n",
            "Accuracy with scaling:    1.0000\n"
          ]
        }
      ]
    },
    {
      "cell_type": "markdown",
      "source": [
        "###24.Write a Python program to train a Decision Tree Classifier using One-vs-Rest (OvR) strategy for multiclass classification?\n"
      ],
      "metadata": {
        "id": "Lfm0_vjOsy3n"
      }
    },
    {
      "cell_type": "code",
      "source": [
        "from sklearn.datasets import load_iris\n",
        "from sklearn.model_selection import train_test_split\n",
        "from sklearn.tree import DecisionTreeClassifier\n",
        "from sklearn.multiclass import OneVsRestClassifier\n",
        "from sklearn.metrics import accuracy_score\n",
        "\n",
        "# Load sample data (Iris dataset)\n",
        "data = load_iris()\n",
        "X = data.data\n",
        "y = data.target\n",
        "\n",
        "# Split data into train and test sets\n",
        "X_train, X_test, y_train, y_test = train_test_split(X, y, test_size=0.3, random_state=42)\n",
        "\n",
        "# Initialize a Decision Tree classifier\n",
        "dtree = DecisionTreeClassifier(random_state=42)\n",
        "\n",
        "# Wrap the classifier in a One-vs-Rest multiclass strategy\n",
        "ovr_classifier = OneVsRestClassifier(dtree)\n",
        "\n",
        "# Train the OvR classifier\n",
        "ovr_classifier.fit(X_train, y_train)\n",
        "\n",
        "# Predict on the test set\n",
        "y_pred = ovr_classifier.predict(X_test)\n",
        "\n",
        "# Calculate accuracy\n",
        "accuracy = accuracy_score(y_test, y_pred)\n",
        "print(f\"Accuracy: {accuracy:.4f}\")"
      ],
      "metadata": {
        "colab": {
          "base_uri": "https://localhost:8080/"
        },
        "id": "jbdiaEsgs7E2",
        "outputId": "7f72c57c-83cc-4611-edff-c699b55a1df3"
      },
      "execution_count": null,
      "outputs": [
        {
          "output_type": "stream",
          "name": "stdout",
          "text": [
            "Accuracy: 1.0000\n"
          ]
        }
      ]
    },
    {
      "cell_type": "markdown",
      "source": [
        "###25.Write a Python program to train a Decision Tree Classifier and display the feature importance scores?"
      ],
      "metadata": {
        "id": "XG8rP1edtERh"
      }
    },
    {
      "cell_type": "code",
      "source": [
        "from sklearn.datasets import load_iris\n",
        "from sklearn.tree import DecisionTreeClassifier\n",
        "import pandas as pd\n",
        "\n",
        "# Load the Iris dataset\n",
        "iris = load_iris()\n",
        "X = iris.data\n",
        "y = iris.target\n",
        "feature_names = iris.feature_names\n",
        "\n",
        "# Train Decision Tree Classifier\n",
        "clf = DecisionTreeClassifier(random_state=42)\n",
        "clf.fit(X, y)\n",
        "\n",
        "# Get feature importance scores\n",
        "importance_scores = clf.feature_importances_\n",
        "\n",
        "# Display feature importance with feature names\n",
        "feature_importance = pd.Series(importance_scores, index=feature_names)\n",
        "print(\"Feature Importance Scores:\")\n",
        "print(feature_importance.sort_values(ascending=False))"
      ],
      "metadata": {
        "colab": {
          "base_uri": "https://localhost:8080/"
        },
        "id": "aPdl7vrhtJRz",
        "outputId": "7a59a3aa-1dd2-41a4-82c6-6337931ba93c"
      },
      "execution_count": null,
      "outputs": [
        {
          "output_type": "stream",
          "name": "stdout",
          "text": [
            "Feature Importance Scores:\n",
            "petal length (cm)    0.564056\n",
            "petal width (cm)     0.422611\n",
            "sepal length (cm)    0.013333\n",
            "sepal width (cm)     0.000000\n",
            "dtype: float64\n"
          ]
        }
      ]
    },
    {
      "cell_type": "markdown",
      "source": [
        "###26.Write a Python program to train a Decision Tree Regressor with max_depth=5 and compare its performance with an unrestricted tree?\n"
      ],
      "metadata": {
        "id": "JqV3n1zytPlO"
      }
    },
    {
      "cell_type": "code",
      "source": [
        "from sklearn.datasets import load_boston\n",
        "from sklearn.model_selection import train_test_split\n",
        "from sklearn.tree import DecisionTreeRegressor\n",
        "from sklearn.metrics import r2_score\n",
        "\n",
        "# Load a regression dataset\n",
        "data = load_boston()\n",
        "X, y = data.data, data.target\n",
        "\n",
        "# Split into train and test sets\n",
        "X_train, X_test, y_train, y_test = train_test_split(X, y, test_size=0.3, random_state=42)\n",
        "\n",
        "# Train Decision Tree Regressor with max_depth=5\n",
        "tree_limited = DecisionTreeRegressor(max_depth=5, random_state=42)\n",
        "tree_limited.fit(X_train, y_train)\n",
        "\n",
        "# Train Decision Tree Regressor without depth restriction\n",
        "tree_unrestricted = DecisionTreeRegressor(random_state=42)\n",
        "tree_unrestricted.fit(X_train, y_train)\n",
        "\n",
        "# Predict on test set\n",
        "y_pred_limited = tree_limited.predict(X_test)\n",
        "y_pred_unrestricted = tree_unrestricted.predict(X_test)\n",
        "\n",
        "# Evaluate performance\n",
        "r2_limited = r2_score(y_test, y_pred_limited)\n",
        "r2_unrestricted = r2_score(y_test, y_pred_unrestricted)\n",
        "\n",
        "print(f\"R² score with max_depth=5: {r2_limited:.3f}\")\n",
        "print(f\"R² score with unrestricted tree: {r2_unrestricted:.3f}\")"
      ],
      "metadata": {
        "colab": {
          "base_uri": "https://localhost:8080/",
          "height": 1000
        },
        "id": "3iNFFNw3tYif",
        "outputId": "9774f2c3-a0f4-49fa-9bef-0b69a8b70a3e"
      },
      "execution_count": null,
      "outputs": [
        {
          "output_type": "error",
          "ename": "ImportError",
          "evalue": "\n`load_boston` has been removed from scikit-learn since version 1.2.\n\nThe Boston housing prices dataset has an ethical problem: as\ninvestigated in [1], the authors of this dataset engineered a\nnon-invertible variable \"B\" assuming that racial self-segregation had a\npositive impact on house prices [2]. Furthermore the goal of the\nresearch that led to the creation of this dataset was to study the\nimpact of air quality but it did not give adequate demonstration of the\nvalidity of this assumption.\n\nThe scikit-learn maintainers therefore strongly discourage the use of\nthis dataset unless the purpose of the code is to study and educate\nabout ethical issues in data science and machine learning.\n\nIn this special case, you can fetch the dataset from the original\nsource::\n\n    import pandas as pd\n    import numpy as np\n\n    data_url = \"http://lib.stat.cmu.edu/datasets/boston\"\n    raw_df = pd.read_csv(data_url, sep=\"\\s+\", skiprows=22, header=None)\n    data = np.hstack([raw_df.values[::2, :], raw_df.values[1::2, :2]])\n    target = raw_df.values[1::2, 2]\n\nAlternative datasets include the California housing dataset and the\nAmes housing dataset. You can load the datasets as follows::\n\n    from sklearn.datasets import fetch_california_housing\n    housing = fetch_california_housing()\n\nfor the California housing dataset and::\n\n    from sklearn.datasets import fetch_openml\n    housing = fetch_openml(name=\"house_prices\", as_frame=True)\n\nfor the Ames housing dataset.\n\n[1] M Carlisle.\n\"Racist data destruction?\"\n<https://medium.com/@docintangible/racist-data-destruction-113e3eff54a8>\n\n[2] Harrison Jr, David, and Daniel L. Rubinfeld.\n\"Hedonic housing prices and the demand for clean air.\"\nJournal of environmental economics and management 5.1 (1978): 81-102.\n<https://www.researchgate.net/publication/4974606_Hedonic_housing_prices_and_the_demand_for_clean_air>\n",
          "traceback": [
            "\u001b[0;31m---------------------------------------------------------------------------\u001b[0m",
            "\u001b[0;31mImportError\u001b[0m                               Traceback (most recent call last)",
            "\u001b[0;32m<ipython-input-11-40d0c1d71ec5>\u001b[0m in \u001b[0;36m<cell line: 0>\u001b[0;34m()\u001b[0m\n\u001b[0;32m----> 1\u001b[0;31m \u001b[0;32mfrom\u001b[0m \u001b[0msklearn\u001b[0m\u001b[0;34m.\u001b[0m\u001b[0mdatasets\u001b[0m \u001b[0;32mimport\u001b[0m \u001b[0mload_boston\u001b[0m\u001b[0;34m\u001b[0m\u001b[0;34m\u001b[0m\u001b[0m\n\u001b[0m\u001b[1;32m      2\u001b[0m \u001b[0;32mfrom\u001b[0m \u001b[0msklearn\u001b[0m\u001b[0;34m.\u001b[0m\u001b[0mmodel_selection\u001b[0m \u001b[0;32mimport\u001b[0m \u001b[0mtrain_test_split\u001b[0m\u001b[0;34m\u001b[0m\u001b[0;34m\u001b[0m\u001b[0m\n\u001b[1;32m      3\u001b[0m \u001b[0;32mfrom\u001b[0m \u001b[0msklearn\u001b[0m\u001b[0;34m.\u001b[0m\u001b[0mtree\u001b[0m \u001b[0;32mimport\u001b[0m \u001b[0mDecisionTreeRegressor\u001b[0m\u001b[0;34m\u001b[0m\u001b[0;34m\u001b[0m\u001b[0m\n\u001b[1;32m      4\u001b[0m \u001b[0;32mfrom\u001b[0m \u001b[0msklearn\u001b[0m\u001b[0;34m.\u001b[0m\u001b[0mmetrics\u001b[0m \u001b[0;32mimport\u001b[0m \u001b[0mr2_score\u001b[0m\u001b[0;34m\u001b[0m\u001b[0;34m\u001b[0m\u001b[0m\n\u001b[1;32m      5\u001b[0m \u001b[0;34m\u001b[0m\u001b[0m\n",
            "\u001b[0;32m/usr/local/lib/python3.11/dist-packages/sklearn/datasets/__init__.py\u001b[0m in \u001b[0;36m__getattr__\u001b[0;34m(name)\u001b[0m\n\u001b[1;32m    159\u001b[0m             \"\"\"\n\u001b[1;32m    160\u001b[0m         )\n\u001b[0;32m--> 161\u001b[0;31m         \u001b[0;32mraise\u001b[0m \u001b[0mImportError\u001b[0m\u001b[0;34m(\u001b[0m\u001b[0mmsg\u001b[0m\u001b[0;34m)\u001b[0m\u001b[0;34m\u001b[0m\u001b[0;34m\u001b[0m\u001b[0m\n\u001b[0m\u001b[1;32m    162\u001b[0m     \u001b[0;32mtry\u001b[0m\u001b[0;34m:\u001b[0m\u001b[0;34m\u001b[0m\u001b[0;34m\u001b[0m\u001b[0m\n\u001b[1;32m    163\u001b[0m         \u001b[0;32mreturn\u001b[0m \u001b[0mglobals\u001b[0m\u001b[0;34m(\u001b[0m\u001b[0;34m)\u001b[0m\u001b[0;34m[\u001b[0m\u001b[0mname\u001b[0m\u001b[0;34m]\u001b[0m\u001b[0;34m\u001b[0m\u001b[0;34m\u001b[0m\u001b[0m\n",
            "\u001b[0;31mImportError\u001b[0m: \n`load_boston` has been removed from scikit-learn since version 1.2.\n\nThe Boston housing prices dataset has an ethical problem: as\ninvestigated in [1], the authors of this dataset engineered a\nnon-invertible variable \"B\" assuming that racial self-segregation had a\npositive impact on house prices [2]. Furthermore the goal of the\nresearch that led to the creation of this dataset was to study the\nimpact of air quality but it did not give adequate demonstration of the\nvalidity of this assumption.\n\nThe scikit-learn maintainers therefore strongly discourage the use of\nthis dataset unless the purpose of the code is to study and educate\nabout ethical issues in data science and machine learning.\n\nIn this special case, you can fetch the dataset from the original\nsource::\n\n    import pandas as pd\n    import numpy as np\n\n    data_url = \"http://lib.stat.cmu.edu/datasets/boston\"\n    raw_df = pd.read_csv(data_url, sep=\"\\s+\", skiprows=22, header=None)\n    data = np.hstack([raw_df.values[::2, :], raw_df.values[1::2, :2]])\n    target = raw_df.values[1::2, 2]\n\nAlternative datasets include the California housing dataset and the\nAmes housing dataset. You can load the datasets as follows::\n\n    from sklearn.datasets import fetch_california_housing\n    housing = fetch_california_housing()\n\nfor the California housing dataset and::\n\n    from sklearn.datasets import fetch_openml\n    housing = fetch_openml(name=\"house_prices\", as_frame=True)\n\nfor the Ames housing dataset.\n\n[1] M Carlisle.\n\"Racist data destruction?\"\n<https://medium.com/@docintangible/racist-data-destruction-113e3eff54a8>\n\n[2] Harrison Jr, David, and Daniel L. Rubinfeld.\n\"Hedonic housing prices and the demand for clean air.\"\nJournal of environmental economics and management 5.1 (1978): 81-102.\n<https://www.researchgate.net/publication/4974606_Hedonic_housing_prices_and_the_demand_for_clean_air>\n",
            "",
            "\u001b[0;31m---------------------------------------------------------------------------\u001b[0;32m\nNOTE: If your import is failing due to a missing package, you can\nmanually install dependencies using either !pip or !apt.\n\nTo view examples of installing some common dependencies, click the\n\"Open Examples\" button below.\n\u001b[0;31m---------------------------------------------------------------------------\u001b[0m\n"
          ],
          "errorDetails": {
            "actions": [
              {
                "action": "open_url",
                "actionText": "Open Examples",
                "url": "/notebooks/snippets/importing_libraries.ipynb"
              }
            ]
          }
        }
      ]
    },
    {
      "cell_type": "markdown",
      "source": [
        "###27.Write a Python program to train a Decision Tree Classifier, apply Cost Complexity Pruning (CCP), and visualize its effect on accuracy?\n"
      ],
      "metadata": {
        "id": "-YRkEKuntlBG"
      }
    },
    {
      "cell_type": "code",
      "source": [
        "import numpy as np\n",
        "import matplotlib.pyplot as plt\n",
        "from sklearn.datasets import load_iris\n",
        "from sklearn.tree import DecisionTreeClassifier\n",
        "from sklearn.model_selection import train_test_split\n",
        "from sklearn.metrics import accuracy_score\n",
        "\n",
        "# Load dataset\n",
        "iris = load_iris()\n",
        "X, y = iris.data, iris.target\n",
        "\n",
        "# Split dataset into train and test sets\n",
        "X_train, X_test, y_train, y_test = train_test_split(\n",
        "    X, y, test_size=0.3, random_state=42, stratify=y\n",
        ")\n",
        "\n",
        "# Train initial Decision Tree Classifier (without pruning)\n",
        "clf = DecisionTreeClassifier(random_state=42)\n",
        "clf.fit(X_train, y_train)\n",
        "\n",
        "# Get cost complexity pruning path\n",
        "path = clf.cost_complexity_pruning_path(X_train, y_train)\n",
        "ccp_alphas, impurities = path.ccp_alphas, path.impurities\n",
        "\n",
        "# Remove the maximum alpha value (pruning to empty tree) for clarity\n",
        "ccp_alphas = ccp_alphas[:-1]\n",
        "\n",
        "# Train trees with different alpha values\n",
        "clfs = []\n",
        "for ccp_alpha in ccp_alphas:\n",
        "    clf = DecisionTreeClassifier(random_state=42, ccp_alpha=ccp_alpha)\n",
        "    clf.fit(X_train, y_train)\n",
        "    clfs.append(clf)\n",
        "\n",
        "# Calculate accuracy for each alpha on train and test sets\n",
        "train_scores = [accuracy_score(y_train, clf.predict(X_train)) for clf in clfs]\n",
        "test_scores = [accuracy_score(y_test, clf.predict(X_test)) for clf in clfs]\n",
        "\n",
        "# Plot accuracy vs alpha\n",
        "plt.figure(figsize=(10, 6))\n",
        "plt.plot(ccp_alphas, train_scores, marker='o', label='Train Accuracy', drawstyle=\"steps-post\")\n",
        "plt.plot(ccp_alphas, test_scores, marker='o', label='Test Accuracy', drawstyle=\"steps-post\")\n",
        "plt.xlabel(\"ccp_alpha\")\n",
        "plt.ylabel(\"Accuracy\")\n",
        "plt.title(\"Effect of Cost Complexity Pruning on Accuracy\")\n",
        "plt.legend()\n",
        "plt.grid(True)\n",
        "plt.show()"
      ],
      "metadata": {
        "colab": {
          "base_uri": "https://localhost:8080/",
          "height": 564
        },
        "id": "smyhTCv_tu-j",
        "outputId": "9b5ffd2e-7dc3-4cd6-e941-24f0cd911194"
      },
      "execution_count": null,
      "outputs": [
        {
          "output_type": "display_data",
          "data": {
            "text/plain": [
              "<Figure size 1000x600 with 1 Axes>"
            ],
            "image/png": "[encoded data removed]"
          },
          "metadata": {}
        }
      ]
    },
    {
      "cell_type": "markdown",
      "source": [
        "###28.Write a Python program to train a Decision Tree Classifier and evaluate its performance using Precision,Recall, and F1-Score?\n"
      ],
      "metadata": {
        "id": "UQWdsoRTt2xN"
      }
    },
    {
      "cell_type": "code",
      "source": [
        "from sklearn.datasets import load_iris\n",
        "from sklearn.model_selection import train_test_split\n",
        "from sklearn.tree import DecisionTreeClassifier\n",
        "from sklearn.metrics import precision_score, recall_score, f1_score\n",
        "\n",
        "# Load dataset\n",
        "data = load_iris()\n",
        "X = data.data\n",
        "y = data.target\n",
        "\n",
        "# For simplicity, let's convert this to a binary classification problem\n",
        "# We'll classify if the class is 0 (setosa) or not (1 or 2)\n",
        "y_binary = (y == 0).astype(int)\n",
        "\n",
        "# Split into training and testing sets\n",
        "X_train, X_test, y_train, y_test = train_test_split(X, y_binary, test_size=0.3, random_state=42)\n",
        "\n",
        "# Initialize and train the Decision Tree Classifier\n",
        "clf = DecisionTreeClassifier(random_state=42)\n",
        "clf.fit(X_train, y_train)\n",
        "\n",
        "# Predict on the test set\n",
        "y_pred = clf.predict(X_test)\n",
        "\n",
        "# Calculate Precision, Recall, and F1-Score\n",
        "precision = precision_score(y_test, y_pred)\n",
        "recall = recall_score(y_test, y_pred)\n",
        "f1 = f1_score(y_test, y_pred)\n",
        "\n",
        "print(f\"Precision: {precision:.2f}\")\n",
        "print(f\"Recall:    {recall:.2f}\")\n",
        "print(f\"F1-Score:  {f1:.2f}\")"
      ],
      "metadata": {
        "colab": {
          "base_uri": "https://localhost:8080/"
        },
        "id": "KcHv_MTjuAm_",
        "outputId": "e0909616-f16c-4223-c6e0-16726811b2f7"
      },
      "execution_count": null,
      "outputs": [
        {
          "output_type": "stream",
          "name": "stdout",
          "text": [
            "Precision: 1.00\n",
            "Recall:    1.00\n",
            "F1-Score:  1.00\n"
          ]
        }
      ]
    },
    {
      "cell_type": "markdown",
      "source": [
        "###29.Write a Python program to train a Decision Tree Classifier and visualize the confusion matrix using seaborn?"
      ],
      "metadata": {
        "id": "1HUXKE7guKOx"
      }
    },
    {
      "cell_type": "code",
      "source": [
        "import seaborn as sns\n",
        "import matplotlib.pyplot as plt\n",
        "from sklearn.datasets import load_iris\n",
        "from sklearn.model_selection import train_test_split\n",
        "from sklearn.tree import DecisionTreeClassifier\n",
        "from sklearn.metrics import confusion_matrix\n",
        "\n",
        "# Load dataset\n",
        "data = load_iris()\n",
        "X = data.data\n",
        "y = data.target\n",
        "\n",
        "# Split data into train and test sets\n",
        "X_train, X_test, y_train, y_test = train_test_split(X, y, test_size=0.3, random_state=42)\n",
        "\n",
        "# Train Decision Tree Classifier\n",
        "clf = DecisionTreeClassifier(random_state=42)\n",
        "clf.fit(X_train, y_train)\n",
        "\n",
        "# Predict on test data\n",
        "y_pred = clf.predict(X_test)\n",
        "\n",
        "# Compute confusion matrix\n",
        "cm = confusion_matrix(y_test, y_pred)\n",
        "\n",
        "# Plot confusion matrix using seaborn\n",
        "plt.figure(figsize=(8,6))\n",
        "sns.heatmap(cm, annot=True, fmt='d', cmap='Blues',\n",
        "            xticklabels=data.target_names,\n",
        "            yticklabels=data.target_names)\n",
        "plt.xlabel('Predicted')\n",
        "plt.ylabel('Actual')\n",
        "plt.title('Confusion Matrix for Decision Tree Classifier')\n",
        "plt.show()"
      ],
      "metadata": {
        "colab": {
          "base_uri": "https://localhost:8080/",
          "height": 564
        },
        "id": "fav90Fx8uOWJ",
        "outputId": "5306c747-39e1-491e-f4cb-19fcdf5ff2d7"
      },
      "execution_count": null,
      "outputs": [
        {
          "output_type": "display_data",
          "data": {
            "text/plain": [
              "<Figure size 800x600 with 2 Axes>"
            ],
            "image/png": "[encoded data removed]"
          },
          "metadata": {}
        }
      ]
    },
    {
      "cell_type": "markdown",
      "source": [
        "###30.Write a Python program to train a Decision Tree Classifier and use GridSearchCV to find the optimal values for max_depth and min_samples_split?\n"
      ],
      "metadata": {
        "id": "US6HfADOuWej"
      }
    },
    {
      "cell_type": "code",
      "source": [
        "from sklearn.datasets import load_iris\n",
        "from sklearn.tree import DecisionTreeClassifier\n",
        "from sklearn.model_selection import GridSearchCV, train_test_split\n",
        "from sklearn.metrics import accuracy_score\n",
        "\n",
        "# Load dataset\n",
        "iris = load_iris()\n",
        "X, y = iris.data, iris.target\n",
        "\n",
        "# Split into train and test sets\n",
        "X_train, X_test, y_train, y_test = train_test_split(X, y, test_size=0.2, random_state=42)\n",
        "\n",
        "# Initialize Decision Tree Classifier\n",
        "dt = DecisionTreeClassifier(random_state=42)\n",
        "\n",
        "# Define parameter grid to search\n",
        "param_grid = {\n",
        "    'max_depth': [2, 3, 4, 5, 6, None],\n",
        "    'min_samples_split': [2, 5, 10]\n",
        "}\n",
        "\n",
        "# Initialize GridSearchCV\n",
        "grid_search = GridSearchCV(estimator=dt, param_grid=param_grid, cv=5, n_jobs=-1, verbose=1)\n",
        "\n",
        "# Fit GridSearchCV\n",
        "grid_search.fit(X_train, y_train)\n",
        "\n",
        "# Best parameters found\n",
        "print(\"Best parameters:\", grid_search.best_params_)\n",
        "\n",
        "# Use the best estimator to predict test set\n",
        "best_dt = grid_search.best_estimator_\n",
        "y_pred = best_dt.predict(X_test)\n",
        "\n",
        "# Evaluate accuracy\n",
        "accuracy = accuracy_score(y_test, y_pred)\n",
        "print(f\"Test set accuracy: {accuracy:.4f}\")"
      ],
      "metadata": {
        "colab": {
          "base_uri": "https://localhost:8080/"
        },
        "id": "7qLEQ5ejuhu5",
        "outputId": "7f11d720-afb6-475c-9126-483abfa628e4"
      },
      "execution_count": null,
      "outputs": [
        {
          "output_type": "stream",
          "name": "stdout",
          "text": [
            "Fitting 5 folds for each of 18 candidates, totalling 90 fits\n",
            "Best parameters: {'max_depth': 4, 'min_samples_split': 2}\n",
            "Test set accuracy: 1.0000\n"
          ]
        }
      ]
    }
  ]
}