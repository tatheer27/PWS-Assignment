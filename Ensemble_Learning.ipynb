{
  "nbformat": 4,
  "nbformat_minor": 0,
  "metadata": {
    "colab": {
      "provenance": []
    },
    "kernelspec": {
      "name": "python3",
      "display_name": "Python 3"
    },
    "language_info": {
      "name": "python"
    }
  },
  "cells": [
    {
      "cell_type": "markdown",
      "source": [
        "#1.Can we use Bagging for regression problems?\n",
        ">Yes, Bagging (Bootstrap Aggregating) can absolutely be used for regression problems, and it is quite effective in many cases.\n",
        "\n",
        "#2. What is the difference between multiple model training and single model training?\n",
        ">The difference between single model training and multiple model training lies in how many models you train and how you use them. Here's a clear breakdown:\n",
        ">Definition: You train one model on your entire dataset to perform a specific task.\n",
        "\n",
        ">Use Case: Simple classification, regression, or prediction tasks.\n",
        "\n",
        ">Example: Training a logistic regression model to predict whether a customer will churn.\n",
        "\n",
        "#3.Explain the concept of feature randomness in Random Forest?\n",
        ">Feature randomness in Random Forest is a technique that introduces randomness into the model-building process by selecting a random subset of features (also called predictors or variables) when splitting nodes in decision trees.\n",
        ">In a Random Forest, each decision tree is built from a random sample of the training data (a process called bootstrap sampling), and at each split in the tree, only a random subset of features is considered to determine the best split — not all features.\n",
        "\n",
        "#4.What is OOB (Out-of-Bag) Score?\n",
        ">The OOB (Out-of-Bag) Score is a performance metric used to evaluate ensemble learning methods, specifically Random Forests. It provides an internal estimate of model accuracy without the need for a separate validation set or cross-validation.\n",
        "#5.How can you measure the importance of features in a Random Forest model?\n",
        ">Measuring feature importance in a Random Forest model helps you understand which variables are contributing most to the model’s predictions. There are several standard ways to measure feature importance in Random Forests:\n",
        "\n",
        "#6.Explain the working principle of a Bagging Classifier?\n",
        ">The Bagging Classifier (short for Bootstrap Aggregating) is an ensemble learning method designed to improve the stability and accuracy of machine learning algorithms. It reduces variance and helps to avoid overfitting, especially in high-variance models like decision trees.\n",
        "\n",
        "#7.How do you evaluate a Bagging Classifier’s performance?\n",
        ">Evaluating a Bagging Classifier’s performance involves using standard model evaluation techniques that apply to any supervised classification algorithm. Here’s a step-by-step breakdown:\n",
        "✅ 1. Split the Data\n",
        ">Train/Test Split: Split your dataset into training and test sets (e.g., 80/20).\n",
        "\n",
        ">Or use K-Fold Cross-Validation to get a more robust performance estimate.\n",
        "\n",
        "#8. How does a Bagging Regressor work?\n",
        ">A Bagging Regressor (short for Bootstrap Aggregating Regressor) is an ensemble learning technique used in machine learning to improve the stability and accuracy of regression models. Here's how it works:\n",
        ">Core Idea\n",
        "Bagging combines the predictions of multiple base regression models (usually weak learners like decision trees) trained on different subsets of the data to reduce variance and improve overall performance.\n",
        "Bootstrap Sampling:\n",
        "\n",
        ">Create multiple subsets of the original training dataset using random sampling with replacement (bootstrap sampling).\n",
        "\n",
        ">Each subset is usually the same size as the original dataset but contains duplicated and missing samples due to replacement.\n",
        "\n",
        ">Train Base Models:\n",
        "\n",
        ">Train a separate regression model (often a decision tree) on each bootstrap sample independently.\n",
        "\n",
        ">Make Predictions:\n",
        "\n",
        ">For a new data point, each model makes its own prediction.\n",
        "\n",
        ">The final prediction is the average of all individual predictions (since it's regression, not classification).\n",
        "\n",
        "#9. What is the main advantage of ensemble techniques?\n",
        ">The main advantage of ensemble techniques is that they combine the predictions of multiple models to produce a more accurate and robust result than any single model alone.\n",
        ">Key Benefits:\n",
        "Improved Accuracy:\n",
        "\n",
        ">Combining models reduces the likelihood of errors made by individual models.\n",
        "\n",
        ">This often leads to better performance on both training and unseen data.\n",
        "\n",
        ">Reduced Overfitting:\n",
        "\n",
        ">Especially in techniques like bagging (e.g., Random Forest), variance is reduced, making the model more generalizable.\n",
        "\n",
        ">Increased Robustness:\n",
        "\n",
        ">Ensemble methods can balance out the weaknesses of individual models by leveraging their strengths.\n",
        "\n",
        ">Better Stability:\n",
        "\n",
        ">Results are typically more stable and less sensitive to fluctuations in the data.\n",
        "\n",
        "#10.What is the main challenge of ensemble methods?\n",
        ">The main challenge of ensemble methods lies in balancing diversity and accuracy among the individual models in the ensemble.\n",
        ">Diversity: Ensemble methods work best when the individual models make different kinds of errors. If all models are similar and make the same mistakes, the ensemble gains little benefit.\n",
        "\n",
        ">Accuracy: However, if individual models are too weak or inaccurate, the ensemble won't perform well even if they are diverse.\n",
        "\n",
        ">Achieving both high diversity and high accuracy is difficult:\n",
        "\n",
        ">Too much focus on diversity can lead to including poor models that hurt performance.\n",
        "\n",
        ">Too much focus on accuracy can lead to overfitting or redundancy among the models.\n",
        "\n",
        "#11.Explain the key idea behind ensemble techniques?\n",
        ">The key idea behind ensemble techniques in machine learning is:\n",
        "\n",
        "Combining multiple models to produce a stronger, more accurate, and more robust predictive model than any single model alone.\n",
        "\n",
        ">Why It Works:\n",
        "Different models may capture different patterns or make different types of errors. By aggregating their outputs, ensemble methods can:\n",
        "\n",
        ">Reduce variance (combat overfitting)\n",
        "\n",
        ">Reduce bias (improve accuracy).\n",
        "\n",
        "#12.What is a Random Forest Classifier?\n",
        ">A Random Forest Classifier is a popular and powerful machine learning algorithm used for classification tasks. It belongs to the family of ensemble learning methods, specifically bagging (Bootstrap Aggregating). Here's a >breakdown of what it is and how it works:\n",
        "A Random Forest Classifier builds multiple decision trees during training and outputs the class that is the majority vote of the individual trees.\n",
        "\n",
        "#13. What are the main types of ensemble techniques?\n",
        ">Ensemble techniques in machine learning combine multiple models to produce better performance than any single model alone. The main types of ensemble techniques include:\n",
        "Bagging (Bootstrap Aggregating)\n",
        "Goal: Reduce variance and avoid overfitting.\n",
        "\n",
        ">How it works:\n",
        "\n",
        ">Train multiple models (usually the same type, like decision trees) on different random subsets of the training data (with replacement).\n",
        "\n",
        ">Aggregate the predictions, usually by majority voting (for classification) or averaging (for regression).\n",
        "\n",
        ">Popular example:\n",
        "\n",
        ">Random Forest\n",
        "\n",
        ">2. Boosting\n",
        "Goal: Reduce bias and improve model accuracy.\n",
        "\n",
        ">How it works:\n",
        "\n",
        ">Models are trained sequentially, each trying to correct the mistakes of the previous one.\n",
        "\n",
        ">Final prediction is a weighted sum of all models.\n",
        "\n",
        ">Popular examples:\n",
        "\n",
        ">AdaBoost\n",
        "\n",
        ">Gradient Boosting Machines (GBM)\n",
        "\n",
        ">XGBoost\n",
        "\n",
        ">LightGBM\n",
        "\n",
        ">CatBoost\n",
        "\n",
        ">3. Stacking (Stacked Generalization)\n",
        "Goal: Leverage the strengths of multiple different models.\n",
        "\n",
        ">How it works:\n",
        "\n",
        ">Train several base learners (can be of different types).\n",
        "\n",
        ">A meta-learner is trained on the outputs (predictions) of the base learners to make the final prediction.\n",
        "\n",
        ">Common usage:\n",
        "\n",
        ">Often used in competitions (e.g., Kaggle) where diverse model types are combined for optimal performance.\n",
        "\n",
        ">4. Voting\n",
        "Goal: Aggregate predictions from multiple models.\n",
        "\n",
        ">How it works:\n",
        "\n",
        ">Hard voting: Uses majority class prediction.\n",
        "\n",
        ">Soft voting: Averages the predicted probabilities and chooses the class with the highest average.\n",
        "\n",
        ">Use case: Simple ensemble of different classifiers.\n",
        "\n",
        "#14.What is ensemble learning in machine learning?\n",
        ">Ensemble learning is a technique in machine learning where multiple models—often referred to as base learners or weak learners—are combined to produce a stronger overall model. The main idea is that while individual models may make errors, combining their predictions can reduce the likelihood of those errors and improve performance.\n",
        "\n",
        "#15.When should we avoid using ensemble methods?\n",
        "nsemble methods like bagging, boosting, and stacking are powerful tools in machine learning, but there are specific situations where avoiding them is advisable. Here’s when you should consider not using ensemble methods:\n",
        "Ensemble methods (especially boosting and stacking) combine multiple models, making them complex and difficult to interpret.\n",
        "\n",
        ">Use simpler models (like decision trees, linear models) when explainability is needed (e.g., in healthcare, finance, or legal decisions).\n",
        "\n",
        ">🚫 2. When Training Time or Resources Are Limited\n",
        "Ensembles often require training multiple models, which can be computationally expensive and slow.\n",
        "\n",
        "This is problematic when:\n",
        "\n",
        "You’re working with limited computational resources (e.g., embedded systems).\n",
        "\n",
        "You need real-time or low-latency inference.\n",
        "\n",
        "You're in rapid prototyping stages.\n",
        "\n",
        ">🚫 3. When the Base Model Performs Very Well\n",
        "If a single model already performs near optimally, an ensemble may add unnecessary complexity with minimal gain.\n",
        "\n",
        "It could also lead to overfitting, especially with small datasets.\n",
        "\n",
        ">🚫 4. When Data Is Very Limited\n",
        "Ensembles can overfit on small datasets because they amplify the variance.\n",
        "\n",
        "In such cases, focus on simpler, regularized models and data augmentation strategies.\n",
        "\n",
        ">🚫 5. When Deployment Simplicity Matters\n",
        "Deploying and maintaining an ensemble of models is harder than a single model.\n",
        "\n",
        "This adds:\n",
        "\n",
        "Complexity in updates\n",
        "\n",
        "Increased memory usage\n",
        "\n",
        "Harder debugging/troubleshooting\n",
        "\n",
        ">🚫 6. When Feature Engineering and Model Tuning Are Incomplete\n",
        "Before resorting to ensembles, ensure you've:\n",
        "\n",
        "Tuned the base model effectively.\n",
        "\n",
        "Optimized feature engineering and preprocessing.\n",
        "\n",
        "Ensembles shouldn't be used to cover up poor modeling practices.\n",
        "\n",
        ">🚫 7. When You’re in an Academic or Research Setting That Prioritizes Simplicity\n",
        "Simpler models are often preferred in research because:\n",
        "\n",
        "They’re easier to analyze theoretically.\n",
        "\n",
        "They help isolate the impact of specific methods or features.\n",
        "\n",
        "#16.How does Bagging help in reducing overfitting?\n",
        ">Bagging (Bootstrap Aggregating) helps reduce overfitting primarily by decreasing the variance of a model without increasing bias significantly. Here's how it works and why it helps:\n",
        "Bootstrapping: It creates multiple datasets by sampling with replacement from the original training data.\n",
        "\n",
        ">Training: A separate model (usually a high-variance one like a decision tree) is trained on each bootstrapped dataset.\n",
        "\n",
        ">Aggregating: The predictions from all models are combined—typically using:\n",
        "\n",
        ">Averaging for regression\n",
        "\n",
        ">Majority voting for classification\n",
        "\n",
        "#17.Why is Random Forest better than a single Decision Tree?\n",
        ">Random Forest is generally better than a single Decision Tree because it reduces key limitations of decision trees through ensemble learning, which combines multiple models to produce better results. Here’s why Random Forest outperforms a single Decision Tree.\n",
        "\n",
        "#18.What is the role of bootstrap sampling in Bagging?\n",
        ">Bootstrap sampling plays a central role in Bagging (Bootstrap Aggregating), which is an ensemble learning technique. Here's a breakdown of its purpose and how it works:\n",
        ">Definition of Bootstrap Sampling\n",
        "Bootstrap sampling is a random sampling with replacement method used to generate multiple different datasets (called bootstrap samples) from the original training dataset.\n",
        "\n",
        ">🎯 Role in Bagging\n",
        "Diversity through Resampling:\n",
        "\n",
        ">Bagging trains each base model (e.g., decision trees) on a different bootstrap sample of the training data.\n",
        "\n",
        ">Because of sampling with replacement, each bootstrap sample is slightly different—some observations may appear multiple times, while others may not appear at all.\n",
        "\n",
        ">This creates diversity among the models, which is crucial to reducing variance.\n",
        "\n",
        ">Variance Reduction:\n",
        "\n",
        ">Individual models in Bagging (like decision trees) are unstable and have high variance.\n",
        "\n",
        ">By averaging (for regression) or voting (for classification) over many diverse models, Bagging reduces variance, leading to more robust and stable predictions.\n",
        "\n",
        ">Avoiding Overfitting:\n",
        "\n",
        ">Although each individual model might overfit its bootstrap sample, their aggregate prediction tends to generalize better.\n",
        "\n",
        "#19.What are some real-world applications of ensemble techniques?\n",
        ">Ensemble techniques combine multiple machine learning models to produce better performance than any individual model. These techniques are widely used in real-world applications across various domains due to their ability to improve accuracy, reduce overfitting, and increase robustness. Here are some notable real-world applications:\n",
        ">1. Finance\n",
        ">Credit Scoring & Risk Assessment: Banks and financial institutions use ensemble models (e.g., Random Forests, Gradient Boosting) to predict loan defaults, creditworthiness, and customer segmentation.\n",
        "\n",
        ">Fraud Detection: Ensembles help detect fraudulent transactions by combining multiple models that can identify subtle patterns in large volumes of financial data.\n",
        "\n",
        ">2. Healthcare\n",
        ">Medical Diagnosis: Ensemble methods are used to assist in diagnosing diseases like cancer (e.g., breast cancer detection from imaging data) by combining predictions from different models.\n",
        "\n",
        ">Drug Discovery: Machine learning ensembles predict molecule activity or side effects, helping accelerate drug development.\n",
        "\n",
        ">3. Marketing and Sales\n",
        ">Customer Churn Prediction: Telecom and subscription-based businesses use ensemble models to predict which customers are likely to churn and tailor retention strategies.\n",
        "\n",
        ">Recommendation Systems: Ensemble models blend collaborative filtering, content-based filtering, and deep learning techniques to improve recommendation quality (e.g., in e-commerce and streaming platforms).\n",
        "\n",
        ">4. E-commerce\n",
        "Product Categorization and Search Ranking: Ensemble methods help improve product categorization accuracy and optimize search result rankings.\n",
        "\n",
        ">Dynamic Pricing: Combine multiple predictive models to set optimal prices based on demand, competition, and customer behavior.\n",
        "\n",
        ">5. Image and Speech Recognition\n",
        "Facial Recognition: Systems like those used in security and social media use ensembles of CNNs for higher accuracy.\n",
        "\n",
        ">Speech-to-Text and Voice Assistants: Ensemble methods improve transcription accuracy by combining outputs from different acoustic and language models.\n",
        "\n",
        ">6. Natural Language Processing (NLP)\n",
        "Sentiment Analysis: In social media monitoring and brand reputation management, ensembles improve accuracy in detecting sentiment across noisy text data.\n",
        "\n",
        ">Spam Detection: Email providers use ensemble models to classify messages as spam or not, using features from text, metadata, and sender behavior.\n",
        "\n",
        ">7. Autonomous Vehicles\n",
        "Sensor Fusion and Object Detection: Ensembles combine outputs from radar, LiDAR, and camera models for robust object recognition and decision-making.\n",
        "\n",
        ">8. Cybersecurity\n",
        "Intrusion Detection Systems: Ensemble models help identify unusual network activity and potential cyber threats with improved precision and lower false positive rates.\n",
        "\n",
        ">9. Climate Science and Weather Forecasting\n",
        "Ensemble Weather Prediction Models: Combine outputs of different simulations to provide more reliable weather forecasts and climate modeling.\n",
        "\n",
        ">10. Competitions & Benchmarks\n",
        "Kaggle Competitions: Winning solutions almost always use ensembles (e.g., stacking, blending, bagging) to squeeze out the highest possible accuracy on test data.\n",
        "\n",
        "#20. What is the difference between Bagging and Boosting?\n",
        ">Bagging and Boosting are both ensemble learning techniques in machine learning that aim to improve the performance and accuracy of models by combining multiple individual models (usually decision trees). However, they differ significantly in how they build and combine those models.\n",
        "Bagging (Bootstrap Aggregating)\n",
        "Key Idea: Build multiple independent models in parallel and aggregate their predictions.\n",
        "\n",
        ">Process:\n",
        "\n",
        ">Create multiple subsets of the training data using random sampling with replacement (bootstrap).\n",
        "\n",
        ">Train a separate model (e.g., decision tree) on each subset independently.\n",
        "\n",
        ">For prediction:\n",
        "\n",
        ">Classification: Use majority voting.\n",
        "\n",
        ">Regression: Use averaging.\n",
        "\n",
        ">Goal: Reduce variance of the model (helps prevent overfitting).\n",
        "\n",
        ">Example Algorithm: Random Forest (a bagging method with decision trees).\n",
        "\n",
        ">Parallelizable: Yes (models are trained independently).\n",
        "\n",
        ">Boosting\n",
        ">Key Idea: Build models sequentially, where each model tries to correct the errors of the previous one.\n",
        "\n",
        ">Process:\n",
        "\n",
        ">Train the first model on the original dataset.\n",
        "\n",
        ">Adjust the weights of the data points (e.g., give more weight to misclassified points).\n",
        "\n",
        ">Train the next model on the updated data.\n",
        "\n",
        ">Combine the models using weighted voting or weighted averaging.\n",
        "\n",
        ">Goal: Reduce bias and variance by focusing on mistakes.\n",
        "\n",
        ">Example Algorithms:\n",
        "\n",
        ">AdaBoost\n",
        "\n",
        ">Gradient Boosting\n",
        "\n",
        ">XGBoost, LightGBM, CatBoost\n",
        "\n",
        ">Parallelizable: No (models depend on each other sequentially).\n",
        "\n",
        "\n"
      ],
      "metadata": {
        "id": "wdbEV-iWVYbG"
      }
    },
    {
      "cell_type": "markdown",
      "source": [
        "#Ensemble Learning⭐"
      ],
      "metadata": {
        "id": "LnOCYgwNVPsw"
      }
    },
    {
      "cell_type": "markdown",
      "source": [
        "#Pratical Answer⭐"
      ],
      "metadata": {
        "id": "E1JT_yK5g1TX"
      }
    },
    {
      "cell_type": "markdown",
      "source": [
        "#21.Train a Bagging Classifier using Decision Trees on a sample dataset and print model accuracy.\n"
      ],
      "metadata": {
        "id": "_YDJ_ZSzhApF"
      }
    },
    {
      "cell_type": "code",
      "source": [
        "from sklearn.datasets import load_iris\n",
        "from sklearn.model_selection import train_test_split\n",
        "from sklearn.ensemble import BaggingClassifier\n",
        "from sklearn.tree import DecisionTreeClassifier\n",
        "from sklearn.metrics import accuracy_score\n",
        "\n",
        "# Load sample dataset\n",
        "iris = load_iris()\n",
        "X, y = iris.data, iris.target\n",
        "\n",
        "# Split into train and test sets\n",
        "X_train, X_test, y_train, y_test = train_test_split(X, y, test_size=0.3, random_state=42)\n",
        "\n",
        "# Initialize base estimator (Decision Tree)\n",
        "base_estimator = DecisionTreeClassifier()\n",
        "\n",
        "# Initialize Bagging Classifier\n",
        "bagging_clf = BaggingClassifier(base_estimator=base_estimator, n_estimators=50, random_state=42)\n",
        "\n",
        "# Train the model\n",
        "bagging_clf.fit(X_train, y_train)\n",
        "\n",
        "# Predict on the test set\n",
        "y_pred = bagging_clf.predict(X_test)\n",
        "\n",
        "# Calculate and print accuracy\n",
        "accuracy = accuracy_score(y_test, y_pred)\n",
        "print(f\"Bagging Classifier Accuracy: {accuracy:.2f}\")"
      ],
      "metadata": {
        "colab": {
          "base_uri": "https://localhost:8080/",
          "height": 211
        },
        "collapsed": true,
        "id": "05lsUSJ6hPex",
        "outputId": "fa4a3b79-ad7b-42b4-c8e1-0d9725b7aadf"
      },
      "execution_count": null,
      "outputs": [
        {
          "output_type": "error",
          "ename": "TypeError",
          "evalue": "BaggingClassifier.__init__() got an unexpected keyword argument 'base_estimator'",
          "traceback": [
            "\u001b[0;31m---------------------------------------------------------------------------\u001b[0m",
            "\u001b[0;31mTypeError\u001b[0m                                 Traceback (most recent call last)",
            "\u001b[0;32m<ipython-input-1-4059606273>\u001b[0m in \u001b[0;36m<cell line: 0>\u001b[0;34m()\u001b[0m\n\u001b[1;32m     16\u001b[0m \u001b[0;34m\u001b[0m\u001b[0m\n\u001b[1;32m     17\u001b[0m \u001b[0;31m# Initialize Bagging Classifier\u001b[0m\u001b[0;34m\u001b[0m\u001b[0;34m\u001b[0m\u001b[0m\n\u001b[0;32m---> 18\u001b[0;31m \u001b[0mbagging_clf\u001b[0m \u001b[0;34m=\u001b[0m \u001b[0mBaggingClassifier\u001b[0m\u001b[0;34m(\u001b[0m\u001b[0mbase_estimator\u001b[0m\u001b[0;34m=\u001b[0m\u001b[0mbase_estimator\u001b[0m\u001b[0;34m,\u001b[0m \u001b[0mn_estimators\u001b[0m\u001b[0;34m=\u001b[0m\u001b[0;36m50\u001b[0m\u001b[0;34m,\u001b[0m \u001b[0mrandom_state\u001b[0m\u001b[0;34m=\u001b[0m\u001b[0;36m42\u001b[0m\u001b[0;34m)\u001b[0m\u001b[0;34m\u001b[0m\u001b[0;34m\u001b[0m\u001b[0m\n\u001b[0m\u001b[1;32m     19\u001b[0m \u001b[0;34m\u001b[0m\u001b[0m\n\u001b[1;32m     20\u001b[0m \u001b[0;31m# Train the model\u001b[0m\u001b[0;34m\u001b[0m\u001b[0;34m\u001b[0m\u001b[0m\n",
            "\u001b[0;31mTypeError\u001b[0m: BaggingClassifier.__init__() got an unexpected keyword argument 'base_estimator'"
          ]
        }
      ]
    },
    {
      "cell_type": "markdown",
      "source": [
        "#22.Train a Bagging Regressor using Decision Trees and evaluate using Mean Squared Error (MSE)?"
      ],
      "metadata": {
        "id": "vzcF5wHBhWSG"
      }
    },
    {
      "cell_type": "code",
      "source": [
        "from sklearn.datasets import make_regression\n",
        "from sklearn.model_selection import train_test_split\n",
        "from sklearn.ensemble import BaggingRegressor\n",
        "from sklearn.tree import DecisionTreeRegressor\n",
        "from sklearn.metrics import mean_squared_error\n",
        "\n",
        "# Step 1: Create a synthetic regression dataset\n",
        "X, y = make_regression(n_samples=1000, n_features=20, noise=0.1, random_state=42)\n",
        "\n",
        "# Step 2: Split into training and test sets\n",
        "X_train, X_test, y_train, y_test = train_test_split(X, y, test_size=0.2, random_state=42)\n",
        "\n",
        "# Step 3: Initialize the base estimator (Decision Tree)\n",
        "base_estimator = DecisionTreeRegressor(random_state=42)\n",
        "\n",
        "# Step 4: Initialize and train the Bagging Regressor\n",
        "bagging_regressor = BaggingRegressor(base_estimator=base_estimator,\n",
        "                                      n_estimators=100,\n",
        "                                      random_state=42)\n",
        "bagging_regressor.fit(X_train, y_train)\n",
        "\n",
        "# Step 5: Predict on test data\n",
        "y_pred = bagging_regressor.predict(X_test)\n",
        "\n",
        "# Step 6: Evaluate using Mean Squared Error\n",
        "mse = mean_squared_error(y_test, y_pred)\n",
        "print(f\"Mean Squared Error (MSE): {mse:.4f}\")"
      ],
      "metadata": {
        "colab": {
          "base_uri": "https://localhost:8080/",
          "height": 211
        },
        "collapsed": true,
        "id": "gW6PG5Lehjar",
        "outputId": "a3cd7007-cccf-4a4b-e95c-67b29c85079b"
      },
      "execution_count": null,
      "outputs": [
        {
          "output_type": "error",
          "ename": "TypeError",
          "evalue": "BaggingRegressor.__init__() got an unexpected keyword argument 'base_estimator'",
          "traceback": [
            "\u001b[0;31m---------------------------------------------------------------------------\u001b[0m",
            "\u001b[0;31mTypeError\u001b[0m                                 Traceback (most recent call last)",
            "\u001b[0;32m<ipython-input-2-4042650018>\u001b[0m in \u001b[0;36m<cell line: 0>\u001b[0;34m()\u001b[0m\n\u001b[1;32m     15\u001b[0m \u001b[0;34m\u001b[0m\u001b[0m\n\u001b[1;32m     16\u001b[0m \u001b[0;31m# Step 4: Initialize and train the Bagging Regressor\u001b[0m\u001b[0;34m\u001b[0m\u001b[0;34m\u001b[0m\u001b[0m\n\u001b[0;32m---> 17\u001b[0;31m bagging_regressor = BaggingRegressor(base_estimator=base_estimator,\n\u001b[0m\u001b[1;32m     18\u001b[0m                                       \u001b[0mn_estimators\u001b[0m\u001b[0;34m=\u001b[0m\u001b[0;36m100\u001b[0m\u001b[0;34m,\u001b[0m\u001b[0;34m\u001b[0m\u001b[0;34m\u001b[0m\u001b[0m\n\u001b[1;32m     19\u001b[0m                                       random_state=42)\n",
            "\u001b[0;31mTypeError\u001b[0m: BaggingRegressor.__init__() got an unexpected keyword argument 'base_estimator'"
          ]
        }
      ]
    },
    {
      "cell_type": "markdown",
      "source": [
        "#23.Train a Random Forest Classifier on the Breast Cancer dataset and print feature importance scores?\n"
      ],
      "metadata": {
        "id": "_2KXuRoWhve0"
      }
    },
    {
      "cell_type": "code",
      "source": [
        "from sklearn.datasets import load_breast_cancer\n",
        "from sklearn.ensemble import RandomForestClassifier\n",
        "import pandas as pd\n",
        "\n",
        "# Load the dataset\n",
        "data = load_breast_cancer()\n",
        "X = data.data\n",
        "y = data.target\n",
        "\n",
        "# Train the Random Forest Classifier\n",
        "model = RandomForestClassifier(random_state=42)\n",
        "model.fit(X, y)\n",
        "\n",
        "# Get feature importances\n",
        "importances = model.feature_importances_\n",
        "\n",
        "# Map feature names to their importance\n",
        "feature_importance = pd.Series(importances, index=data.feature_names)\n",
        "\n",
        "# Sort and print the feature importance scores\n",
        "print(\"Feature Importances:\\n\")\n",
        "print(feature_importance.sort_values(ascending=False))"
      ],
      "metadata": {
        "colab": {
          "base_uri": "https://localhost:8080/"
        },
        "id": "ANZgO8mAiHOQ",
        "outputId": "e64e6344-b805-40c6-f977-c00a00762730"
      },
      "execution_count": null,
      "outputs": [
        {
          "output_type": "stream",
          "name": "stdout",
          "text": [
            "Feature Importances:\n",
            "\n",
            "worst area                 0.139357\n",
            "worst concave points       0.132225\n",
            "mean concave points        0.107046\n",
            "worst radius               0.082848\n",
            "worst perimeter            0.080850\n",
            "mean perimeter             0.067990\n",
            "mean concavity             0.066917\n",
            "mean area                  0.060462\n",
            "worst concavity            0.037339\n",
            "mean radius                0.034843\n",
            "area error                 0.029553\n",
            "worst compactness          0.019864\n",
            "worst texture              0.017485\n",
            "mean texture               0.015225\n",
            "radius error               0.014264\n",
            "worst smoothness           0.012232\n",
            "mean compactness           0.011597\n",
            "perimeter error            0.010085\n",
            "worst symmetry             0.008179\n",
            "mean smoothness            0.007958\n",
            "fractal dimension error    0.005942\n",
            "concavity error            0.005820\n",
            "compactness error          0.005612\n",
            "smoothness error           0.004722\n",
            "worst fractal dimension    0.004497\n",
            "concave points error       0.003760\n",
            "texture error              0.003744\n",
            "symmetry error             0.003546\n",
            "mean symmetry              0.003423\n",
            "mean fractal dimension     0.002615\n",
            "dtype: float64\n"
          ]
        }
      ]
    },
    {
      "cell_type": "markdown",
      "source": [
        "#24.Train a Random Forest Regressor and compare its performance with a single Decision Tree?"
      ],
      "metadata": {
        "id": "Hms9hfJ6iMuk"
      }
    },
    {
      "cell_type": "code",
      "source": [
        "import numpy as np\n",
        "from sklearn.datasets import make_regression\n",
        "from sklearn.model_selection import train_test_split\n",
        "from sklearn.tree import DecisionTreeRegressor\n",
        "from sklearn.ensemble import RandomForestRegressor\n",
        "from sklearn.metrics import mean_squared_error, r2_score\n",
        "\n",
        "# Step 1: Generate synthetic regression data\n",
        "X, y = make_regression(n_samples=1000, n_features=10, noise=0.3, random_state=42)\n",
        "\n",
        "# Step 2: Split the data into training and test sets\n",
        "X_train, X_test, y_train, y_test = train_test_split(X, y, test_size=0.2, random_state=42)\n",
        "\n",
        "# Step 3: Train a Decision Tree Regressor\n",
        "dt = DecisionTreeRegressor(random_state=42)\n",
        "dt.fit(X_train, y_train)\n",
        "y_pred_dt = dt.predict(X_test)\n",
        "\n",
        "# Step 4: Train a Random Forest Regressor\n",
        "rf = RandomForestRegressor(n_estimators=100, random_state=42)\n",
        "rf.fit(X_train, y_train)\n",
        "y_pred_rf = rf.predict(X_test)\n",
        "\n",
        "# Step 5: Evaluate both models\n",
        "def evaluate(y_true, y_pred, model_name):\n",
        "    print(f\"\\n{model_name} Performance:\")\n",
        "    print(f\"Mean Squared Error: {mean_squared_error(y_true, y_pred):.2f}\")\n",
        "    print(f\"R² Score: {r2_score(y_true, y_pred):.2f}\")\n",
        "\n",
        "evaluate(y_test, y_pred_dt, \"Decision Tree Regressor\")\n",
        "evaluate(y_test, y_pred_rf, \"Random Forest Regressor\")"
      ],
      "metadata": {
        "colab": {
          "base_uri": "https://localhost:8080/"
        },
        "id": "0D_4uSKjiRzQ",
        "outputId": "a3764b16-ba95-4602-a5ce-2784e8403db0"
      },
      "execution_count": null,
      "outputs": [
        {
          "output_type": "stream",
          "name": "stdout",
          "text": [
            "\n",
            "Decision Tree Regressor Performance:\n",
            "Mean Squared Error: 6514.74\n",
            "R² Score: 0.61\n",
            "\n",
            "Random Forest Regressor Performance:\n",
            "Mean Squared Error: 2616.67\n",
            "R² Score: 0.84\n"
          ]
        }
      ]
    },
    {
      "cell_type": "markdown",
      "source": [
        "#25.Compute the Out-of-Bag (OOB) Score for a Random Forest Classifier?"
      ],
      "metadata": {
        "id": "JwJu50Fmibk4"
      }
    },
    {
      "cell_type": "code",
      "source": [
        "from sklearn.ensemble import RandomForestClassifier\n",
        "from sklearn.datasets import load_iris\n",
        "from sklearn.model_selection import train_test_split\n",
        "\n",
        "# Load a sample dataset\n",
        "X, y = load_iris(return_X_y=True)\n",
        "\n",
        "# Create the Random Forest Classifier with oob_score enabled\n",
        "rf = RandomForestClassifier(n_estimators=100, oob_score=True, random_state=42)\n",
        "\n",
        "# Fit the model (OOB score is computed during fit)\n",
        "rf.fit(X, y)\n",
        "\n",
        "# Print the OOB score\n",
        "print(f\"OOB Score: {rf.oob_score_:.4f}\")"
      ],
      "metadata": {
        "colab": {
          "base_uri": "https://localhost:8080/"
        },
        "id": "w3jriAkblTnm",
        "outputId": "fd04b57d-eedf-4a74-8990-9b390cb1436d"
      },
      "execution_count": null,
      "outputs": [
        {
          "output_type": "stream",
          "name": "stdout",
          "text": [
            "OOB Score: 0.9533\n"
          ]
        }
      ]
    },
    {
      "cell_type": "markdown",
      "source": [
        "#26.Train a Bagging Classifier using SVM as a base estimator and print accuracy?"
      ],
      "metadata": {
        "id": "QG_S4s29lhM4"
      }
    },
    {
      "cell_type": "code",
      "source": [
        "from sklearn.datasets import load_iris\n",
        "from sklearn.model_selection import train_test_split\n",
        "from sklearn.ensemble import BaggingClassifier\n",
        "from sklearn.svm import SVC\n",
        "from sklearn.metrics import accuracy_score\n",
        "\n",
        "# Load dataset\n",
        "X, y = load_iris(return_X_y=True)\n",
        "\n",
        "# Split dataset\n",
        "X_train, X_test, y_train, y_test = train_test_split(X, y, test_size=0.3, random_state=42)\n",
        "\n",
        "# Initialize base estimator\n",
        "svm = SVC(probability=True, kernel='rbf')\n",
        "\n",
        "# Create BaggingClassifier with SVM as base estimator\n",
        "bagging_clf = BaggingClassifier(base_estimator=svm, n_estimators=10, random_state=42)\n",
        "\n",
        "# Train model\n",
        "bagging_clf.fit(X_train, y_train)\n",
        "\n",
        "# Predict and calculate accuracy\n",
        "y_pred = bagging_clf.predict(X_test)\n",
        "accuracy = accuracy_score(y_test, y_pred)\n",
        "\n",
        "print(f\"Accuracy: {accuracy:.2f}\")"
      ],
      "metadata": {
        "colab": {
          "base_uri": "https://localhost:8080/",
          "height": 211
        },
        "collapsed": true,
        "id": "l9u27Mn0loKF",
        "outputId": "ae7aeba4-a344-4a17-e8a4-cbe3bad16750"
      },
      "execution_count": null,
      "outputs": [
        {
          "output_type": "error",
          "ename": "TypeError",
          "evalue": "BaggingClassifier.__init__() got an unexpected keyword argument 'base_estimator'",
          "traceback": [
            "\u001b[0;31m---------------------------------------------------------------------------\u001b[0m",
            "\u001b[0;31mTypeError\u001b[0m                                 Traceback (most recent call last)",
            "\u001b[0;32m<ipython-input-6-4234370784>\u001b[0m in \u001b[0;36m<cell line: 0>\u001b[0;34m()\u001b[0m\n\u001b[1;32m     15\u001b[0m \u001b[0;34m\u001b[0m\u001b[0m\n\u001b[1;32m     16\u001b[0m \u001b[0;31m# Create BaggingClassifier with SVM as base estimator\u001b[0m\u001b[0;34m\u001b[0m\u001b[0;34m\u001b[0m\u001b[0m\n\u001b[0;32m---> 17\u001b[0;31m \u001b[0mbagging_clf\u001b[0m \u001b[0;34m=\u001b[0m \u001b[0mBaggingClassifier\u001b[0m\u001b[0;34m(\u001b[0m\u001b[0mbase_estimator\u001b[0m\u001b[0;34m=\u001b[0m\u001b[0msvm\u001b[0m\u001b[0;34m,\u001b[0m \u001b[0mn_estimators\u001b[0m\u001b[0;34m=\u001b[0m\u001b[0;36m10\u001b[0m\u001b[0;34m,\u001b[0m \u001b[0mrandom_state\u001b[0m\u001b[0;34m=\u001b[0m\u001b[0;36m42\u001b[0m\u001b[0;34m)\u001b[0m\u001b[0;34m\u001b[0m\u001b[0;34m\u001b[0m\u001b[0m\n\u001b[0m\u001b[1;32m     18\u001b[0m \u001b[0;34m\u001b[0m\u001b[0m\n\u001b[1;32m     19\u001b[0m \u001b[0;31m# Train model\u001b[0m\u001b[0;34m\u001b[0m\u001b[0;34m\u001b[0m\u001b[0m\n",
            "\u001b[0;31mTypeError\u001b[0m: BaggingClassifier.__init__() got an unexpected keyword argument 'base_estimator'"
          ]
        }
      ]
    },
    {
      "cell_type": "markdown",
      "source": [
        "#27. Train a Random Forest Classifier with different numbers of trees and compare accuracy?"
      ],
      "metadata": {
        "id": "VuWZGJOUlyrF"
      }
    },
    {
      "cell_type": "code",
      "source": [
        "import matplotlib.pyplot as plt\n",
        "from sklearn.datasets import load_iris\n",
        "from sklearn.ensemble import RandomForestClassifier\n",
        "from sklearn.model_selection import train_test_split\n",
        "from sklearn.metrics import accuracy_score\n",
        "\n",
        "# Load dataset\n",
        "data = load_iris()\n",
        "X, y = data.data, data.target\n",
        "\n",
        "# Split into training and test sets\n",
        "X_train, X_test, y_train, y_test = train_test_split(X, y, test_size=0.3, random_state=42)\n",
        "\n",
        "# Try different numbers of trees\n",
        "n_estimators_list = [1, 5, 10, 50, 100, 200]\n",
        "accuracies = []\n",
        "\n",
        "for n in n_estimators_list:\n",
        "    clf = RandomForestClassifier(n_estimators=n, random_state=42)\n",
        "    clf.fit(X_train, y_train)\n",
        "    y_pred = clf.predict(X_test)\n",
        "    acc = accuracy_score(y_test, y_pred)\n",
        "    accuracies.append(acc)\n",
        "    print(f\"n_estimators: {n} - Accuracy: {acc:.4f}\")\n",
        "\n",
        "# Plot accuracy vs number of trees\n",
        "plt.figure(figsize=(8, 5))\n",
        "plt.plot(n_estimators_list, accuracies, marker='o')\n",
        "plt.title(\"Random Forest Accuracy vs Number of Trees\")\n",
        "plt.xlabel(\"Number of Trees (n_estimators)\")\n",
        "plt.ylabel(\"Accuracy\")\n",
        "plt.grid(True)\n",
        "plt.show()"
      ],
      "metadata": {
        "colab": {
          "base_uri": "https://localhost:8080/",
          "height": 591
        },
        "id": "iHlswcAYl5fb",
        "outputId": "f72d3c93-e6ae-4571-b8b2-3edf6cac6113"
      },
      "execution_count": null,
      "outputs": [
        {
          "output_type": "stream",
          "name": "stdout",
          "text": [
            "n_estimators: 1 - Accuracy: 1.0000\n",
            "n_estimators: 5 - Accuracy: 1.0000\n",
            "n_estimators: 10 - Accuracy: 1.0000\n",
            "n_estimators: 50 - Accuracy: 1.0000\n",
            "n_estimators: 100 - Accuracy: 1.0000\n",
            "n_estimators: 200 - Accuracy: 1.0000\n"
          ]
        },
        {
          "output_type": "display_data",
          "data": {
            "text/plain": [
              "<Figure size 800x500 with 1 Axes>"
            ],
            "image/png": "[encoded data removed]"
          },
          "metadata": {}
        }
      ]
    },
    {
      "cell_type": "markdown",
      "source": [
        "#28. Train a Bagging Classifier using Logistic Regression as a base estimator and print AUC score?"
      ],
      "metadata": {
        "id": "dhYx82mYmDFP"
      }
    },
    {
      "cell_type": "code",
      "source": [
        "from sklearn.datasets import make_classification\n",
        "from sklearn.linear_model import LogisticRegression\n",
        "from sklearn.ensemble import BaggingClassifier\n",
        "from sklearn.model_selection import train_test_split\n",
        "from sklearn.metrics import roc_auc_score\n",
        "\n",
        "# Step 1: Create synthetic classification data\n",
        "X, y = make_classification(n_samples=1000, n_features=20, n_informative=15,\n",
        "                           n_redundant=5, random_state=42)\n",
        "\n",
        "# Step 2: Split into training and test sets\n",
        "X_train, X_test, y_train, y_test = train_test_split(X, y, test_size=0.3, random_state=42)\n",
        "\n",
        "# Step 3: Create base estimator (Logistic Regression)\n",
        "base_estimator = LogisticRegression(solver='liblinear')  # liblinear is good for small datasets\n",
        "\n",
        "# Step 4: Create BaggingClassifier\n",
        "bagging_clf = BaggingClassifier(base_estimator=base_estimator,\n",
        "                                n_estimators=10,  # Number of bootstrap models\n",
        "                                random_state=42)\n",
        "\n",
        "# Step 5: Fit the model\n",
        "bagging_clf.fit(X_train, y_train)\n",
        "\n",
        "# Step 6: Predict probabilities\n",
        "y_proba = bagging_clf.predict_proba(X_test)[:, 1]\n",
        "\n",
        "# Step 7: Calculate and print AUC score\n",
        "auc_score = roc_auc_score(y_test, y_proba)\n",
        "print(f\"AUC Score: {auc_score:.4f}\")"
      ],
      "metadata": {
        "colab": {
          "base_uri": "https://localhost:8080/",
          "height": 211
        },
        "collapsed": true,
        "id": "AQrYw3jqmHla",
        "outputId": "144a9873-d062-4587-bd6f-89ab2575f83d"
      },
      "execution_count": null,
      "outputs": [
        {
          "output_type": "error",
          "ename": "TypeError",
          "evalue": "BaggingClassifier.__init__() got an unexpected keyword argument 'base_estimator'",
          "traceback": [
            "\u001b[0;31m---------------------------------------------------------------------------\u001b[0m",
            "\u001b[0;31mTypeError\u001b[0m                                 Traceback (most recent call last)",
            "\u001b[0;32m<ipython-input-8-3098746081>\u001b[0m in \u001b[0;36m<cell line: 0>\u001b[0;34m()\u001b[0m\n\u001b[1;32m     16\u001b[0m \u001b[0;34m\u001b[0m\u001b[0m\n\u001b[1;32m     17\u001b[0m \u001b[0;31m# Step 4: Create BaggingClassifier\u001b[0m\u001b[0;34m\u001b[0m\u001b[0;34m\u001b[0m\u001b[0m\n\u001b[0;32m---> 18\u001b[0;31m bagging_clf = BaggingClassifier(base_estimator=base_estimator,\n\u001b[0m\u001b[1;32m     19\u001b[0m                                 \u001b[0mn_estimators\u001b[0m\u001b[0;34m=\u001b[0m\u001b[0;36m10\u001b[0m\u001b[0;34m,\u001b[0m  \u001b[0;31m# Number of bootstrap models\u001b[0m\u001b[0;34m\u001b[0m\u001b[0;34m\u001b[0m\u001b[0m\n\u001b[1;32m     20\u001b[0m                                 random_state=42)\n",
            "\u001b[0;31mTypeError\u001b[0m: BaggingClassifier.__init__() got an unexpected keyword argument 'base_estimator'"
          ]
        }
      ]
    },
    {
      "cell_type": "markdown",
      "source": [
        "#29. Train a Random Forest Regressor and analyze feature importance scores?"
      ],
      "metadata": {
        "id": "jDFCiQL1mRea"
      }
    },
    {
      "cell_type": "code",
      "source": [
        "importances = rf.feature_importances_\n",
        "feature_importance_df = pd.DataFrame({\n",
        "    'Feature': X.columns,\n",
        "    'Importance': importances\n",
        "}).sort_values(by='Importance', ascending=False)\n",
        "\n",
        "# Print top features\n",
        "print(feature_importance_df)\n",
        "\n",
        "# Visualize\n",
        "plt.figure(figsize=(10, 6))\n",
        "sns.barplot(x='Importance', y='Feature', data=feature_importance_df)\n",
        "plt.title('Feature Importances from Random Forest Regressor')\n",
        "plt.tight_layout()\n",
        "plt.show()"
      ],
      "metadata": {
        "colab": {
          "base_uri": "https://localhost:8080/",
          "height": 211
        },
        "id": "o6qClyLamfJ4",
        "outputId": "f3f9328b-4d35-4354-f1ba-3556032a2767"
      },
      "execution_count": null,
      "outputs": [
        {
          "output_type": "error",
          "ename": "AttributeError",
          "evalue": "'numpy.ndarray' object has no attribute 'columns'",
          "traceback": [
            "\u001b[0;31m---------------------------------------------------------------------------\u001b[0m",
            "\u001b[0;31mAttributeError\u001b[0m                            Traceback (most recent call last)",
            "\u001b[0;32m<ipython-input-11-1942510155>\u001b[0m in \u001b[0;36m<cell line: 0>\u001b[0;34m()\u001b[0m\n\u001b[1;32m      1\u001b[0m \u001b[0mimportances\u001b[0m \u001b[0;34m=\u001b[0m \u001b[0mrf\u001b[0m\u001b[0;34m.\u001b[0m\u001b[0mfeature_importances_\u001b[0m\u001b[0;34m\u001b[0m\u001b[0;34m\u001b[0m\u001b[0m\n\u001b[1;32m      2\u001b[0m feature_importance_df = pd.DataFrame({\n\u001b[0;32m----> 3\u001b[0;31m     \u001b[0;34m'Feature'\u001b[0m\u001b[0;34m:\u001b[0m \u001b[0mX\u001b[0m\u001b[0;34m.\u001b[0m\u001b[0mcolumns\u001b[0m\u001b[0;34m,\u001b[0m\u001b[0;34m\u001b[0m\u001b[0;34m\u001b[0m\u001b[0m\n\u001b[0m\u001b[1;32m      4\u001b[0m     \u001b[0;34m'Importance'\u001b[0m\u001b[0;34m:\u001b[0m \u001b[0mimportances\u001b[0m\u001b[0;34m\u001b[0m\u001b[0;34m\u001b[0m\u001b[0m\n\u001b[1;32m      5\u001b[0m }).sort_values(by='Importance', ascending=False)\n",
            "\u001b[0;31mAttributeError\u001b[0m: 'numpy.ndarray' object has no attribute 'columns'"
          ]
        }
      ]
    },
    {
      "cell_type": "code",
      "source": [
        "import shap\n",
        "explainer = shap.TreeExplainer(rf)\n",
        "shap_values = explainer.shap_values(X_train)\n",
        "\n",
        "# Summary plot\n",
        "shap.summary_plot(shap_values, X_train)"
      ],
      "metadata": {
        "colab": {
          "base_uri": "https://localhost:8080/",
          "height": 714
        },
        "id": "4WQBlIA_muRx",
        "outputId": "6ac1b264-c03b-41c8-bc57-59d34fa6ac50"
      },
      "execution_count": null,
      "outputs": [
        {
          "output_type": "display_data",
          "data": {
            "text/plain": [
              "<Figure size 640x480 with 0 Axes>"
            ]
          },
          "metadata": {}
        },
        {
          "output_type": "display_data",
          "data": {
            "text/plain": [
              "<Figure size 1150x660 with 1 Axes>"
            ],
            "image/png": "[encoded data removed]"
          },
          "metadata": {}
        }
      ]
    },
    {
      "cell_type": "markdown",
      "source": [
        "#30.Train an ensemble model using both Bagging and Random Forest and compare accuracy?"
      ],
      "metadata": {
        "id": "QoqFA-R-m7py"
      }
    },
    {
      "cell_type": "code",
      "source": [
        "from sklearn.datasets import load_iris\n",
        "from sklearn.model_selection import train_test_split\n",
        "from sklearn.ensemble import BaggingClassifier, RandomForestClassifier\n",
        "from sklearn.tree import DecisionTreeClassifier\n",
        "from sklearn.metrics import accuracy_score\n",
        "\n",
        "# Load dataset\n",
        "iris = load_iris()\n",
        "X, y = iris.data, iris.target\n",
        "\n",
        "# Split into train and test sets\n",
        "X_train, X_test, y_train, y_test = train_test_split(X, y, test_size=0.3, random_state=42)\n",
        "\n",
        "# 1. Bagging Classifier with Decision Tree\n",
        "bagging = BaggingClassifier(base_estimator=DecisionTreeClassifier(), n_estimators=100, random_state=42)\n",
        "bagging.fit(X_train, y_train)\n",
        "y_pred_bagging = bagging.predict(X_test)\n",
        "accuracy_bagging = accuracy_score(y_test, y_pred_bagging)\n",
        "\n",
        "# 2. Random Forest Classifier\n",
        "random_forest = RandomForestClassifier(n_estimators=100, random_state=42)\n",
        "random_forest.fit(X_train, y_train)\n",
        "y_pred_rf = random_forest.predict(X_test)\n",
        "accuracy_rf = accuracy_score(y_test, y_pred_rf)\n",
        "\n",
        "# Print comparison\n",
        "print(f\"Bagging Accuracy:       {accuracy_bagging:.4f}\")\n",
        "print(f\"Random Forest Accuracy: {accuracy_rf:.4f}\")"
      ],
      "metadata": {
        "colab": {
          "base_uri": "https://localhost:8080/",
          "height": 211
        },
        "collapsed": true,
        "id": "RXXSttdRnDrq",
        "outputId": "8280c0e8-5447-4b53-8d8a-ba4562cb30ef"
      },
      "execution_count": null,
      "outputs": [
        {
          "output_type": "error",
          "ename": "TypeError",
          "evalue": "BaggingClassifier.__init__() got an unexpected keyword argument 'base_estimator'",
          "traceback": [
            "\u001b[0;31m---------------------------------------------------------------------------\u001b[0m",
            "\u001b[0;31mTypeError\u001b[0m                                 Traceback (most recent call last)",
            "\u001b[0;32m<ipython-input-17-2119112176>\u001b[0m in \u001b[0;36m<cell line: 0>\u001b[0;34m()\u001b[0m\n\u001b[1;32m     13\u001b[0m \u001b[0;34m\u001b[0m\u001b[0m\n\u001b[1;32m     14\u001b[0m \u001b[0;31m# 1. Bagging Classifier with Decision Tree\u001b[0m\u001b[0;34m\u001b[0m\u001b[0;34m\u001b[0m\u001b[0m\n\u001b[0;32m---> 15\u001b[0;31m \u001b[0mbagging\u001b[0m \u001b[0;34m=\u001b[0m \u001b[0mBaggingClassifier\u001b[0m\u001b[0;34m(\u001b[0m\u001b[0mbase_estimator\u001b[0m\u001b[0;34m=\u001b[0m\u001b[0mDecisionTreeClassifier\u001b[0m\u001b[0;34m(\u001b[0m\u001b[0;34m)\u001b[0m\u001b[0;34m,\u001b[0m \u001b[0mn_estimators\u001b[0m\u001b[0;34m=\u001b[0m\u001b[0;36m100\u001b[0m\u001b[0;34m,\u001b[0m \u001b[0mrandom_state\u001b[0m\u001b[0;34m=\u001b[0m\u001b[0;36m42\u001b[0m\u001b[0;34m)\u001b[0m\u001b[0;34m\u001b[0m\u001b[0;34m\u001b[0m\u001b[0m\n\u001b[0m\u001b[1;32m     16\u001b[0m \u001b[0mbagging\u001b[0m\u001b[0;34m.\u001b[0m\u001b[0mfit\u001b[0m\u001b[0;34m(\u001b[0m\u001b[0mX_train\u001b[0m\u001b[0;34m,\u001b[0m \u001b[0my_train\u001b[0m\u001b[0;34m)\u001b[0m\u001b[0;34m\u001b[0m\u001b[0;34m\u001b[0m\u001b[0m\n\u001b[1;32m     17\u001b[0m \u001b[0my_pred_bagging\u001b[0m \u001b[0;34m=\u001b[0m \u001b[0mbagging\u001b[0m\u001b[0;34m.\u001b[0m\u001b[0mpredict\u001b[0m\u001b[0;34m(\u001b[0m\u001b[0mX_test\u001b[0m\u001b[0;34m)\u001b[0m\u001b[0;34m\u001b[0m\u001b[0;34m\u001b[0m\u001b[0m\n",
            "\u001b[0;31mTypeError\u001b[0m: BaggingClassifier.__init__() got an unexpected keyword argument 'base_estimator'"
          ]
        }
      ]
    },
    {
      "cell_type": "markdown",
      "source": [
        "#31.Train a Random Forest Classifier and tune hyperparameters using GridSearchCV?"
      ],
      "metadata": {
        "id": "1qIM1YqpniBh"
      }
    },
    {
      "cell_type": "code",
      "source": [
        "from sklearn.ensemble import RandomForestClassifier\n",
        "from sklearn.model_selection import GridSearchCV\n",
        "from sklearn.datasets import load_iris\n",
        "from sklearn.model_selection import train_test_split\n",
        "from sklearn.metrics import classification_report\n",
        "\n",
        "# Load dataset (using Iris for example)\n",
        "X, y = load_iris(return_X_y=True)\n",
        "X_train, X_test, y_train, y_test = train_test_split(X, y, test_size=0.3, random_state=42)\n",
        "\n",
        "# Define the model\n",
        "rf = RandomForestClassifier(random_state=42)\n",
        "\n",
        "# Define the hyperparameter grid\n",
        "param_grid = {\n",
        "    'n_estimators': [50, 100, 200],\n",
        "    'max_depth': [None, 5, 10],\n",
        "    'min_samples_split': [2, 5],\n",
        "    'min_samples_leaf': [1, 2],\n",
        "    'bootstrap': [True, False]\n",
        "}\n",
        "\n",
        "# Set up GridSearchCV\n",
        "grid_search = GridSearchCV(estimator=rf, param_grid=param_grid,\n",
        "                           cv=5, scoring='accuracy', n_jobs=-1, verbose=2)\n",
        "\n",
        "# Fit the model\n",
        "grid_search.fit(X_train, y_train)\n",
        "\n",
        "# Best parameters and best estimator\n",
        "print(\"Best Parameters:\", grid_search.best_params_)\n",
        "print(\"Best Estimator:\", grid_search.best_estimator_)\n",
        "\n",
        "# Predict and evaluate\n",
        "y_pred = grid_search.predict(X_test)\n",
        "print(\"Classification Report:\\n\", classification_report(y_test, y_pred))"
      ],
      "metadata": {
        "colab": {
          "base_uri": "https://localhost:8080/"
        },
        "id": "OiWOujtVnqFJ",
        "outputId": "193e42ed-1c1f-4c7c-c5fd-d47dada1342e"
      },
      "execution_count": null,
      "outputs": [
        {
          "output_type": "stream",
          "name": "stdout",
          "text": [
            "Fitting 5 folds for each of 72 candidates, totalling 360 fits\n",
            "Best Parameters: {'bootstrap': True, 'max_depth': None, 'min_samples_leaf': 1, 'min_samples_split': 2, 'n_estimators': 100}\n",
            "Best Estimator: RandomForestClassifier(random_state=42)\n",
            "Classification Report:\n",
            "               precision    recall  f1-score   support\n",
            "\n",
            "           0       1.00      1.00      1.00        19\n",
            "           1       1.00      1.00      1.00        13\n",
            "           2       1.00      1.00      1.00        13\n",
            "\n",
            "    accuracy                           1.00        45\n",
            "   macro avg       1.00      1.00      1.00        45\n",
            "weighted avg       1.00      1.00      1.00        45\n",
            "\n"
          ]
        }
      ]
    },
    {
      "cell_type": "markdown",
      "source": [
        "#32. Train a Bagging Regressor with different numbers of base estimators and compare performance?"
      ],
      "metadata": {
        "id": "KAdl3DoRnzlR"
      }
    },
    {
      "cell_type": "code",
      "source": [
        "from sklearn.datasets import fetch_california_housing\n",
        "from sklearn.model_selection import train_test_split\n",
        "from sklearn.ensemble import BaggingRegressor\n",
        "from sklearn.tree import DecisionTreeRegressor\n",
        "from sklearn.metrics import mean_squared_error, r2_score\n",
        "import matplotlib.pyplot as plt\n",
        "\n",
        "# Load dataset\n",
        "data = fetch_california_housing()\n",
        "X, y = data.data, data.target\n",
        "\n",
        "# Train-test split\n",
        "X_train, X_test, y_train, y_test = train_test_split(X, y, test_size=0.2, random_state=42)\n",
        "\n",
        "# Test different numbers of base estimators\n",
        "n_estimators_list = [1, 10, 50, 100, 200]\n",
        "mse_scores = []\n",
        "r2_scores = []\n",
        "\n",
        "# Train and evaluate models\n",
        "for n in n_estimators_list:\n",
        "    model = BaggingRegressor(\n",
        "        base_estimator=DecisionTreeRegressor(),\n",
        "        n_estimators=n,\n",
        "        random_state=42,\n",
        "        n_jobs=-1\n",
        "    )\n",
        "    model.fit(X_train, y_train)\n",
        "    y_pred = model.predict(X_test)\n",
        "\n",
        "    mse = mean_squared_error(y_test, y_pred)\n",
        "    r2 = r2_score(y_test, y_pred)\n",
        "\n",
        "    mse_scores.append(mse)\n",
        "    r2_scores.append(r2)\n",
        "    print(f\"n_estimators: {n} -> MSE: {mse:.4f}, R²: {r2:.4f}\")\n",
        "\n",
        "# Plot performance\n",
        "plt.figure(figsize=(12, 5))\n",
        "\n",
        "plt.subplot(1, 2, 1)\n",
        "plt.plot(n_estimators_list, mse_scores, marker='o')\n",
        "plt.title('Mean Squared Error vs n_estimators')\n",
        "plt.xlabel('n_estimators')\n",
        "plt.ylabel('MSE')\n",
        "\n",
        "plt.subplot(1, 2, 2)\n",
        "plt.plot(n_estimators_list, r2_scores, marker='o', color='green')\n",
        "plt.title('R² Score vs n_estimators')\n",
        "plt.xlabel('n_estimators')\n",
        "plt.ylabel('R² Score')\n",
        "\n",
        "plt.tight_layout()\n",
        "plt.show()\n"
      ],
      "metadata": {
        "colab": {
          "base_uri": "https://localhost:8080/",
          "height": 211
        },
        "collapsed": true,
        "id": "WzWlAvPFn4mf",
        "outputId": "1e7272c0-bc10-4538-822d-83ac3762e18e"
      },
      "execution_count": null,
      "outputs": [
        {
          "output_type": "error",
          "ename": "TypeError",
          "evalue": "BaggingRegressor.__init__() got an unexpected keyword argument 'base_estimator'",
          "traceback": [
            "\u001b[0;31m---------------------------------------------------------------------------\u001b[0m",
            "\u001b[0;31mTypeError\u001b[0m                                 Traceback (most recent call last)",
            "\u001b[0;32m<ipython-input-19-1773038674>\u001b[0m in \u001b[0;36m<cell line: 0>\u001b[0;34m()\u001b[0m\n\u001b[1;32m     20\u001b[0m \u001b[0;31m# Train and evaluate models\u001b[0m\u001b[0;34m\u001b[0m\u001b[0;34m\u001b[0m\u001b[0m\n\u001b[1;32m     21\u001b[0m \u001b[0;32mfor\u001b[0m \u001b[0mn\u001b[0m \u001b[0;32min\u001b[0m \u001b[0mn_estimators_list\u001b[0m\u001b[0;34m:\u001b[0m\u001b[0;34m\u001b[0m\u001b[0;34m\u001b[0m\u001b[0m\n\u001b[0;32m---> 22\u001b[0;31m     model = BaggingRegressor(\n\u001b[0m\u001b[1;32m     23\u001b[0m         \u001b[0mbase_estimator\u001b[0m\u001b[0;34m=\u001b[0m\u001b[0mDecisionTreeRegressor\u001b[0m\u001b[0;34m(\u001b[0m\u001b[0;34m)\u001b[0m\u001b[0;34m,\u001b[0m\u001b[0;34m\u001b[0m\u001b[0;34m\u001b[0m\u001b[0m\n\u001b[1;32m     24\u001b[0m         \u001b[0mn_estimators\u001b[0m\u001b[0;34m=\u001b[0m\u001b[0mn\u001b[0m\u001b[0;34m,\u001b[0m\u001b[0;34m\u001b[0m\u001b[0;34m\u001b[0m\u001b[0m\n",
            "\u001b[0;31mTypeError\u001b[0m: BaggingRegressor.__init__() got an unexpected keyword argument 'base_estimator'"
          ]
        }
      ]
    },
    {
      "cell_type": "markdown",
      "source": [
        "#33.Train a Random Forest Classifier and analyze misclassified samples?"
      ],
      "metadata": {
        "id": "q5MyxZpfobpf"
      }
    },
    {
      "cell_type": "code",
      "source": [
        "\n",
        "from sklearn.datasets import load_iris\n",
        "from sklearn.ensemble import RandomForestClassifier\n",
        "from sklearn.model_selection import train_test_split\n",
        "from sklearn.metrics import confusion_matrix, classification_report\n",
        "import pandas as pd\n",
        "import numpy as np\n",
        "\n",
        "# 1. Load dataset\n",
        "iris = load_iris()\n",
        "X, y = iris.data, iris.target\n",
        "feature_names = iris.feature_names\n",
        "target_names = iris.target_names\n",
        "\n",
        "# 2. Train/test split\n",
        "X_train, X_test, y_train, y_test = train_test_split(X, y, test_size=0.3, random_state=42)\n",
        "\n",
        "# 3. Train Random Forest Classifier\n",
        "rf = RandomForestClassifier(n_estimators=100, random_state=42)\n",
        "rf.fit(X_train, y_train)\n",
        "\n",
        "# 4. Make predictions\n",
        "y_pred = rf.predict(X_test)\n",
        "\n",
        "# 5. Evaluate model\n",
        "print(\"Classification Report:\")\n",
        "print(classification_report(y_test, y_pred, target_names=target_names))\n",
        "\n",
        "print(\"Confusion Matrix:\")\n",
        "print(confusion_matrix(y_test, y_pred))\n",
        "\n",
        "# 6. Analyze misclassified samples\n",
        "misclassified_indices = np.where(y_test != y_pred)[0]\n",
        "\n",
        "print(\"\\nMisclassified samples:\")\n",
        "for index in misclassified_indices:\n",
        "    true_label = target_names[y_test[index]]\n",
        "    predicted_label = target_names[y_pred[index]]\n",
        "    sample_features = X_test[index]\n",
        "    print(f\"Index: {index}, True: {true_label}, Predicted: {predicted_label}, Features: {sample_features}\")\n"
      ],
      "metadata": {
        "colab": {
          "base_uri": "https://localhost:8080/"
        },
        "id": "j0rKdEeloxtT",
        "outputId": "5356e712-8307-4098-814d-4548c8ce687e"
      },
      "execution_count": null,
      "outputs": [
        {
          "output_type": "stream",
          "name": "stdout",
          "text": [
            "Classification Report:\n",
            "              precision    recall  f1-score   support\n",
            "\n",
            "      setosa       1.00      1.00      1.00        19\n",
            "  versicolor       1.00      1.00      1.00        13\n",
            "   virginica       1.00      1.00      1.00        13\n",
            "\n",
            "    accuracy                           1.00        45\n",
            "   macro avg       1.00      1.00      1.00        45\n",
            "weighted avg       1.00      1.00      1.00        45\n",
            "\n",
            "Confusion Matrix:\n",
            "[[19  0  0]\n",
            " [ 0 13  0]\n",
            " [ 0  0 13]]\n",
            "\n",
            "Misclassified samples:\n"
          ]
        }
      ]
    },
    {
      "cell_type": "markdown",
      "source": [
        "#34. Train a Bagging Classifier and compare its performance with a single Decision Tree Classifier?"
      ],
      "metadata": {
        "id": "icWK5d3jpCA0"
      }
    },
    {
      "cell_type": "code",
      "source": [
        "from sklearn.datasets import load_iris\n",
        "from sklearn.model_selection import train_test_split\n",
        "from sklearn.tree import DecisionTreeClassifier\n",
        "from sklearn.ensemble import BaggingClassifier\n",
        "from sklearn.metrics import accuracy_score, classification_report\n",
        "iris = load_iris()\n",
        "X, y = iris.data, iris.target\n",
        "\n",
        "# Split into train and test sets\n",
        "X_train, X_test, y_train, y_test = train_test_split(X, y, test_size=0.3, random_state=42)\n",
        "\n",
        "dt = DecisionTreeClassifier(random_state=42)\n",
        "dt.fit(X_train, y_train)\n",
        "\n",
        "# Predict and evaluate\n",
        "y_pred_dt = dt.predict(X_test)\n",
        "print(\"Decision Tree Accuracy:\", accuracy_score(y_test, y_pred_dt))\n",
        "print(\"Decision Tree Classification Report:\\n\", classification_report(y_test, y_pred_dt))"
      ],
      "metadata": {
        "colab": {
          "base_uri": "https://localhost:8080/"
        },
        "id": "tl7GZp_5pGJA",
        "outputId": "aa4b3a49-0b60-48a5-f5a1-a9378d80a950"
      },
      "execution_count": null,
      "outputs": [
        {
          "output_type": "stream",
          "name": "stdout",
          "text": [
            "Decision Tree Accuracy: 1.0\n",
            "Decision Tree Classification Report:\n",
            "               precision    recall  f1-score   support\n",
            "\n",
            "           0       1.00      1.00      1.00        19\n",
            "           1       1.00      1.00      1.00        13\n",
            "           2       1.00      1.00      1.00        13\n",
            "\n",
            "    accuracy                           1.00        45\n",
            "   macro avg       1.00      1.00      1.00        45\n",
            "weighted avg       1.00      1.00      1.00        45\n",
            "\n"
          ]
        }
      ]
    },
    {
      "cell_type": "markdown",
      "source": [
        "#35.Train a Random Forest Classifier and visualize the confusion matrix?"
      ],
      "metadata": {
        "id": "psO9JWUmplBY"
      }
    },
    {
      "cell_type": "code",
      "source": [
        "import numpy as np\n",
        "import pandas as pd\n",
        "import matplotlib.pyplot as plt\n",
        "import seaborn as sns\n",
        "from sklearn.datasets import load_iris\n",
        "from sklearn.ensemble import RandomForestClassifier\n",
        "from sklearn.model_selection import train_test_split\n",
        "from sklearn.metrics import confusion_matrix, ConfusionMatrixDisplay"
      ],
      "metadata": {
        "id": "_p0Ll3SrpxAZ"
      },
      "execution_count": null,
      "outputs": []
    },
    {
      "cell_type": "markdown",
      "source": [
        "#36.Train a Stacking Classifier using Decision Trees, SVM, and Logistic Regression, and compare accuracy?"
      ],
      "metadata": {
        "id": "zwQlu3_Yp-mP"
      }
    },
    {
      "cell_type": "code",
      "source": [
        "from sklearn.datasets import load_breast_cancer\n",
        "from sklearn.model_selection import train_test_split\n",
        "from sklearn.preprocessing import StandardScaler\n",
        "from sklearn.tree import DecisionTreeClassifier\n",
        "from sklearn.svm import SVC\n",
        "from sklearn.linear_model import LogisticRegression\n",
        "from sklearn.ensemble import StackingClassifier\n",
        "from sklearn.metrics import accuracy_score\n",
        "\n",
        "# Load dataset\n",
        "X, y = load_breast_cancer(return_X_y=True)\n",
        "\n",
        "# Train-test split\n",
        "X_train, X_test, y_train, y_test = train_test_split(X, y, test_size=0.2, random_state=42)\n",
        "\n",
        "# Feature scaling for SVM and Logistic Regression\n",
        "scaler = StandardScaler()\n",
        "X_train_scaled = scaler.fit_transform(X_train)\n",
        "X_test_scaled = scaler.transform(X_test)\n",
        "\n",
        "# Define base models\n",
        "clf_tree = DecisionTreeClassifier(random_state=42)\n",
        "clf_svm = SVC(probability=True, kernel='rbf', random_state=42)\n",
        "clf_log = LogisticRegression(max_iter=1000, random_state=42)\n",
        "\n",
        "# Train individual models\n",
        "clf_tree.fit(X_train, y_train)\n",
        "clf_svm.fit(X_train_scaled, y_train)\n",
        "clf_log.fit(X_train_scaled, y_train)\n",
        "\n",
        "# Predictions and accuracies\n",
        "acc_tree = accuracy_score(y_test, clf_tree.predict(X_test))\n",
        "acc_svm = accuracy_score(y_test, clf_svm.predict(X_test_scaled))\n",
        "acc_log = accuracy_score(y_test, clf_log.predict(X_test_scaled))\n",
        "\n",
        "# Stacking Classifier (using scaled data for all)\n",
        "estimators = [\n",
        "    ('dt', DecisionTreeClassifier(random_state=42)),\n",
        "    ('svm', SVC(probability=True, kernel='rbf', random_state=42)),\n",
        "    ('log', LogisticRegression(max_iter=1000, random_state=42))\n",
        "]\n",
        "stack_model = StackingClassifier(estimators=estimators, final_estimator=LogisticRegression(), passthrough=True)\n",
        "stack_model.fit(X_train_scaled, y_train)\n",
        "acc_stack = accuracy_score(y_test, stack_model.predict(X_test_scaled))\n",
        "\n",
        "# Print results\n",
        "print(f\"Accuracy - Decision Tree: {acc_tree:.4f}\")\n",
        "print(f\"Accuracy - SVM:           {acc_svm:.4f}\")\n",
        "print(f\"Accuracy - Logistic Reg.: {acc_log:.4f}\")\n",
        "print(f\"Accuracy - Stacking Classifier: {acc_stack:.4f}\")"
      ],
      "metadata": {
        "colab": {
          "base_uri": "https://localhost:8080/"
        },
        "id": "tl0fAajiqEPF",
        "outputId": "be9f3a95-120c-4c93-8c6f-25999d3da9b7"
      },
      "execution_count": null,
      "outputs": [
        {
          "output_type": "stream",
          "name": "stdout",
          "text": [
            "Accuracy - Decision Tree: 0.9474\n",
            "Accuracy - SVM:           0.9825\n",
            "Accuracy - Logistic Reg.: 0.9737\n",
            "Accuracy - Stacking Classifier: 0.9825\n"
          ]
        }
      ]
    },
    {
      "cell_type": "markdown",
      "source": [
        "#37.Train a Random Forest Classifier and print the top 5 most important features?"
      ],
      "metadata": {
        "id": "7R09xqOBqWB4"
      }
    },
    {
      "cell_type": "code",
      "source": [
        "from sklearn.datasets import load_iris\n",
        "from sklearn.ensemble import RandomForestClassifier\n",
        "import pandas as pd\n",
        "\n",
        "# Load dataset (you can replace this with your own)\n",
        "data = load_iris()\n",
        "X = pd.DataFrame(data.data, columns=data.feature_names)\n",
        "y = data.target\n",
        "\n",
        "# Train Random Forest Classifier\n",
        "rf = RandomForestClassifier(random_state=42)\n",
        "rf.fit(X, y)\n",
        "\n",
        "# Get feature importances\n",
        "importances = rf.feature_importances_\n",
        "feature_names = X.columns\n",
        "\n",
        "# Create a DataFrame for sorting\n",
        "feature_importance_df = pd.DataFrame({\n",
        "    'Feature': feature_names,\n",
        "    'Importance': importances\n",
        "})\n",
        "\n",
        "# Sort and display top 5\n",
        "top_features = feature_importance_df.sort_values(by='Importance', ascending=False).head(5)\n",
        "print(top_features)"
      ],
      "metadata": {
        "id": "lpouFvhKqfeE"
      },
      "execution_count": null,
      "outputs": []
    },
    {
      "cell_type": "markdown",
      "source": [
        "#38.Train a Bagging Classifier and evaluate performance using Precision, Recall, and F1-score?\n"
      ],
      "metadata": {
        "id": "xoD-6Yo1sv7B"
      }
    },
    {
      "cell_type": "code",
      "source": [
        "from sklearn.datasets import load_iris\n",
        "from sklearn.model_selection import train_test_split\n",
        "from sklearn.ensemble import BaggingClassifier\n",
        "from sklearn.tree import DecisionTreeClassifier\n",
        "from sklearn.metrics import precision_score, recall_score, f1_score, classification_report\n",
        "\n",
        "# 1. Load dataset\n",
        "data = load_iris()\n",
        "X, y = data.data, data.target\n",
        "\n",
        "# (For binary classification only; we can binarize the target)\n",
        "# Let's classify whether the species is 'setosa' or not\n",
        "y = (y == 0).astype(int)\n",
        "\n",
        "# 2. Split data\n",
        "X_train, X_test, y_train, y_test = train_test_split(X, y, test_size=0.3, random_state=42)\n",
        "\n",
        "# 3. Train Bagging Classifier\n",
        "bagging_clf = BaggingClassifier(\n",
        "    base_estimator=DecisionTreeClassifier(),\n",
        "    n_estimators=50,\n",
        "    random_state=42\n",
        ")\n",
        "bagging_clf.fit(X_train, y_train)\n",
        "\n",
        "# 4. Predict\n",
        "y_pred = bagging_clf.predict(X_test)\n",
        "\n",
        "# 5. Evaluate\n",
        "precision = precision_score(y_test, y_pred)\n",
        "recall = recall_score(y_test, y_pred)\n",
        "f1 = f1_score(y_test, y_pred)\n",
        "\n",
        "# Print results\n",
        "print(\"Precision:\", precision)\n",
        "print(\"Recall:\", recall)\n",
        "print(\"F1-Score:\", f1)\n",
        "print(\"\\nClassification Report:\\n\", classification_report(y_test, y_pred))\n"
      ],
      "metadata": {
        "colab": {
          "base_uri": "https://localhost:8080/",
          "height": 211
        },
        "collapsed": true,
        "id": "-Mdegjj0s2To",
        "outputId": "964ded1a-aeb6-4020-c1bf-55906004cedc"
      },
      "execution_count": null,
      "outputs": [
        {
          "output_type": "error",
          "ename": "TypeError",
          "evalue": "BaggingClassifier.__init__() got an unexpected keyword argument 'base_estimator'",
          "traceback": [
            "\u001b[0;31m---------------------------------------------------------------------------\u001b[0m",
            "\u001b[0;31mTypeError\u001b[0m                                 Traceback (most recent call last)",
            "\u001b[0;32m<ipython-input-28-1061746520>\u001b[0m in \u001b[0;36m<cell line: 0>\u001b[0;34m()\u001b[0m\n\u001b[1;32m     17\u001b[0m \u001b[0;34m\u001b[0m\u001b[0m\n\u001b[1;32m     18\u001b[0m \u001b[0;31m# 3. Train Bagging Classifier\u001b[0m\u001b[0;34m\u001b[0m\u001b[0;34m\u001b[0m\u001b[0m\n\u001b[0;32m---> 19\u001b[0;31m bagging_clf = BaggingClassifier(\n\u001b[0m\u001b[1;32m     20\u001b[0m     \u001b[0mbase_estimator\u001b[0m\u001b[0;34m=\u001b[0m\u001b[0mDecisionTreeClassifier\u001b[0m\u001b[0;34m(\u001b[0m\u001b[0;34m)\u001b[0m\u001b[0;34m,\u001b[0m\u001b[0;34m\u001b[0m\u001b[0;34m\u001b[0m\u001b[0m\n\u001b[1;32m     21\u001b[0m     \u001b[0mn_estimators\u001b[0m\u001b[0;34m=\u001b[0m\u001b[0;36m50\u001b[0m\u001b[0;34m,\u001b[0m\u001b[0;34m\u001b[0m\u001b[0;34m\u001b[0m\u001b[0m\n",
            "\u001b[0;31mTypeError\u001b[0m: BaggingClassifier.__init__() got an unexpected keyword argument 'base_estimator'"
          ]
        }
      ]
    },
    {
      "cell_type": "markdown",
      "source": [
        "#39.Train a Random Forest Classifier and analyze the effect of max_depth on accuracy?"
      ],
      "metadata": {
        "id": "MlMDEBIabrQH"
      }
    },
    {
      "cell_type": "code",
      "source": [
        "import matplotlib.pyplot as plt\n",
        "from sklearn.datasets import load_iris\n",
        "from sklearn.ensemble import RandomForestClassifier\n",
        "from sklearn.model_selection import train_test_split\n",
        "from sklearn.metrics import accuracy_score\n",
        "\n",
        "# Load dataset\n",
        "data = load_iris()\n",
        "X, y = data.data, data.target\n",
        "\n",
        "# Split data into train and test sets\n",
        "X_train, X_test, y_train, y_test = train_test_split(X, y, test_size=0.3, random_state=42)\n",
        "\n",
        "# Range of max_depth values to test\n",
        "depth_values = list(range(1, 21))\n",
        "accuracy_scores = []\n",
        "\n",
        "# Train Random Forest with different max_depth values\n",
        "for depth in depth_values:\n",
        "    clf = RandomForestClassifier(max_depth=depth, random_state=42)\n",
        "    clf.fit(X_train, y_train)\n",
        "    y_pred = clf.predict(X_test)\n",
        "    accuracy = accuracy_score(y_test, y_pred)\n",
        "    accuracy_scores.append(accuracy)\n",
        "\n",
        "# Plotting accuracy vs. max_depth\n",
        "plt.figure(figsize=(10, 6))\n",
        "plt.plot(depth_values, accuracy_scores, marker='o')\n",
        "plt.title(\"Effect of max_depth on Random Forest Accuracy\")\n",
        "plt.xlabel(\"max_depth\")\n",
        "plt.ylabel(\"Accuracy\")\n",
        "plt.grid(True)\n",
        "plt.show()"
      ],
      "metadata": {
        "colab": {
          "base_uri": "https://localhost:8080/",
          "height": 564
        },
        "id": "UPzuZeG6frFM",
        "outputId": "b9dbcc73-71a1-4e10-d7a0-c153037cadad"
      },
      "execution_count": null,
      "outputs": [
        {
          "output_type": "display_data",
          "data": {
            "text/plain": [
              "<Figure size 1000x600 with 1 Axes>"
            ],
            "image/png": "[encoded data removed]"
          },
          "metadata": {}
        }
      ]
    },
    {
      "cell_type": "markdown",
      "source": [
        "#40.Train a Bagging Regressor using different base estimators (DecisionTree and KNeighbors) and compare performance?\n"
      ],
      "metadata": {
        "id": "FPsHiOU5f-_H"
      }
    },
    {
      "cell_type": "code",
      "source": [
        "from sklearn.datasets import fetch_california_housing\n",
        "from sklearn.model_selection import train_test_split\n",
        "from sklearn.ensemble import BaggingRegressor\n",
        "from sklearn.tree import DecisionTreeRegressor\n",
        "from sklearn.neighbors import KNeighborsRegressor\n",
        "from sklearn.metrics import mean_squared_error, r2_score\n",
        "import numpy as np\n",
        "\n",
        "# 1. Load dataset\n",
        "data = fetch_california_housing()\n",
        "X, y = data.data, data.target\n",
        "\n",
        "# 2. Train-test split\n",
        "X_train, X_test, y_train, y_test = train_test_split(X, y, test_size=0.2, random_state=42)\n",
        "\n",
        "# 3a. Bagging with Decision Tree\n",
        "tree_base = DecisionTreeRegressor(random_state=42)\n",
        "bag_tree = BaggingRegressor(base_estimator=tree_base, n_estimators=50, random_state=42)\n",
        "bag_tree.fit(X_train, y_train)\n",
        "y_pred_tree = bag_tree.predict(X_test)\n",
        "\n",
        "# 3b. Bagging with K-Nearest Neighbors\n",
        "knn_base = KNeighborsRegressor()\n",
        "bag_knn = BaggingRegressor(base_estimator=knn_base, n_estimators=50, random_state=42)\n",
        "bag_knn.fit(X_train, y_train)\n",
        "y_pred_knn = bag_knn.predict(X_test)\n",
        "\n",
        "# 4. Evaluation\n",
        "def evaluate(y_true, y_pred, model_name):\n",
        "    mse = mean_squared_error(y_true, y_pred)\n",
        "    r2 = r2_score(y_true, y_pred)\n",
        "    print(f\"{model_name}:\\n MSE = {mse:.4f}, R² = {r2:.4f}\\n\")\n",
        "\n",
        "evaluate(y_test, y_pred_tree, \"Bagging with DecisionTreeRegressor\")\n",
        "evaluate(y_test, y_pred_knn, \"Bagging with KNeighborsRegressor\")"
      ],
      "metadata": {
        "id": "asIrTaDHgFkG"
      },
      "execution_count": null,
      "outputs": []
    },
    {
      "cell_type": "markdown",
      "source": [
        "#41. Train a Random Forest Classifier and evaluate its performance using ROC-AUC Score?"
      ],
      "metadata": {
        "id": "xxW_iJX8glj8"
      }
    },
    {
      "cell_type": "code",
      "source": [
        "from sklearn.datasets import make_classification\n",
        "from sklearn.ensemble import RandomForestClassifier\n",
        "from sklearn.model_selection import train_test_split\n",
        "from sklearn.metrics import roc_auc_score\n",
        "\n",
        "# 1. Create a sample binary classification dataset\n",
        "X, y = make_classification(n_samples=1000, n_features=20,\n",
        "                           n_informative=2, n_redundant=10,\n",
        "                           n_classes=2, random_state=42)\n",
        "\n",
        "# 2. Split into training and testing sets\n",
        "X_train, X_test, y_train, y_test = train_test_split(\n",
        "    X, y, test_size=0.3, random_state=42\n",
        ")\n",
        "\n",
        "# 3. Train the Random Forest Classifier\n",
        "clf = RandomForestClassifier(n_estimators=100, random_state=42)\n",
        "clf.fit(X_train, y_train)\n",
        "\n",
        "# 4. Predict probabilities for the positive class\n",
        "y_proba = clf.predict_proba(X_test)[:, 1]\n",
        "\n",
        "# 5. Calculate ROC-AUC score\n",
        "roc_auc = roc_auc_score(y_test, y_proba)\n",
        "print(f\"ROC-AUC Score: {roc_auc:.4f}\")"
      ],
      "metadata": {
        "colab": {
          "base_uri": "https://localhost:8080/"
        },
        "id": "I2yMRq_3gobx",
        "outputId": "83bba075-57fc-4135-d0ce-14efcfc627ce"
      },
      "execution_count": null,
      "outputs": [
        {
          "output_type": "stream",
          "name": "stdout",
          "text": [
            "ROC-AUC Score: 0.9555\n"
          ]
        }
      ]
    },
    {
      "cell_type": "markdown",
      "source": [
        "#42.Train a Bagging Classifier and evaluate its performance using cross-validatio."
      ],
      "metadata": {
        "id": "KUM6GLXrg0iV"
      }
    },
    {
      "cell_type": "code",
      "source": [
        "from sklearn.datasets import load_iris\n",
        "from sklearn.ensemble import BaggingClassifier\n",
        "from sklearn.tree import DecisionTreeClassifier\n",
        "from sklearn.model_selection import cross_val_score\n",
        "from sklearn.metrics import accuracy_score\n",
        "import numpy as np\n",
        "\n",
        "# Load the dataset\n",
        "data = load_iris()\n",
        "X, y = data.data, data.target\n",
        "\n",
        "# Define base estimator and Bagging Classifier\n",
        "base_estimator = DecisionTreeClassifier()\n",
        "bagging_clf = BaggingClassifier(base_estimator=base_estimator,\n",
        "                                n_estimators=50,   # number of trees\n",
        "                                random_state=42)\n",
        "\n",
        "# Evaluate using 5-fold cross-validation\n",
        "scores = cross_val_score(bagging_clf, X, y, cv=5)\n",
        "\n",
        "# Print results\n",
        "print(\"Cross-validation accuracy scores:\", scores)\n",
        "print(\"Mean accuracy:\", np.mean(scores))"
      ],
      "metadata": {
        "colab": {
          "base_uri": "https://localhost:8080/",
          "height": 211
        },
        "collapsed": true,
        "id": "dTbuCz_Eg9jm",
        "outputId": "8ca253bd-2672-4914-f129-24bbc1ab0a60"
      },
      "execution_count": null,
      "outputs": [
        {
          "output_type": "error",
          "ename": "TypeError",
          "evalue": "BaggingClassifier.__init__() got an unexpected keyword argument 'base_estimator'",
          "traceback": [
            "\u001b[0;31m---------------------------------------------------------------------------\u001b[0m",
            "\u001b[0;31mTypeError\u001b[0m                                 Traceback (most recent call last)",
            "\u001b[0;32m<ipython-input-3-3540649442>\u001b[0m in \u001b[0;36m<cell line: 0>\u001b[0;34m()\u001b[0m\n\u001b[1;32m     12\u001b[0m \u001b[0;31m# Define base estimator and Bagging Classifier\u001b[0m\u001b[0;34m\u001b[0m\u001b[0;34m\u001b[0m\u001b[0m\n\u001b[1;32m     13\u001b[0m \u001b[0mbase_estimator\u001b[0m \u001b[0;34m=\u001b[0m \u001b[0mDecisionTreeClassifier\u001b[0m\u001b[0;34m(\u001b[0m\u001b[0;34m)\u001b[0m\u001b[0;34m\u001b[0m\u001b[0;34m\u001b[0m\u001b[0m\n\u001b[0;32m---> 14\u001b[0;31m bagging_clf = BaggingClassifier(base_estimator=base_estimator,\n\u001b[0m\u001b[1;32m     15\u001b[0m                                 \u001b[0mn_estimators\u001b[0m\u001b[0;34m=\u001b[0m\u001b[0;36m50\u001b[0m\u001b[0;34m,\u001b[0m   \u001b[0;31m# number of trees\u001b[0m\u001b[0;34m\u001b[0m\u001b[0;34m\u001b[0m\u001b[0m\n\u001b[1;32m     16\u001b[0m                                 random_state=42)\n",
            "\u001b[0;31mTypeError\u001b[0m: BaggingClassifier.__init__() got an unexpected keyword argument 'base_estimator'"
          ]
        }
      ]
    },
    {
      "cell_type": "markdown",
      "source": [
        "#43.Train a Random Forest Classifier and plot the Precision-Recall curv?"
      ],
      "metadata": {
        "id": "y6ZTwSYbhHaA"
      }
    },
    {
      "cell_type": "code",
      "source": [
        "import matplotlib.pyplot as plt\n",
        "from sklearn.datasets import load_breast_cancer\n",
        "from sklearn.ensemble import RandomForestClassifier\n",
        "from sklearn.model_selection import train_test_split\n",
        "from sklearn.metrics import precision_recall_curve, average_precision_score\n",
        "\n",
        "# 1. Load data\n",
        "data = load_breast_cancer()\n",
        "X, y = data.data, data.target\n",
        "\n",
        "# 2. Split into train and test\n",
        "X_train, X_test, y_train, y_test = train_test_split(X, y, test_size=0.3, random_state=42)\n",
        "\n",
        "# 3. Train Random Forest\n",
        "clf = RandomForestClassifier(n_estimators=100, random_state=42)\n",
        "clf.fit(X_train, y_train)\n",
        "\n",
        "# 4. Get prediction probabilities\n",
        "y_scores = clf.predict_proba(X_test)[:, 1]\n",
        "\n",
        "# 5. Compute precision-recall curve\n",
        "precision, recall, thresholds = precision_recall_curve(y_test, y_scores)\n",
        "avg_precision = average_precision_score(y_test, y_scores)\n",
        "\n",
        "# 6. Plot the curve\n",
        "plt.figure(figsize=(8, 6))\n",
        "plt.plot(recall, precision, label=f'Random Forest (AP = {avg_precision:.2f})')\n",
        "plt.xlabel('Recall')\n",
        "plt.ylabel('Precision')\n",
        "plt.title('Precision-Recall Curve')\n",
        "plt.legend()\n",
        "plt.grid(True)\n",
        "plt.tight_layout()\n",
        "plt.show()"
      ],
      "metadata": {
        "colab": {
          "base_uri": "https://localhost:8080/",
          "height": 607
        },
        "id": "WY0lLWMchLZv",
        "outputId": "7c07bf72-12da-4cc2-9f21-66d76780ae53"
      },
      "execution_count": null,
      "outputs": [
        {
          "output_type": "display_data",
          "data": {
            "text/plain": [
              "<Figure size 800x600 with 1 Axes>"
            ],
            "image/png": "[encoded data removed]"
          },
          "metadata": {}
        }
      ]
    },
    {
      "cell_type": "markdown",
      "source": [
        "#44.Train a Stacking Classifier with Random Forest and Logistic Regression and compare accuracy?data = load_breast_cancer()\n"
      ],
      "metadata": {
        "id": "iytLTQP9hTez"
      }
    },
    {
      "cell_type": "code",
      "source": [
        "data = load_breast_cancer()\n",
        "X, y = data.data, data.target\n",
        "\n",
        "# Split into train/test\n",
        "X_train, X_test, y_train, y_test = train_test_split(X, y, test_size=0.3, random_state=42)\n",
        "\n",
        "# Base models\n",
        "rf = RandomForestClassifier(random_state=42)\n",
        "lr = LogisticRegression(max_iter=1000, random_state=42)\n",
        "\n",
        "# Stacking Classifier\n",
        "stack = StackingClassifier(\n",
        "    estimators=[('rf', rf), ('lr', lr)],\n",
        "    final_estimator=LogisticRegression(max_iter=1000),\n",
        "    passthrough=True\n",
        ")\n",
        "\n",
        "# Train models\n",
        "rf.fit(X_train, y_train)\n",
        "lr.fit(X_train, y_train)\n",
        "stack.fit(X_train, y_train)\n",
        "\n",
        "# Predict and evaluate\n",
        "y_pred_rf = rf.predict(X_test)\n",
        "y_pred_lr = lr.predict(X_test)\n",
        "y_pred_stack = stack.predict(X_test)\n",
        "\n",
        "# Accuracy\n",
        "acc_rf = accuracy_score(y_test, y_pred_rf)\n",
        "acc_lr = accuracy_score(y_test, y_pred_lr)\n",
        "acc_stack = accuracy_score(y_test, y_pred_stack)\n",
        "\n",
        "# Print results\n",
        "print(f\"Random Forest Accuracy:        {acc_rf:.4f}\")\n",
        "print(f\"Logistic Regression Accuracy:  {acc_lr:.4f}\")\n",
        "print(f\"Stacking Classifier Accuracy:  {acc_stack:.4f}\")"
      ],
      "metadata": {
        "collapsed": true,
        "colab": {
          "base_uri": "https://localhost:8080/",
          "height": 211
        },
        "id": "YYkkY_rIhhZw",
        "outputId": "30416164-058c-4097-8938-3cd399189783"
      },
      "execution_count": null,
      "outputs": [
        {
          "output_type": "error",
          "ename": "NameError",
          "evalue": "name 'LogisticRegression' is not defined",
          "traceback": [
            "\u001b[0;31m---------------------------------------------------------------------------\u001b[0m",
            "\u001b[0;31mNameError\u001b[0m                                 Traceback (most recent call last)",
            "\u001b[0;32m<ipython-input-5-3239800926>\u001b[0m in \u001b[0;36m<cell line: 0>\u001b[0;34m()\u001b[0m\n\u001b[1;32m      7\u001b[0m \u001b[0;31m# Base models\u001b[0m\u001b[0;34m\u001b[0m\u001b[0;34m\u001b[0m\u001b[0m\n\u001b[1;32m      8\u001b[0m \u001b[0mrf\u001b[0m \u001b[0;34m=\u001b[0m \u001b[0mRandomForestClassifier\u001b[0m\u001b[0;34m(\u001b[0m\u001b[0mrandom_state\u001b[0m\u001b[0;34m=\u001b[0m\u001b[0;36m42\u001b[0m\u001b[0;34m)\u001b[0m\u001b[0;34m\u001b[0m\u001b[0;34m\u001b[0m\u001b[0m\n\u001b[0;32m----> 9\u001b[0;31m \u001b[0mlr\u001b[0m \u001b[0;34m=\u001b[0m \u001b[0mLogisticRegression\u001b[0m\u001b[0;34m(\u001b[0m\u001b[0mmax_iter\u001b[0m\u001b[0;34m=\u001b[0m\u001b[0;36m1000\u001b[0m\u001b[0;34m,\u001b[0m \u001b[0mrandom_state\u001b[0m\u001b[0;34m=\u001b[0m\u001b[0;36m42\u001b[0m\u001b[0;34m)\u001b[0m\u001b[0;34m\u001b[0m\u001b[0;34m\u001b[0m\u001b[0m\n\u001b[0m\u001b[1;32m     10\u001b[0m \u001b[0;34m\u001b[0m\u001b[0m\n\u001b[1;32m     11\u001b[0m \u001b[0;31m# Stacking Classifier\u001b[0m\u001b[0;34m\u001b[0m\u001b[0;34m\u001b[0m\u001b[0m\n",
            "\u001b[0;31mNameError\u001b[0m: name 'LogisticRegression' is not defined"
          ]
        }
      ]
    },
    {
      "cell_type": "markdown",
      "source": [
        "#45.Train a Bagging Regressor with different levels of bootstrap samples and compare performance."
      ],
      "metadata": {
        "id": "91o2kMWLhkfW"
      }
    },
    {
      "cell_type": "code",
      "source": [
        "import numpy as np\n",
        "import matplotlib.pyplot as plt\n",
        "from sklearn.ensemble import BaggingRegressor\n",
        "from sklearn.tree import DecisionTreeRegressor\n",
        "from sklearn.metrics import mean_squared_error\n",
        "from sklearn.model_selection import train_test_split\n",
        "from sklearn.datasets import fetch_california_housing\n",
        "\n",
        "# Load dataset\n",
        "X, y = fetch_california_housing(return_X_y=True)\n",
        "\n",
        "# Split data\n",
        "X_train, X_test, y_train, y_test = train_test_split(X, y, test_size=0.2, random_state=42)\n",
        "\n",
        "# Define sample proportions to test\n",
        "sample_props = [0.4, 0.6, 0.8, 1.0]\n",
        "\n",
        "# Store performance results\n",
        "results = {}\n",
        "\n",
        "# Train and evaluate models\n",
        "for prop in sample_props:\n",
        "    model = BaggingRegressor(\n",
        "        base_estimator=DecisionTreeRegressor(),\n",
        "        n_estimators=100,\n",
        "        max_samples=prop,\n",
        "        random_state=42,\n",
        "        n_jobs=-1\n",
        "    )\n",
        "    model.fit(X_train, y_train)\n",
        "    y_pred = model.predict(X_test)\n",
        "    mse = mean_squared_error(y_test, y_pred)\n",
        "    results[prop] = mse\n",
        "    print(f\"max_samples={prop}: MSE={mse:.4f}\")\n",
        "\n",
        "# Plot results\n",
        "plt.figure(figsize=(8, 5))\n",
        "plt.plot(list(results.keys()), list(results.values()), marker='o')\n",
        "plt.title(\"Bagging Regressor Performance vs. Bootstrap Sample Size\")\n",
        "plt.xlabel(\"max_samples\")\n",
        "plt.ylabel(\"Mean Squared Error\")\n",
        "plt.grid(True)\n",
        "plt.show()"
      ],
      "metadata": {
        "id": "13zkQ2u-iH96"
      },
      "execution_count": null,
      "outputs": []
    }
  ]
}